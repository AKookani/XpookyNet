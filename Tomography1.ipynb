{
  "cells": [
    {
      "cell_type": "code",
      "execution_count": null,
      "metadata": {
        "colab": {
          "base_uri": "https://localhost:8080/"
        },
        "id": "OslNO6nQsypu",
        "outputId": "97ed8451-dd77-4cd6-a601-a17a94e99b62"
      },
      "outputs": [
        {
          "output_type": "stream",
          "name": "stdout",
          "text": [
            "Collecting qiskit\n",
            "  Downloading qiskit-1.1.1-cp38-abi3-manylinux_2_17_x86_64.manylinux2014_x86_64.whl (4.3 MB)\n",
            "\u001b[2K     \u001b[90m━━━━━━━━━━━━━━━━━━━━━━━━━━━━━━━━━━━━━━━━\u001b[0m \u001b[32m4.3/4.3 MB\u001b[0m \u001b[31m1.8 MB/s\u001b[0m eta \u001b[36m0:00:00\u001b[0m\n",
            "\u001b[?25hCollecting rustworkx>=0.14.0 (from qiskit)\n",
            "  Downloading rustworkx-0.15.1-cp38-abi3-manylinux_2_17_x86_64.manylinux2014_x86_64.whl (2.0 MB)\n",
            "\u001b[2K     \u001b[90m━━━━━━━━━━━━━━━━━━━━━━━━━━━━━━━━━━━━━━━━\u001b[0m \u001b[32m2.0/2.0 MB\u001b[0m \u001b[31m1.8 MB/s\u001b[0m eta \u001b[36m0:00:00\u001b[0m\n",
            "\u001b[?25hRequirement already satisfied: numpy<3,>=1.17 in /usr/local/lib/python3.10/dist-packages (from qiskit) (1.25.2)\n",
            "Requirement already satisfied: scipy>=1.5 in /usr/local/lib/python3.10/dist-packages (from qiskit) (1.11.4)\n",
            "Requirement already satisfied: sympy>=1.3 in /usr/local/lib/python3.10/dist-packages (from qiskit) (1.12.1)\n",
            "Collecting dill>=0.3 (from qiskit)\n",
            "  Downloading dill-0.3.8-py3-none-any.whl (116 kB)\n",
            "\u001b[2K     \u001b[90m━━━━━━━━━━━━━━━━━━━━━━━━━━━━━━━━━━━━━━━━\u001b[0m \u001b[32m116.3/116.3 kB\u001b[0m \u001b[31m1.7 MB/s\u001b[0m eta \u001b[36m0:00:00\u001b[0m\n",
            "\u001b[?25hRequirement already satisfied: python-dateutil>=2.8.0 in /usr/local/lib/python3.10/dist-packages (from qiskit) (2.8.2)\n",
            "Collecting stevedore>=3.0.0 (from qiskit)\n",
            "  Downloading stevedore-5.2.0-py3-none-any.whl (49 kB)\n",
            "\u001b[2K     \u001b[90m━━━━━━━━━━━━━━━━━━━━━━━━━━━━━━━━━━━━━━━━\u001b[0m \u001b[32m49.7/49.7 kB\u001b[0m \u001b[31m1.3 MB/s\u001b[0m eta \u001b[36m0:00:00\u001b[0m\n",
            "\u001b[?25hRequirement already satisfied: typing-extensions in /usr/local/lib/python3.10/dist-packages (from qiskit) (4.12.2)\n",
            "Collecting symengine>=0.11 (from qiskit)\n",
            "  Downloading symengine-0.11.0-cp310-cp310-manylinux_2_12_x86_64.manylinux2010_x86_64.whl (39.4 MB)\n",
            "\u001b[2K     \u001b[90m━━━━━━━━━━━━━━━━━━━━━━━━━━━━━━━━━━━━━━━━\u001b[0m \u001b[32m39.4/39.4 MB\u001b[0m \u001b[31m3.0 MB/s\u001b[0m eta \u001b[36m0:00:00\u001b[0m\n",
            "\u001b[?25hRequirement already satisfied: six>=1.5 in /usr/local/lib/python3.10/dist-packages (from python-dateutil>=2.8.0->qiskit) (1.16.0)\n",
            "Collecting pbr!=2.1.0,>=2.0.0 (from stevedore>=3.0.0->qiskit)\n",
            "  Downloading pbr-6.0.0-py2.py3-none-any.whl (107 kB)\n",
            "\u001b[2K     \u001b[90m━━━━━━━━━━━━━━━━━━━━━━━━━━━━━━━━━━━━━━━━\u001b[0m \u001b[32m107.5/107.5 kB\u001b[0m \u001b[31m3.6 MB/s\u001b[0m eta \u001b[36m0:00:00\u001b[0m\n",
            "\u001b[?25hRequirement already satisfied: mpmath<1.4.0,>=1.1.0 in /usr/local/lib/python3.10/dist-packages (from sympy>=1.3->qiskit) (1.3.0)\n",
            "Installing collected packages: symengine, rustworkx, pbr, dill, stevedore, qiskit\n",
            "Successfully installed dill-0.3.8 pbr-6.0.0 qiskit-1.1.1 rustworkx-0.15.1 stevedore-5.2.0 symengine-0.11.0\n"
          ]
        }
      ],
      "source": [
        "# Install necessary packages\n",
        "!pip install qiskit\n",
        "#!pip install qutip==4.7.4\n",
        "\n",
        "import numpy as np\n",
        "import qiskit as qi\n",
        "#import qutip as Q\n",
        "import time\n",
        "import matplotlib.pyplot as plt\n",
        "import tensorflow as tf\n",
        "from tensorflow.keras import models, layers, optimizers, losses, metrics, Input\n",
        "from tensorflow.keras.utils import plot_model\n",
        "from sklearn import metrics as sklearn_metrics  # Renamed sklearn's metrics\n"
      ]
    },
    {
      "cell_type": "code",
      "execution_count": null,
      "metadata": {
        "colab": {
          "base_uri": "https://localhost:8080/",
          "height": 201
        },
        "id": "nDbJDjVrySwb",
        "outputId": "57fe0159-a497-43b7-c4aa-afbc53190f57"
      },
      "outputs": [
        {
          "data": {
            "text/html": [
              "\n",
              "     <input type=\"file\" id=\"files-6483520f-7e3f-4597-a48e-3456ac42c086\" name=\"files[]\" multiple disabled\n",
              "        style=\"border:none\" />\n",
              "     <output id=\"result-6483520f-7e3f-4597-a48e-3456ac42c086\">\n",
              "      Upload widget is only available when the cell has been executed in the\n",
              "      current browser session. Please rerun this cell to enable.\n",
              "      </output>\n",
              "      <script>// Copyright 2017 Google LLC\n",
              "//\n",
              "// Licensed under the Apache License, Version 2.0 (the \"License\");\n",
              "// you may not use this file except in compliance with the License.\n",
              "// You may obtain a copy of the License at\n",
              "//\n",
              "//      http://www.apache.org/licenses/LICENSE-2.0\n",
              "//\n",
              "// Unless required by applicable law or agreed to in writing, software\n",
              "// distributed under the License is distributed on an \"AS IS\" BASIS,\n",
              "// WITHOUT WARRANTIES OR CONDITIONS OF ANY KIND, either express or implied.\n",
              "// See the License for the specific language governing permissions and\n",
              "// limitations under the License.\n",
              "\n",
              "/**\n",
              " * @fileoverview Helpers for google.colab Python module.\n",
              " */\n",
              "(function(scope) {\n",
              "function span(text, styleAttributes = {}) {\n",
              "  const element = document.createElement('span');\n",
              "  element.textContent = text;\n",
              "  for (const key of Object.keys(styleAttributes)) {\n",
              "    element.style[key] = styleAttributes[key];\n",
              "  }\n",
              "  return element;\n",
              "}\n",
              "\n",
              "// Max number of bytes which will be uploaded at a time.\n",
              "const MAX_PAYLOAD_SIZE = 100 * 1024;\n",
              "\n",
              "function _uploadFiles(inputId, outputId) {\n",
              "  const steps = uploadFilesStep(inputId, outputId);\n",
              "  const outputElement = document.getElementById(outputId);\n",
              "  // Cache steps on the outputElement to make it available for the next call\n",
              "  // to uploadFilesContinue from Python.\n",
              "  outputElement.steps = steps;\n",
              "\n",
              "  return _uploadFilesContinue(outputId);\n",
              "}\n",
              "\n",
              "// This is roughly an async generator (not supported in the browser yet),\n",
              "// where there are multiple asynchronous steps and the Python side is going\n",
              "// to poll for completion of each step.\n",
              "// This uses a Promise to block the python side on completion of each step,\n",
              "// then passes the result of the previous step as the input to the next step.\n",
              "function _uploadFilesContinue(outputId) {\n",
              "  const outputElement = document.getElementById(outputId);\n",
              "  const steps = outputElement.steps;\n",
              "\n",
              "  const next = steps.next(outputElement.lastPromiseValue);\n",
              "  return Promise.resolve(next.value.promise).then((value) => {\n",
              "    // Cache the last promise value to make it available to the next\n",
              "    // step of the generator.\n",
              "    outputElement.lastPromiseValue = value;\n",
              "    return next.value.response;\n",
              "  });\n",
              "}\n",
              "\n",
              "/**\n",
              " * Generator function which is called between each async step of the upload\n",
              " * process.\n",
              " * @param {string} inputId Element ID of the input file picker element.\n",
              " * @param {string} outputId Element ID of the output display.\n",
              " * @return {!Iterable<!Object>} Iterable of next steps.\n",
              " */\n",
              "function* uploadFilesStep(inputId, outputId) {\n",
              "  const inputElement = document.getElementById(inputId);\n",
              "  inputElement.disabled = false;\n",
              "\n",
              "  const outputElement = document.getElementById(outputId);\n",
              "  outputElement.innerHTML = '';\n",
              "\n",
              "  const pickedPromise = new Promise((resolve) => {\n",
              "    inputElement.addEventListener('change', (e) => {\n",
              "      resolve(e.target.files);\n",
              "    });\n",
              "  });\n",
              "\n",
              "  const cancel = document.createElement('button');\n",
              "  inputElement.parentElement.appendChild(cancel);\n",
              "  cancel.textContent = 'Cancel upload';\n",
              "  const cancelPromise = new Promise((resolve) => {\n",
              "    cancel.onclick = () => {\n",
              "      resolve(null);\n",
              "    };\n",
              "  });\n",
              "\n",
              "  // Wait for the user to pick the files.\n",
              "  const files = yield {\n",
              "    promise: Promise.race([pickedPromise, cancelPromise]),\n",
              "    response: {\n",
              "      action: 'starting',\n",
              "    }\n",
              "  };\n",
              "\n",
              "  cancel.remove();\n",
              "\n",
              "  // Disable the input element since further picks are not allowed.\n",
              "  inputElement.disabled = true;\n",
              "\n",
              "  if (!files) {\n",
              "    return {\n",
              "      response: {\n",
              "        action: 'complete',\n",
              "      }\n",
              "    };\n",
              "  }\n",
              "\n",
              "  for (const file of files) {\n",
              "    const li = document.createElement('li');\n",
              "    li.append(span(file.name, {fontWeight: 'bold'}));\n",
              "    li.append(span(\n",
              "        `(${file.type || 'n/a'}) - ${file.size} bytes, ` +\n",
              "        `last modified: ${\n",
              "            file.lastModifiedDate ? file.lastModifiedDate.toLocaleDateString() :\n",
              "                                    'n/a'} - `));\n",
              "    const percent = span('0% done');\n",
              "    li.appendChild(percent);\n",
              "\n",
              "    outputElement.appendChild(li);\n",
              "\n",
              "    const fileDataPromise = new Promise((resolve) => {\n",
              "      const reader = new FileReader();\n",
              "      reader.onload = (e) => {\n",
              "        resolve(e.target.result);\n",
              "      };\n",
              "      reader.readAsArrayBuffer(file);\n",
              "    });\n",
              "    // Wait for the data to be ready.\n",
              "    let fileData = yield {\n",
              "      promise: fileDataPromise,\n",
              "      response: {\n",
              "        action: 'continue',\n",
              "      }\n",
              "    };\n",
              "\n",
              "    // Use a chunked sending to avoid message size limits. See b/62115660.\n",
              "    let position = 0;\n",
              "    do {\n",
              "      const length = Math.min(fileData.byteLength - position, MAX_PAYLOAD_SIZE);\n",
              "      const chunk = new Uint8Array(fileData, position, length);\n",
              "      position += length;\n",
              "\n",
              "      const base64 = btoa(String.fromCharCode.apply(null, chunk));\n",
              "      yield {\n",
              "        response: {\n",
              "          action: 'append',\n",
              "          file: file.name,\n",
              "          data: base64,\n",
              "        },\n",
              "      };\n",
              "\n",
              "      let percentDone = fileData.byteLength === 0 ?\n",
              "          100 :\n",
              "          Math.round((position / fileData.byteLength) * 100);\n",
              "      percent.textContent = `${percentDone}% done`;\n",
              "\n",
              "    } while (position < fileData.byteLength);\n",
              "  }\n",
              "\n",
              "  // All done.\n",
              "  yield {\n",
              "    response: {\n",
              "      action: 'complete',\n",
              "    }\n",
              "  };\n",
              "}\n",
              "\n",
              "scope.google = scope.google || {};\n",
              "scope.google.colab = scope.google.colab || {};\n",
              "scope.google.colab._files = {\n",
              "  _uploadFiles,\n",
              "  _uploadFilesContinue,\n",
              "};\n",
              "})(self);\n",
              "</script> "
            ],
            "text/plain": [
              "<IPython.core.display.HTML object>"
            ]
          },
          "metadata": {},
          "output_type": "display_data"
        },
        {
          "name": "stdout",
          "output_type": "stream",
          "text": [
            "Saving kaggle.json to kaggle.json\n",
            "Dataset URL: https://www.kaggle.com/datasets/alikookani/quantangle1\n",
            "License(s): ODbL-1.0\n",
            "Downloading quantangle1.zip to /content\n",
            " 98% 199M/203M [00:02<00:00, 101MB/s] \n",
            "100% 203M/203M [00:02<00:00, 96.2MB/s]\n",
            "Archive:  quantangle1.zip\n",
            "  inflating: train/mydata.csv        \n"
          ]
        }
      ],
      "source": [
        "# Import necessary libraries for file upload and data manipulation\n",
        "from google.colab import files\n",
        "import pandas as pd\n",
        "import numpy as np\n",
        "\n",
        "# Upload the Kaggle API key (kaggle.json) using the \"files\" module\n",
        "files.upload()\n",
        "\n",
        "# Install the Kaggle library\n",
        "!pip install -q kaggle\n",
        "\n",
        "# Create the ~/.kaggle directory and copy the Kaggle API key into it\n",
        "!mkdir ~/.kaggle\n",
        "!cp kaggle.json ~/.kaggle/\n",
        "!chmod 600 ~/.kaggle/kaggle.json\n",
        "\n",
        "# Download the dataset from Kaggle using the Kaggle API\n",
        "!kaggle datasets download -d alikookani/quantangle1\n",
        "\n",
        "# Create a directory to store the downloaded dataset (e.g., 'train')\n",
        "!mkdir train\n",
        "\n",
        "# Unzip the downloaded dataset ('quantangle1.zip') into the 'train' directory\n",
        "!unzip quantangle1.zip -d train\n",
        "\n",
        "# Read the data from a CSV file ('mydata.csv') into a Pandas DataFrame\n",
        "data = pd.read_csv('/content/train/mydata.csv')\n",
        "\n",
        "# Convert the DataFrame to a NumPy array for further processing\n",
        "data = (np.array(data)).astype(complex)"
      ]
    },
    {
      "cell_type": "code",
      "execution_count": null,
      "metadata": {
        "id": "9XwFdxbKKRZB"
      },
      "outputs": [],
      "source": [
        "# Number of samples from each class\n",
        "Samples = 500000\n",
        "# Shuffle the dataset\n",
        "data_temp = np.empty([len(data), 16], dtype=complex)\n",
        "reg_label = np.empty([len(data)], dtype=np.float32)\n",
        "class_label = np.ones(len(data)).astype('int')\n",
        "for i in range(Samples):\n",
        "    data_temp[2 * i, :] = data[i, 0:16]\n",
        "    reg_label[2 * i] = data[i, 17].real\n",
        "    class_label[2 * i] = 0\n",
        "    data_temp[2 * i + 1, :] = data[i + Samples, 0:16]\n",
        "    reg_label[2 * i + 1] = data[i + Samples, 17].real"
      ]
    },
    {
      "cell_type": "code",
      "execution_count": null,
      "metadata": {
        "id": "HqWwmBtHOTgt"
      },
      "outputs": [],
      "source": [
        "class_label = tf.keras.utils.to_categorical(class_label)"
      ]
    },
    {
      "cell_type": "code",
      "execution_count": null,
      "metadata": {
        "id": "vw5mxyyiYOnT"
      },
      "outputs": [],
      "source": [
        "sigma_z = qi.quantum_info.Pauli('Z').to_matrix()\n",
        "sigma_x = qi.quantum_info.Pauli('X').to_matrix()\n",
        "sigma_y = qi.quantum_info.Pauli('Y').to_matrix()\n",
        "identity = (np.eye(2)).astype(complex)\n",
        "IX = np.kron(identity, sigma_x)\n",
        "IY = np.kron(identity, sigma_y)\n",
        "IZ = np.kron(identity, sigma_z)\n",
        "XI = np.kron(sigma_x, identity)\n",
        "XX = np.kron(sigma_x, sigma_x)\n",
        "XY = np.kron(sigma_x, sigma_y)\n",
        "XZ = np.kron(sigma_x, sigma_z)\n",
        "YI = np.kron(sigma_y, identity)\n",
        "YX = np.kron(sigma_y, sigma_x)\n",
        "YY = np.kron(sigma_y, sigma_y)\n",
        "YZ = np.kron(sigma_y, sigma_z)\n",
        "ZI = np.kron(sigma_z, identity)\n",
        "ZX = np.kron(sigma_z, sigma_x)\n",
        "ZY = np.kron(sigma_z, sigma_y)\n",
        "ZZ = np.kron(sigma_z, sigma_z)"
      ]
    },
    {
      "cell_type": "code",
      "execution_count": null,
      "metadata": {
        "id": "1MDTMcTD953H"
      },
      "outputs": [],
      "source": [
        "# Separating real and imaginary values\n",
        "data_temp = data_temp.reshape(len(data), 16)\n",
        "vector2 = np.empty([len(data), 32], dtype=np.float32)\n",
        "for i in range(len(data)):\n",
        "    for j in range(16):\n",
        "        vector2[i, 2 * j] = data_temp[i, j].real\n",
        "        vector2[i, 2 * j + 1] = data_temp[i, j].imag\n",
        "# Reshaping to 3D tensors\n",
        "tensor = vector2.reshape(len(data), 4, 4, 2)"
      ]
    },
    {
      "cell_type": "code",
      "execution_count": null,
      "metadata": {
        "colab": {
          "base_uri": "https://localhost:8080/"
        },
        "id": "bnQO31Vg8ViB",
        "outputId": "64754c85-1f82-406d-9142-48864b8339b2"
      },
      "outputs": [
        {
          "name": "stdout",
          "output_type": "stream",
          "text": [
            "Model: \"model\"\n",
            "__________________________________________________________________________________________________\n",
            " Layer (type)                Output Shape                 Param #   Connected to                  \n",
            "==================================================================================================\n",
            " input_1 (InputLayer)        [(None, 4, 4, 2)]            0         []                            \n",
            "                                                                                                  \n",
            " conv2d (Conv2D)             (None, 4, 4, 64)             192       ['input_1[0][0]']             \n",
            "                                                                                                  \n",
            " leaky_re_lu (LeakyReLU)     (None, 4, 4, 64)             0         ['conv2d[0][0]']              \n",
            "                                                                                                  \n",
            " conv2d_1 (Conv2D)           (None, 4, 4, 64)             4160      ['leaky_re_lu[0][0]']         \n",
            "                                                                                                  \n",
            " leaky_re_lu_1 (LeakyReLU)   (None, 4, 4, 64)             0         ['conv2d_1[0][0]']            \n",
            "                                                                                                  \n",
            " conv2d_5 (Conv2D)           (None, 3, 3, 128)            32896     ['leaky_re_lu_1[0][0]']       \n",
            "                                                                                                  \n",
            " leaky_re_lu_5 (LeakyReLU)   (None, 3, 3, 128)            0         ['conv2d_5[0][0]']            \n",
            "                                                                                                  \n",
            " conv2d_6 (Conv2D)           (None, 3, 3, 128)            16512     ['leaky_re_lu_5[0][0]']       \n",
            "                                                                                                  \n",
            " leaky_re_lu_6 (LeakyReLU)   (None, 3, 3, 128)            0         ['conv2d_6[0][0]']            \n",
            "                                                                                                  \n",
            " conv2d_8 (Conv2D)           (None, 2, 2, 128)            65664     ['leaky_re_lu_6[0][0]']       \n",
            "                                                                                                  \n",
            " conv2d_4 (Conv2D)           (None, 2, 2, 192)            110784    ['leaky_re_lu_1[0][0]']       \n",
            "                                                                                                  \n",
            " leaky_re_lu_8 (LeakyReLU)   (None, 2, 2, 128)            0         ['conv2d_8[0][0]']            \n",
            "                                                                                                  \n",
            " leaky_re_lu_4 (LeakyReLU)   (None, 2, 2, 192)            0         ['conv2d_4[0][0]']            \n",
            "                                                                                                  \n",
            " concatenate (Concatenate)   (None, 2, 2, 320)            0         ['leaky_re_lu_8[0][0]',       \n",
            "                                                                     'leaky_re_lu_4[0][0]']       \n",
            "                                                                                                  \n",
            " conv2d_9 (Conv2D)           (None, 2, 2, 256)            82176     ['concatenate[0][0]']         \n",
            "                                                                                                  \n",
            " conv2d_2 (Conv2D)           (None, 1, 1, 256)            262400    ['leaky_re_lu_1[0][0]']       \n",
            "                                                                                                  \n",
            " leaky_re_lu_9 (LeakyReLU)   (None, 2, 2, 256)            0         ['conv2d_9[0][0]']            \n",
            "                                                                                                  \n",
            " leaky_re_lu_2 (LeakyReLU)   (None, 1, 1, 256)            0         ['conv2d_2[0][0]']            \n",
            "                                                                                                  \n",
            " conv2d_10 (Conv2D)          (None, 1, 1, 256)            262400    ['leaky_re_lu_9[0][0]']       \n",
            "                                                                                                  \n",
            " conv2d_3 (Conv2D)           (None, 1, 1, 128)            32896     ['leaky_re_lu_2[0][0]']       \n",
            "                                                                                                  \n",
            " leaky_re_lu_10 (LeakyReLU)  (None, 1, 1, 256)            0         ['conv2d_10[0][0]']           \n",
            "                                                                                                  \n",
            " leaky_re_lu_3 (LeakyReLU)   (None, 1, 1, 128)            0         ['conv2d_3[0][0]']            \n",
            "                                                                                                  \n",
            " concatenate_1 (Concatenate  (None, 1, 1, 384)            0         ['leaky_re_lu_10[0][0]',      \n",
            " )                                                                   'leaky_re_lu_3[0][0]']       \n",
            "                                                                                                  \n",
            " conv2d_11 (Conv2D)          (None, 1, 1, 512)            197120    ['concatenate_1[0][0]']       \n",
            "                                                                                                  \n",
            " conv2d_7 (Conv2D)           (None, 1, 1, 96)             110688    ['leaky_re_lu_6[0][0]']       \n",
            "                                                                                                  \n",
            " leaky_re_lu_11 (LeakyReLU)  (None, 1, 1, 512)            0         ['conv2d_11[0][0]']           \n",
            "                                                                                                  \n",
            " leaky_re_lu_7 (LeakyReLU)   (None, 1, 1, 96)             0         ['conv2d_7[0][0]']            \n",
            "                                                                                                  \n",
            " concatenate_2 (Concatenate  (None, 1, 1, 608)            0         ['leaky_re_lu_11[0][0]',      \n",
            " )                                                                   'leaky_re_lu_7[0][0]']       \n",
            "                                                                                                  \n",
            " conv2d_12 (Conv2D)          (None, 1, 1, 512)            311808    ['concatenate_2[0][0]']       \n",
            "                                                                                                  \n",
            " leaky_re_lu_12 (LeakyReLU)  (None, 1, 1, 512)            0         ['conv2d_12[0][0]']           \n",
            "                                                                                                  \n",
            " conv2d_13 (Conv2D)          (None, 1, 1, 512)            262656    ['leaky_re_lu_12[0][0]']      \n",
            "                                                                                                  \n",
            " leaky_re_lu_13 (LeakyReLU)  (None, 1, 1, 512)            0         ['conv2d_13[0][0]']           \n",
            "                                                                                                  \n",
            " flatten (Flatten)           (None, 512)                  0         ['leaky_re_lu_13[0][0]']      \n",
            "                                                                                                  \n",
            " dense (Dense)               (None, 512)                  262656    ['flatten[0][0]']             \n",
            "                                                                                                  \n",
            " leaky_re_lu_14 (LeakyReLU)  (None, 512)                  0         ['dense[0][0]']               \n",
            "                                                                                                  \n",
            " dense_1 (Dense)             (None, 2)                    1026      ['leaky_re_lu_14[0][0]']      \n",
            "                                                                                                  \n",
            " classification (Activation  (None, 2)                    0         ['dense_1[0][0]']             \n",
            " )                                                                                                \n",
            "                                                                                                  \n",
            "==================================================================================================\n",
            "Total params: 2016034 (7.69 MB)\n",
            "Trainable params: 2016034 (7.69 MB)\n",
            "Non-trainable params: 0 (0.00 Byte)\n",
            "__________________________________________________________________________________________________\n"
          ]
        }
      ],
      "source": [
        "#XpookyNet Model\n",
        "\n",
        "input_tensor = Input(shape=(4, 4, 2))\n",
        "layer1 = layers.Conv2D(64, 1)(input_tensor)\n",
        "#layer1 = layers.BatchNormalization()(layer1)\n",
        "layer1 = layers.LeakyReLU()(layer1)\n",
        "layer2 = layers.Conv2D(64, 1)(layer1)\n",
        "#layer2 = layers.BatchNormalization()(layer2)\n",
        "layer2 = layers.LeakyReLU()(layer2)\n",
        "branch_a = layers.Conv2D(256, 4)(layer2)\n",
        "#branch_a = layers.BatchNormalization()(branch_a)\n",
        "branch_a = layers.LeakyReLU()(branch_a)\n",
        "branch_a = layers.Conv2D(128, 1)(branch_a)\n",
        "#branch_a = layers.BatchNormalization()(branch_a)\n",
        "branch_a = layers.LeakyReLU()(branch_a)\n",
        "branch_b = layers.Conv2D(192, 3)(layer2)\n",
        "#branch_b = layers.BatchNormalization()(branch_b)\n",
        "branch_b = layers.LeakyReLU()(branch_b)\n",
        "layer3 = layers.Conv2D(128, 2)(layer2)\n",
        "#layer3 = layers.BatchNormalization()(layer3)\n",
        "layer3 = layers.LeakyReLU()(layer3)\n",
        "layer4 = layers.Conv2D(128, 1)(layer3)\n",
        "#layer4 = layers.BatchNormalization()(layer4)\n",
        "layer4 = layers.LeakyReLU()(layer4)\n",
        "branch_c = layers.Conv2D(96, 3)(layer4)\n",
        "#branch_c = layers.BatchNormalization()(branch_c)\n",
        "branch_c = layers.LeakyReLU()(branch_c)\n",
        "layer5 = layers.Conv2D(128, 2)(layer4)\n",
        "#layer5 = layers.BatchNormalization()(layer5)\n",
        "layer5 = layers.LeakyReLU()(layer5)\n",
        "layer5 = layers.concatenate([layer5, branch_b], axis=-1)\n",
        "layer6 = layers.Conv2D(256, 1)(layer5)\n",
        "#layer6 = layers.BatchNormalization()(layer6)\n",
        "layer6 = layers.LeakyReLU()(layer6)\n",
        "layer7 = layers.Conv2D(256, 2)(layer6)\n",
        "#layer7 = layers.BatchNormalization()(layer7)\n",
        "layer7 = layers.LeakyReLU()(layer7)\n",
        "layer7 = layers.concatenate([layer7, branch_a], axis=-1)\n",
        "layer8 = layers.Conv2D(512, 1)(layer7)\n",
        "#layer8 = layers.BatchNormalization()(layer8)\n",
        "layer8 = layers.LeakyReLU()(layer8)\n",
        "layer8 = layers.concatenate([layer8, branch_c], axis=-1)\n",
        "layer9 = layers.Conv2D(512, 1)(layer8)\n",
        "#layer9 = layers.BatchNormalization()(layer9)\n",
        "layer9 = layers.LeakyReLU()(layer9)\n",
        "layer10 = layers.Conv2D(512, 1)(layer9)\n",
        "#layer10 = layers.BatchNormalization()(layer10)\n",
        "layer10 = layers.LeakyReLU()(layer10)\n",
        "top1 = layers.Flatten()(layer10)\n",
        "top1 = layers.Dense(512)(top1)\n",
        "#top1 = layers.BatchNormalization()(top1)\n",
        "top1 = layers.LeakyReLU()(top1)\n",
        "\n",
        "#top2 = layers.Dense(1, name='regression')(top1)\n",
        "\n",
        "top3 = layers.Dense(2)(top1)\n",
        "#top3 = layers.BatchNormalization()(top3)\n",
        "top3 = layers.Activation('softmax', name='classification')(top3)\n",
        "\n",
        "#model = models.Model(input_tensor, [top2, top3])\n",
        "model = models.Model(input_tensor, top3)\n",
        "#model = models.Model(input_tensor, top2)\n",
        "model.summary()"
      ]
    },
    {
      "cell_type": "code",
      "execution_count": null,
      "metadata": {
        "colab": {
          "base_uri": "https://localhost:8080/"
        },
        "id": "cVMwsbO3W2vC",
        "outputId": "1053b034-4d95-4d36-dfac-af4766382092"
      },
      "outputs": [
        {
          "name": "stdout",
          "output_type": "stream",
          "text": [
            "Epoch 1/4\n",
            "7840/7840 [==============================] - 71s 8ms/step - loss: 0.3016 - categorical_accuracy: 0.8559 - val_loss: 0.1742 - val_categorical_accuracy: 0.9248\n",
            "Epoch 2/4\n",
            "7840/7840 [==============================] - 66s 8ms/step - loss: 0.1472 - categorical_accuracy: 0.9355 - val_loss: 0.1259 - val_categorical_accuracy: 0.9432\n",
            "Epoch 3/4\n",
            "7840/7840 [==============================] - 64s 8ms/step - loss: 0.1137 - categorical_accuracy: 0.9506 - val_loss: 0.1309 - val_categorical_accuracy: 0.9435\n",
            "Epoch 4/4\n",
            "7840/7840 [==============================] - 63s 8ms/step - loss: 0.1001 - categorical_accuracy: 0.9567 - val_loss: 0.1008 - val_categorical_accuracy: 0.9570\n"
          ]
        }
      ],
      "source": [
        "# Compile the model\n",
        "callback_list = [\n",
        "                 tf.keras.callbacks.ModelCheckpoint(\n",
        "                     filepath = 'two_Qbit_LessTomogrophy.keras',\n",
        "                     monitor = 'val_loss',\n",
        "                     save_best_only = True,\n",
        "                 )\n",
        "]\n",
        "\n",
        "model.compile(\n",
        "    optimizer = optimizers.SGD(\n",
        "        learning_rate = 0.01, momentum = 0.9,\n",
        "    ),\n",
        "    loss = {\n",
        "#        'regression': losses.mse\n",
        "        'classification': losses.categorical_crossentropy\n",
        "        },\n",
        "    metrics = {\n",
        "#        'regression': metrics.mae\n",
        "        'classification': metrics.categorical_accuracy\n",
        "        }\n",
        ")\n",
        "\n",
        "history1 = model.fit(\n",
        "    tensor[:len(data)-20000, :, :, :],\n",
        "    {#'regression': reg_label[:len(data)-20000]\n",
        "     'classification': class_label[:len(data)-20000]\n",
        "     },\n",
        "    batch_size = 125,\n",
        "    epochs = 4,\n",
        "    callbacks = callback_list,\n",
        "    validation_data = (tensor[len(data)-20000:len(data)-10000, :, :, :],\n",
        "                     {#'regression': reg_label[len(data)-20000:len(data)-10000]\n",
        "                      'classification': class_label[len(data)-20000:len(data)-10000]\n",
        "                      }\n",
        "                     ),\n",
        ")"
      ]
    },
    {
      "cell_type": "code",
      "execution_count": null,
      "metadata": {
        "colab": {
          "base_uri": "https://localhost:8080/"
        },
        "id": "ovAughkPX7Q1",
        "outputId": "08060c07-cf49-41ae-da03-0dad7e42aa77"
      },
      "outputs": [
        {
          "name": "stdout",
          "output_type": "stream",
          "text": [
            "Epoch 1/3\n",
            "7840/7840 [==============================] - 69s 8ms/step - loss: 0.0475 - categorical_accuracy: 0.9809 - val_loss: 0.0506 - val_categorical_accuracy: 0.9786\n",
            "Epoch 2/3\n",
            "7840/7840 [==============================] - 65s 8ms/step - loss: 0.0411 - categorical_accuracy: 0.9827 - val_loss: 0.0509 - val_categorical_accuracy: 0.9777\n",
            "Epoch 3/3\n",
            "7840/7840 [==============================] - 64s 8ms/step - loss: 0.0386 - categorical_accuracy: 0.9838 - val_loss: 0.0513 - val_categorical_accuracy: 0.9789\n"
          ]
        }
      ],
      "source": [
        "#First manual reduction in learning rate\n",
        "model.compile(\n",
        "    optimizer=optimizers.SGD(\n",
        "        learning_rate=0.001, momentum=0.9,\n",
        "    ),\n",
        "    loss = {\n",
        "#        'regression': losses.mse\n",
        "        'classification': losses.categorical_crossentropy\n",
        "        },\n",
        "    metrics = {\n",
        "#        'regression': metrics.mae\n",
        "        'classification': metrics.categorical_accuracy\n",
        "        }\n",
        ")\n",
        "\n",
        "history2 = model.fit(\n",
        "    tensor[:len(data)-20000, :, :, :],\n",
        "    {#'regression': reg_label[:len(data)-20000]\n",
        "     'classification': class_label[:len(data)-20000]\n",
        "     },\n",
        "    batch_size = 125,\n",
        "    epochs = 3,\n",
        "    callbacks = callback_list,\n",
        "    validation_data = (tensor[len(data)-20000:len(data)-10000, :, :, :],\n",
        "                     {#'regression': reg_label[len(data)-20000:len(data)-10000]\n",
        "                      'classification': class_label[len(data)-20000:len(data)-10000]\n",
        "                      }\n",
        "                     ),\n",
        ")"
      ]
    },
    {
      "cell_type": "code",
      "execution_count": null,
      "metadata": {
        "colab": {
          "base_uri": "https://localhost:8080/"
        },
        "id": "r4t5aoMqb6T-",
        "outputId": "d7d50e67-41a8-4a73-c915-a175a9f1c593"
      },
      "outputs": [
        {
          "name": "stdout",
          "output_type": "stream",
          "text": [
            "Epoch 1/2\n",
            "7840/7840 [==============================] - 68s 8ms/step - loss: 0.0288 - categorical_accuracy: 0.9888 - val_loss: 0.0424 - val_categorical_accuracy: 0.9823\n",
            "Epoch 2/2\n",
            "7840/7840 [==============================] - 64s 8ms/step - loss: 0.0277 - categorical_accuracy: 0.9892 - val_loss: 0.0434 - val_categorical_accuracy: 0.9813\n"
          ]
        }
      ],
      "source": [
        "#Second manual reduction in learning rate\n",
        "model.compile(\n",
        "    optimizer=optimizers.SGD(\n",
        "        learning_rate=0.0001, momentum=0.9,\n",
        "    ),\n",
        "    loss = {\n",
        "#        'regression': losses.mse\n",
        "        'classification': losses.categorical_crossentropy\n",
        "        },\n",
        "    metrics = {\n",
        "#        'regression': metrics.mae\n",
        "        'classification': metrics.categorical_accuracy\n",
        "        }\n",
        ")\n",
        "\n",
        "history3 = model.fit(\n",
        "    tensor[:len(data)-20000, :, :, :],\n",
        "    {#'regression': reg_label[:len(data)-20000]\n",
        "     'classification': class_label[:len(data)-20000]\n",
        "     },\n",
        "    batch_size = 125,\n",
        "    epochs = 2,\n",
        "    callbacks = callback_list,\n",
        "    validation_data = (tensor[len(data)-20000:len(data)-10000, :, :, :],\n",
        "                     {#'regression': reg_label[len(data)-20000:len(data)-10000]\n",
        "                      'classification': class_label[len(data)-20000:len(data)-10000]\n",
        "                      }\n",
        "                     ),\n",
        ")"
      ]
    },
    {
      "cell_type": "code",
      "execution_count": null,
      "metadata": {
        "colab": {
          "base_uri": "https://localhost:8080/"
        },
        "id": "cFNx5LbC-8qH",
        "outputId": "fabcd771-a1d0-4bb3-d423-6d3d2382fef6"
      },
      "outputs": [
        {
          "name": "stdout",
          "output_type": "stream",
          "text": [
            "313/313 [==============================] - 2s 5ms/step - loss: 0.0379 - categorical_accuracy: 0.9850\n"
          ]
        },
        {
          "data": {
            "text/plain": [
              "[0.03792877867817879, 0.9850000143051147]"
            ]
          },
          "execution_count": 11,
          "metadata": {},
          "output_type": "execute_result"
        }
      ],
      "source": [
        "# Evaluate the model using TensorFlow/Keras metrics\n",
        "model.evaluate(tensor[len(data)-10000:len(data), :, :, :], #{'regression': reg_label[len(data)-10000:len(data)],\n",
        "                                                     #'classification':\n",
        "                    class_label[len(data)-10000:len(data)]\n",
        "                    #}\n",
        "                    )"
      ]
    },
    {
      "cell_type": "code",
      "execution_count": null,
      "metadata": {
        "id": "xLEgqE4wTAVm"
      },
      "outputs": [],
      "source": [
        "data_temp = data_temp.reshape(len(data), 4, 4) #length data and data_temp are the same so used the shorter name"
      ]
    },
    {
      "cell_type": "code",
      "execution_count": null,
      "metadata": {
        "id": "M-OMf3oKP7y9"
      },
      "outputs": [],
      "source": [
        "IX_removed = np.empty([len(data_temp), 4, 4], dtype=complex)\n",
        "for i in range(len(data_temp)):\n",
        "  IX_removed[i, :, :] = (data_temp[i, :, :]) - (np.trace(np.matmul((data_temp[i, :, :]), IX))/4 * IX)"
      ]
    },
    {
      "cell_type": "code",
      "execution_count": null,
      "metadata": {
        "id": "K3tTlou1q2QF"
      },
      "outputs": [],
      "source": [
        "IX_removed = IX_removed.reshape(len(data_temp), 16)"
      ]
    },
    {
      "cell_type": "code",
      "execution_count": null,
      "metadata": {
        "id": "L9lnFoA1hW-Y"
      },
      "outputs": [],
      "source": [
        "# Separating real and imaginary values\n",
        "vector1 = np.empty([len(data), 32], dtype=np.float32)\n",
        "for i in range(len(data)):\n",
        "    for j in range(16):\n",
        "        vector1[i, 2 * j] = IX_removed[i, j].real\n",
        "        vector1[i, 2 * j + 1] = IX_removed[i, j].imag\n",
        "# Reshaping to 3D tensors\n",
        "tensor = vector1.reshape(len(data), 4, 4, 2)"
      ]
    },
    {
      "cell_type": "code",
      "execution_count": null,
      "metadata": {
        "colab": {
          "base_uri": "https://localhost:8080/"
        },
        "id": "4n8_loazAC5t",
        "outputId": "e1037d11-d17c-4979-f576-f838632f7987"
      },
      "outputs": [
        {
          "name": "stdout",
          "output_type": "stream",
          "text": [
            "Epoch 1/2\n",
            "7840/7840 [==============================] - 67s 8ms/step - loss: 0.1785 - categorical_accuracy: 0.9290 - val_loss: 0.1648 - val_categorical_accuracy: 0.9343\n",
            "Epoch 2/2\n",
            "7840/7840 [==============================] - 64s 8ms/step - loss: 0.1640 - categorical_accuracy: 0.9351 - val_loss: 0.1586 - val_categorical_accuracy: 0.9372\n"
          ]
        }
      ],
      "source": [
        "model.compile(\n",
        "    optimizer = optimizers.SGD(\n",
        "        learning_rate = 0.01, momentum = 0.9,\n",
        "    ),\n",
        "    loss = {\n",
        "#        'regression': losses.mse\n",
        "        'classification': losses.categorical_crossentropy\n",
        "        },\n",
        "    metrics = {\n",
        "#        'regression': metrics.mae\n",
        "        'classification': metrics.categorical_accuracy\n",
        "        }\n",
        ")\n",
        "\n",
        "history1 = model.fit(\n",
        "    tensor[:len(data)-20000, :, :, :],\n",
        "    {#'regression': reg_label[:len(data)-20000]\n",
        "     'classification': class_label[:len(data)-20000]\n",
        "     },\n",
        "    batch_size = 125,\n",
        "    epochs = 2,\n",
        "    callbacks = callback_list,\n",
        "    validation_data = (tensor[len(data)-20000:len(data)-10000, :, :, :],\n",
        "                     {#'regression': reg_label[len(data)-20000:len(data)-10000]\n",
        "                      'classification': class_label[len(data)-20000:len(data)-10000]\n",
        "                      }\n",
        "                     ),\n",
        ")"
      ]
    },
    {
      "cell_type": "code",
      "execution_count": null,
      "metadata": {
        "colab": {
          "base_uri": "https://localhost:8080/"
        },
        "id": "OEjECVxCBniH",
        "outputId": "e46d8c4a-56a4-4200-9779-456252c722e0"
      },
      "outputs": [
        {
          "name": "stdout",
          "output_type": "stream",
          "text": [
            "7840/7840 [==============================] - 67s 8ms/step - loss: 0.1414 - categorical_accuracy: 0.9471 - val_loss: 0.1447 - val_categorical_accuracy: 0.9449\n"
          ]
        }
      ],
      "source": [
        "#First manual reduction in learning rate\n",
        "model.compile(\n",
        "    optimizer=optimizers.SGD(\n",
        "        learning_rate=0.001, momentum=0.9,\n",
        "    ),\n",
        "    loss = {\n",
        "#        'regression': losses.mse\n",
        "        'classification': losses.categorical_crossentropy\n",
        "        },\n",
        "    metrics = {\n",
        "#        'regression': metrics.mae\n",
        "        'classification': metrics.categorical_accuracy\n",
        "        }\n",
        ")\n",
        "\n",
        "history2 = model.fit(\n",
        "    tensor[:len(data)-20000, :, :, :],\n",
        "    {#'regression': reg_label[:len(data)-20000]\n",
        "     'classification': class_label[:len(data)-20000]\n",
        "     },\n",
        "    batch_size = 125,\n",
        "    epochs = 1,\n",
        "    callbacks = callback_list,\n",
        "    validation_data = (tensor[len(data)-20000:len(data)-10000, :, :, :],\n",
        "                     {#'regression': reg_label[len(data)-20000:len(data)-10000]\n",
        "                      'classification': class_label[len(data)-20000:len(data)-10000]\n",
        "                      }\n",
        "                     ),\n",
        ")"
      ]
    },
    {
      "cell_type": "code",
      "execution_count": null,
      "metadata": {
        "colab": {
          "base_uri": "https://localhost:8080/"
        },
        "id": "vF_tLzyjBxaQ",
        "outputId": "b60dd628-10b4-4c02-d558-bbb17ca9665c"
      },
      "outputs": [
        {
          "name": "stdout",
          "output_type": "stream",
          "text": [
            "313/313 [==============================] - 1s 3ms/step - loss: 0.1503 - categorical_accuracy: 0.9429\n"
          ]
        },
        {
          "data": {
            "text/plain": [
              "[0.1503078192472458, 0.9429000020027161]"
            ]
          },
          "execution_count": 18,
          "metadata": {},
          "output_type": "execute_result"
        }
      ],
      "source": [
        "# Evaluate the model using TensorFlow/Keras metrics\n",
        "model.evaluate(tensor[len(data)-10000:len(data), :, :, :], #{'regression': reg_label[len(data)-10000:len(data)],\n",
        "                                                     #'classification':\n",
        "                    class_label[len(data)-10000:len(data)]\n",
        "                    #}\n",
        "                    )"
      ]
    },
    {
      "cell_type": "code",
      "execution_count": null,
      "metadata": {
        "id": "_Y22_NWdB3K5"
      },
      "outputs": [],
      "source": [
        "IX_removed = IX_removed.reshape([len(data_temp), 4, 4])\n",
        "IX_IY_removed = np.empty([len(data_temp), 4, 4], dtype=complex)\n",
        "for i in range(len(data_temp)):\n",
        "  IX_IY_removed[i, :, :] = IX_removed[i, :, :] - (np.trace(np.matmul((data_temp[i, :, :]), IY))/4 * IY)"
      ]
    },
    {
      "cell_type": "code",
      "execution_count": null,
      "metadata": {
        "id": "YIU4d3JGB9Ie"
      },
      "outputs": [],
      "source": [
        "IX_IY_removed = IX_IY_removed.reshape(len(data_temp), 16)"
      ]
    },
    {
      "cell_type": "code",
      "execution_count": null,
      "metadata": {
        "id": "PSSVZNdPCU6J"
      },
      "outputs": [],
      "source": [
        "# Separating real and imaginary values\n",
        "vector1 = np.empty([len(data), 32], dtype=np.float32)\n",
        "for i in range(len(data)):\n",
        "    for j in range(16):\n",
        "        vector1[i, 2 * j] = IX_IY_removed[i, j].real\n",
        "        vector1[i, 2 * j + 1] = IX_IY_removed[i, j].imag\n",
        "# Reshaping to 3D tensors\n",
        "del IX_removed\n",
        "tensor = vector1.reshape(len(data), 4, 4, 2)"
      ]
    },
    {
      "cell_type": "code",
      "execution_count": null,
      "metadata": {
        "colab": {
          "base_uri": "https://localhost:8080/"
        },
        "id": "Su-ElRewCkL5",
        "outputId": "3d85c719-dced-4498-b16b-577207ea88a2"
      },
      "outputs": [
        {
          "name": "stdout",
          "output_type": "stream",
          "text": [
            "7840/7840 [==============================] - 67s 8ms/step - loss: 0.2237 - categorical_accuracy: 0.9058 - val_loss: 0.2146 - val_categorical_accuracy: 0.9082\n"
          ]
        }
      ],
      "source": [
        "model.compile(\n",
        "    optimizer = optimizers.SGD(\n",
        "        learning_rate = 0.01, momentum = 0.9,\n",
        "    ),\n",
        "    loss = {\n",
        "#        'regression': losses.mse\n",
        "        'classification': losses.categorical_crossentropy\n",
        "        },\n",
        "    metrics = {\n",
        "#        'regression': metrics.mae\n",
        "        'classification': metrics.categorical_accuracy\n",
        "        }\n",
        ")\n",
        "\n",
        "history1 = model.fit(\n",
        "    tensor[:len(data)-20000, :, :, :],\n",
        "    {#'regression': reg_label[:len(data)-20000]\n",
        "     'classification': class_label[:len(data)-20000]\n",
        "     },\n",
        "    batch_size = 125,\n",
        "    epochs = 1,\n",
        "    callbacks = callback_list,\n",
        "    validation_data = (tensor[len(data)-20000:len(data)-10000, :, :, :],\n",
        "                     {#'regression': reg_label[len(data)-20000:len(data)-10000]\n",
        "                      'classification': class_label[len(data)-20000:len(data)-10000]\n",
        "                      }\n",
        "                     ),\n",
        ")"
      ]
    },
    {
      "cell_type": "code",
      "execution_count": null,
      "metadata": {
        "colab": {
          "base_uri": "https://localhost:8080/"
        },
        "id": "HMcy5XhBCtl7",
        "outputId": "f5aa55ac-80ba-4582-c049-2cd3968fd7c2"
      },
      "outputs": [
        {
          "name": "stdout",
          "output_type": "stream",
          "text": [
            "313/313 [==============================] - 1s 4ms/step - loss: 0.2281 - categorical_accuracy: 0.9021\n"
          ]
        },
        {
          "data": {
            "text/plain": [
              "[0.22813740372657776, 0.9021000266075134]"
            ]
          },
          "execution_count": 23,
          "metadata": {},
          "output_type": "execute_result"
        }
      ],
      "source": [
        "# Evaluate the model using TensorFlow/Keras metrics\n",
        "model.evaluate(tensor[len(data)-10000:len(data), :, :, :], #{'regression': reg_label[len(data)-10000:len(data)],\n",
        "                                                     #'classification':\n",
        "                    class_label[len(data)-10000:len(data)]\n",
        "                    #}\n",
        "                    )"
      ]
    },
    {
      "cell_type": "code",
      "execution_count": null,
      "metadata": {
        "id": "w7Gu5uUoC1C8"
      },
      "outputs": [],
      "source": [
        "IX_IY_removed = IX_IY_removed.reshape([len(data_temp), 4, 4])\n",
        "IX_IY_XI_removed = np.empty([len(data_temp), 4, 4], dtype=complex)\n",
        "for i in range(len(data_temp)):\n",
        "  IX_IY_XI_removed[i, :, :] = (IX_IY_removed[i, :, :]) - (np.trace(np.matmul((data_temp[i, :, :]), XI))/4 * XI)"
      ]
    },
    {
      "cell_type": "code",
      "execution_count": null,
      "metadata": {
        "id": "t6UT2LkQC4iv"
      },
      "outputs": [],
      "source": [
        "IX_IY_XI_removed = IX_IY_XI_removed.reshape(len(data_temp), 16)"
      ]
    },
    {
      "cell_type": "code",
      "execution_count": null,
      "metadata": {
        "id": "sDBuGGusDXCY"
      },
      "outputs": [],
      "source": [
        "# Separating real and imaginary values\n",
        "vector1 = np.empty([len(data), 32], dtype=np.float32)\n",
        "for i in range(len(data)):\n",
        "    for j in range(16):\n",
        "        vector1[i, 2 * j] = IX_IY_XI_removed[i, j].real\n",
        "        vector1[i, 2 * j + 1] = IX_IY_XI_removed[i, j].imag\n",
        "# Reshaping to 3D tensors\n",
        "del IX_IY_removed\n",
        "tensor = vector1.reshape(len(data), 4, 4, 2)"
      ]
    },
    {
      "cell_type": "code",
      "execution_count": null,
      "metadata": {
        "colab": {
          "base_uri": "https://localhost:8080/"
        },
        "id": "pZP1pePBETv2",
        "outputId": "09ff04ff-6e49-43d1-c004-0e388fd4c82f"
      },
      "outputs": [
        {
          "name": "stdout",
          "output_type": "stream",
          "text": [
            "7840/7840 [==============================] - 67s 8ms/step - loss: 0.2455 - categorical_accuracy: 0.8934 - val_loss: 0.2416 - val_categorical_accuracy: 0.8972\n"
          ]
        }
      ],
      "source": [
        "model.compile(\n",
        "    optimizer = optimizers.SGD(\n",
        "        learning_rate = 0.01, momentum = 0.9,\n",
        "    ),\n",
        "    loss = {\n",
        "#        'regression': losses.mse\n",
        "        'classification': losses.categorical_crossentropy\n",
        "        },\n",
        "    metrics = {\n",
        "#        'regression': metrics.mae\n",
        "        'classification': metrics.categorical_accuracy\n",
        "        }\n",
        ")\n",
        "\n",
        "history1 = model.fit(\n",
        "    tensor[:len(data)-20000, :, :, :],\n",
        "    {#'regression': reg_label[:len(data)-20000]\n",
        "     'classification': class_label[:len(data)-20000]\n",
        "     },\n",
        "    batch_size = 125,\n",
        "    epochs = 1,\n",
        "    callbacks = callback_list,\n",
        "    validation_data = (tensor[len(data)-20000:len(data)-10000, :, :, :],\n",
        "                     {#'regression': reg_label[len(data)-20000:len(data)-10000]\n",
        "                      'classification': class_label[len(data)-20000:len(data)-10000]\n",
        "                      }\n",
        "                     ),\n",
        ")"
      ]
    },
    {
      "cell_type": "code",
      "execution_count": null,
      "metadata": {
        "colab": {
          "base_uri": "https://localhost:8080/"
        },
        "id": "4KtusS9qEWLm",
        "outputId": "a8d536fd-f8c4-4b73-8945-0f34bc9dc2f1"
      },
      "outputs": [
        {
          "name": "stdout",
          "output_type": "stream",
          "text": [
            "7840/7840 [==============================] - 67s 8ms/step - loss: 0.2319 - categorical_accuracy: 0.8994 - val_loss: 0.2349 - val_categorical_accuracy: 0.9002\n"
          ]
        }
      ],
      "source": [
        "#First manual reduction in learning rate\n",
        "model.compile(\n",
        "    optimizer=optimizers.SGD(\n",
        "        learning_rate=0.001, momentum=0.9,\n",
        "    ),\n",
        "    loss = {\n",
        "#        'regression': losses.mse\n",
        "        'classification': losses.categorical_crossentropy\n",
        "        },\n",
        "    metrics = {\n",
        "#        'regression': metrics.mae\n",
        "        'classification': metrics.categorical_accuracy\n",
        "        }\n",
        ")\n",
        "\n",
        "history2 = model.fit(\n",
        "    tensor[:len(data)-20000, :, :, :],\n",
        "    {#'regression': reg_label[:len(data)-20000]\n",
        "     'classification': class_label[:len(data)-20000]\n",
        "     },\n",
        "    batch_size = 125,\n",
        "    epochs = 1,\n",
        "    callbacks = callback_list,\n",
        "    validation_data = (tensor[len(data)-20000:len(data)-10000, :, :, :],\n",
        "                     {#'regression': reg_label[len(data)-20000:len(data)-10000]\n",
        "                      'classification': class_label[len(data)-20000:len(data)-10000]\n",
        "                      }\n",
        "                     ),\n",
        ")"
      ]
    },
    {
      "cell_type": "code",
      "execution_count": null,
      "metadata": {
        "colab": {
          "base_uri": "https://localhost:8080/"
        },
        "id": "5WJhDz1JEbDK",
        "outputId": "b5aa2500-1308-489c-ea88-6bb2f95b6ad4"
      },
      "outputs": [
        {
          "name": "stdout",
          "output_type": "stream",
          "text": [
            "313/313 [==============================] - 2s 6ms/step - loss: 0.2426 - categorical_accuracy: 0.8939\n"
          ]
        },
        {
          "data": {
            "text/plain": [
              "[0.2426401674747467, 0.8938999772071838]"
            ]
          },
          "execution_count": 29,
          "metadata": {},
          "output_type": "execute_result"
        }
      ],
      "source": [
        "# Evaluate the model using TensorFlow/Keras metrics\n",
        "model.evaluate(tensor[len(data)-10000:len(data), :, :, :], #{'regression': reg_label[len(data)-10000:len(data)],\n",
        "                                                     #'classification':\n",
        "                    class_label[len(data)-10000:len(data)]\n",
        "                    #}\n",
        "                    )"
      ]
    },
    {
      "cell_type": "code",
      "execution_count": null,
      "metadata": {
        "id": "w0Zgjm5cEjMF"
      },
      "outputs": [],
      "source": [
        "IX_IY_XI_removed = IX_IY_XI_removed.reshape([len(data_temp), 4, 4])\n",
        "IX_IY_XI_YI_removed = np.empty([len(data_temp), 4, 4], dtype=complex)\n",
        "for i in range(len(data_temp)):\n",
        "  IX_IY_XI_YI_removed[i, :, :] = (IX_IY_XI_removed[i, :, :]) - (np.trace(np.matmul((data_temp[i, :, :]), YI))/4 * YI)"
      ]
    },
    {
      "cell_type": "code",
      "execution_count": null,
      "metadata": {
        "id": "h1r_hLJcEl_A"
      },
      "outputs": [],
      "source": [
        "IX_IY_XI_YI_removed = IX_IY_XI_YI_removed.reshape(len(data_temp), 16)"
      ]
    },
    {
      "cell_type": "code",
      "execution_count": null,
      "metadata": {
        "id": "rbgQwN5FEodu"
      },
      "outputs": [],
      "source": [
        "# Separating real and imaginary values\n",
        "vector1 = np.empty([len(data), 32], dtype=np.float32)\n",
        "for i in range(len(data)):\n",
        "    for j in range(16):\n",
        "        vector1[i, 2 * j] = IX_IY_XI_YI_removed[i, j].real\n",
        "        vector1[i, 2 * j + 1] = IX_IY_XI_YI_removed[i, j].imag\n",
        "# Reshaping to 3D tensors\n",
        "del IX_IY_XI_removed\n",
        "tensor = vector1.reshape(len(data), 4, 4, 2)"
      ]
    },
    {
      "cell_type": "code",
      "execution_count": null,
      "metadata": {
        "colab": {
          "base_uri": "https://localhost:8080/"
        },
        "id": "lq3z-TrwJp7k",
        "outputId": "8230e5dc-5c7f-4a8f-e4b6-0354b82b6163"
      },
      "outputs": [
        {
          "name": "stdout",
          "output_type": "stream",
          "text": [
            "7840/7840 [==============================] - 68s 8ms/step - loss: 0.2656 - categorical_accuracy: 0.8810 - val_loss: 0.2668 - val_categorical_accuracy: 0.8816\n"
          ]
        }
      ],
      "source": [
        "model.compile(\n",
        "    optimizer = optimizers.SGD(\n",
        "        learning_rate = 0.01, momentum = 0.9,\n",
        "    ),\n",
        "    loss = {\n",
        "#        'regression': losses.mse\n",
        "        'classification': losses.categorical_crossentropy\n",
        "        },\n",
        "    metrics = {\n",
        "#        'regression': metrics.mae\n",
        "        'classification': metrics.categorical_accuracy\n",
        "        }\n",
        ")\n",
        "\n",
        "history1 = model.fit(\n",
        "    tensor[:len(data)-20000, :, :, :],\n",
        "    {#'regression': reg_label[:len(data)-20000]\n",
        "     'classification': class_label[:len(data)-20000]\n",
        "     },\n",
        "    batch_size = 125,\n",
        "    epochs = 1,\n",
        "    callbacks = callback_list,\n",
        "    validation_data = (tensor[len(data)-20000:len(data)-10000, :, :, :],\n",
        "                     {#'regression': reg_label[len(data)-20000:len(data)-10000]\n",
        "                      'classification': class_label[len(data)-20000:len(data)-10000]\n",
        "                      }\n",
        "                     ),\n",
        ")"
      ]
    },
    {
      "cell_type": "code",
      "execution_count": null,
      "metadata": {
        "colab": {
          "base_uri": "https://localhost:8080/"
        },
        "id": "ZO0JeqTWJz7u",
        "outputId": "3b980c06-93eb-4b00-8e7d-66cca5099d20"
      },
      "outputs": [
        {
          "name": "stdout",
          "output_type": "stream",
          "text": [
            "313/313 [==============================] - 2s 5ms/step - loss: 0.2761 - categorical_accuracy: 0.8710\n"
          ]
        },
        {
          "data": {
            "text/plain": [
              "[0.27607059478759766, 0.8709999918937683]"
            ]
          },
          "execution_count": 34,
          "metadata": {},
          "output_type": "execute_result"
        }
      ],
      "source": [
        "# Evaluate the model using TensorFlow/Keras metrics\n",
        "model.evaluate(tensor[len(data)-10000:len(data), :, :, :], #{'regression': reg_label[len(data)-10000:len(data)],\n",
        "                                                     #'classification':\n",
        "                    class_label[len(data)-10000:len(data)]\n",
        "                    #}\n",
        "                    )"
      ]
    },
    {
      "cell_type": "code",
      "execution_count": null,
      "metadata": {
        "id": "Z2LmKrnZJ4rb"
      },
      "outputs": [],
      "source": [
        "IX_IY_XI_YI_removed = IX_IY_XI_YI_removed.reshape([len(data_temp), 4, 4])\n",
        "IX_IY_IZ_XI_YI_removed = np.empty([len(data_temp), 4, 4], dtype=complex)\n",
        "for i in range(len(data_temp)):\n",
        "  IX_IY_IZ_XI_YI_removed[i, :, :] = (IX_IY_XI_YI_removed[i, :, :]) - (np.trace(np.matmul((data_temp[i, :, :]), IZ))/4 * IZ)"
      ]
    },
    {
      "cell_type": "code",
      "execution_count": null,
      "metadata": {
        "id": "71foaT-EJ885"
      },
      "outputs": [],
      "source": [
        "IX_IY_IZ_XI_YI_removed = IX_IY_IZ_XI_YI_removed.reshape(len(data_temp), 16)"
      ]
    },
    {
      "cell_type": "code",
      "execution_count": null,
      "metadata": {
        "id": "9F7Legw5KBHu"
      },
      "outputs": [],
      "source": [
        "# Separating real and imaginary values\n",
        "vector1 = np.empty([len(data), 32], dtype=np.float32)\n",
        "for i in range(len(data)):\n",
        "    for j in range(16):\n",
        "        vector1[i, 2 * j] = IX_IY_IZ_XI_YI_removed[i, j].real\n",
        "        vector1[i, 2 * j + 1] = IX_IY_IZ_XI_YI_removed[i, j].imag\n",
        "# Reshaping to 3D tensors\n",
        "del IX_IY_XI_YI_removed\n",
        "tensor = vector1.reshape(len(data), 4, 4, 2)"
      ]
    },
    {
      "cell_type": "code",
      "execution_count": null,
      "metadata": {
        "colab": {
          "base_uri": "https://localhost:8080/"
        },
        "id": "KZfT1jw_LC49",
        "outputId": "07197151-7b10-493d-d9a7-f4196042c7d0"
      },
      "outputs": [
        {
          "name": "stdout",
          "output_type": "stream",
          "text": [
            "7840/7840 [==============================] - 67s 8ms/step - loss: 0.2915 - categorical_accuracy: 0.8661 - val_loss: 0.2918 - val_categorical_accuracy: 0.8680\n"
          ]
        }
      ],
      "source": [
        "model.compile(\n",
        "    optimizer = optimizers.SGD(\n",
        "        learning_rate = 0.01, momentum = 0.9,\n",
        "    ),\n",
        "    loss = {\n",
        "#        'regression': losses.mse\n",
        "        'classification': losses.categorical_crossentropy\n",
        "        },\n",
        "    metrics = {\n",
        "#        'regression': metrics.mae\n",
        "        'classification': metrics.categorical_accuracy\n",
        "        }\n",
        ")\n",
        "\n",
        "history1 = model.fit(\n",
        "    tensor[:len(data)-20000, :, :, :],\n",
        "    {#'regression': reg_label[:len(data)-20000]\n",
        "     'classification': class_label[:len(data)-20000]\n",
        "     },\n",
        "    batch_size = 125,\n",
        "    epochs = 1,\n",
        "    callbacks = callback_list,\n",
        "    validation_data = (tensor[len(data)-20000:len(data)-10000, :, :, :],\n",
        "                     {#'regression': reg_label[len(data)-20000:len(data)-10000]\n",
        "                      'classification': class_label[len(data)-20000:len(data)-10000]\n",
        "                      }\n",
        "                     ),\n",
        ")"
      ]
    },
    {
      "cell_type": "code",
      "execution_count": null,
      "metadata": {
        "colab": {
          "base_uri": "https://localhost:8080/"
        },
        "id": "2JkR6V0GLSmP",
        "outputId": "5d1ee79a-cc14-4075-c732-a3385648db9e"
      },
      "outputs": [
        {
          "name": "stdout",
          "output_type": "stream",
          "text": [
            "313/313 [==============================] - 1s 4ms/step - loss: 0.3022 - categorical_accuracy: 0.8592\n"
          ]
        },
        {
          "data": {
            "text/plain": [
              "[0.3022049069404602, 0.8592000007629395]"
            ]
          },
          "execution_count": 39,
          "metadata": {},
          "output_type": "execute_result"
        }
      ],
      "source": [
        "# Evaluate the model using TensorFlow/Keras metrics\n",
        "model.evaluate(tensor[len(data)-10000:len(data), :, :, :], #{'regression': reg_label[len(data)-10000:len(data)],\n",
        "                                                     #'classification':\n",
        "                    class_label[len(data)-10000:len(data)]\n",
        "                    #}\n",
        "                    )"
      ]
    },
    {
      "cell_type": "code",
      "execution_count": null,
      "metadata": {
        "id": "90eGS5TrLg8Q"
      },
      "outputs": [],
      "source": [
        "IX_IY_IZ_XI_YI_removed = IX_IY_IZ_XI_YI_removed.reshape([len(data_temp), 4, 4])\n",
        "IX_IY_IZ_XI_YI_ZI_removed = np.empty([len(data_temp), 4, 4], dtype=complex)\n",
        "for i in range(len(data_temp)):\n",
        "  IX_IY_IZ_XI_YI_ZI_removed[i, :, :] = (IX_IY_IZ_XI_YI_removed[i, :, :]) - (np.trace(np.matmul((data_temp[i, :, :]), ZI))/4 * ZI)"
      ]
    },
    {
      "cell_type": "code",
      "execution_count": null,
      "metadata": {
        "id": "rOipcb68LlS9"
      },
      "outputs": [],
      "source": [
        "IX_IY_IZ_XI_YI_ZI_removed = IX_IY_IZ_XI_YI_ZI_removed.reshape(len(data_temp), 16)"
      ]
    },
    {
      "cell_type": "code",
      "execution_count": null,
      "metadata": {
        "id": "6zKz9lafLpT_"
      },
      "outputs": [],
      "source": [
        "# Separating real and imaginary values\n",
        "vector1 = np.empty([len(data), 32], dtype=np.float32)\n",
        "for i in range(len(data)):\n",
        "    for j in range(16):\n",
        "        vector1[i, 2 * j] = IX_IY_IZ_XI_YI_ZI_removed[i, j].real\n",
        "        vector1[i, 2 * j + 1] = IX_IY_IZ_XI_YI_ZI_removed[i, j].imag\n",
        "# Reshaping to 3D tensors\n",
        "del IX_IY_IZ_XI_YI_removed\n",
        "tensor = vector1.reshape(len(data), 4, 4, 2)"
      ]
    },
    {
      "cell_type": "code",
      "execution_count": null,
      "metadata": {
        "colab": {
          "base_uri": "https://localhost:8080/"
        },
        "id": "dTBc5qGuOgOi",
        "outputId": "034a2b87-426f-4319-cf7e-4178266fd564"
      },
      "outputs": [
        {
          "name": "stdout",
          "output_type": "stream",
          "text": [
            "7840/7840 [==============================] - 67s 8ms/step - loss: 0.3018 - categorical_accuracy: 0.8600 - val_loss: 0.3066 - val_categorical_accuracy: 0.8561\n"
          ]
        }
      ],
      "source": [
        "model.compile(\n",
        "    optimizer = optimizers.SGD(\n",
        "        learning_rate = 0.01, momentum = 0.9,\n",
        "    ),\n",
        "    loss = {\n",
        "#        'regression': losses.mse\n",
        "        'classification': losses.categorical_crossentropy\n",
        "        },\n",
        "    metrics = {\n",
        "#        'regression': metrics.mae\n",
        "        'classification': metrics.categorical_accuracy\n",
        "        }\n",
        ")\n",
        "\n",
        "history1 = model.fit(\n",
        "    tensor[:len(data)-20000, :, :, :],\n",
        "    {#'regression': reg_label[:len(data)-20000]\n",
        "     'classification': class_label[:len(data)-20000]\n",
        "     },\n",
        "    batch_size = 125,\n",
        "    epochs = 1,\n",
        "    callbacks = callback_list,\n",
        "    validation_data = (tensor[len(data)-20000:len(data)-10000, :, :, :],\n",
        "                     {#'regression': reg_label[len(data)-20000:len(data)-10000]\n",
        "                      'classification': class_label[len(data)-20000:len(data)-10000]\n",
        "                      }\n",
        "                     ),\n",
        ")"
      ]
    },
    {
      "cell_type": "code",
      "execution_count": null,
      "metadata": {
        "colab": {
          "base_uri": "https://localhost:8080/"
        },
        "id": "he0aV6CFOs7n",
        "outputId": "b4ddebf7-fb57-422d-a897-f8cf4447488d"
      },
      "outputs": [
        {
          "name": "stdout",
          "output_type": "stream",
          "text": [
            "313/313 [==============================] - 1s 4ms/step - loss: 0.3145 - categorical_accuracy: 0.8496\n"
          ]
        },
        {
          "data": {
            "text/plain": [
              "[0.3145008087158203, 0.8496000170707703]"
            ]
          },
          "execution_count": 44,
          "metadata": {},
          "output_type": "execute_result"
        }
      ],
      "source": [
        "# Evaluate the model using TensorFlow/Keras metrics\n",
        "model.evaluate(tensor[len(data)-10000:len(data), :, :, :], #{'regression': reg_label[len(data)-10000:len(data)],\n",
        "                                                     #'classification':\n",
        "                    class_label[len(data)-10000:len(data)]\n",
        "                    #}\n",
        "                    )"
      ]
    },
    {
      "cell_type": "code",
      "execution_count": null,
      "metadata": {
        "id": "F1HxGejNOvhj"
      },
      "outputs": [],
      "source": [
        "IX_IY_IZ_XI_YI_ZI_removed = IX_IY_IZ_XI_YI_ZI_removed.reshape([len(data_temp), 4, 4])\n",
        "IX_IY_IZ_XI_XX_YI_ZI_removed = np.empty([len(data_temp), 4, 4], dtype=complex)\n",
        "for i in range(len(data_temp)):\n",
        "  IX_IY_IZ_XI_XX_YI_ZI_removed[i, :, :] = (IX_IY_IZ_XI_YI_ZI_removed[i, :, :]) - (np.trace(np.matmul((data_temp[i, :, :]), XX))/4 * XX)"
      ]
    },
    {
      "cell_type": "code",
      "execution_count": null,
      "metadata": {
        "id": "egSjr9q3O0CE"
      },
      "outputs": [],
      "source": [
        "IX_IY_IZ_XI_XX_YI_ZI_removed = IX_IY_IZ_XI_XX_YI_ZI_removed.reshape(len(data_temp), 16)"
      ]
    },
    {
      "cell_type": "code",
      "execution_count": null,
      "metadata": {
        "id": "5KaLIqFoO3TG"
      },
      "outputs": [],
      "source": [
        "# Separating real and imaginary values\n",
        "vector1 = np.empty([len(data), 32], dtype=np.float32)\n",
        "for i in range(len(data)):\n",
        "    for j in range(16):\n",
        "        vector1[i, 2 * j] = IX_IY_IZ_XI_XX_YI_ZI_removed[i, j].real\n",
        "        vector1[i, 2 * j + 1] = IX_IY_IZ_XI_XX_YI_ZI_removed[i, j].imag\n",
        "# Reshaping to 3D tensors\n",
        "del IX_IY_IZ_XI_YI_ZI_removed\n",
        "tensor = vector1.reshape(len(data), 4, 4, 2)"
      ]
    },
    {
      "cell_type": "code",
      "execution_count": null,
      "metadata": {
        "colab": {
          "base_uri": "https://localhost:8080/"
        },
        "id": "1fQy_TKcRs7J",
        "outputId": "82a9885c-7250-42c3-ae53-465009e1f5d4"
      },
      "outputs": [
        {
          "name": "stdout",
          "output_type": "stream",
          "text": [
            "7840/7840 [==============================] - 67s 8ms/step - loss: 0.3672 - categorical_accuracy: 0.8274 - val_loss: 0.3697 - val_categorical_accuracy: 0.8263\n"
          ]
        }
      ],
      "source": [
        "model.compile(\n",
        "    optimizer = optimizers.SGD(\n",
        "        learning_rate = 0.01, momentum = 0.9,\n",
        "    ),\n",
        "    loss = {\n",
        "#        'regression': losses.mse\n",
        "        'classification': losses.categorical_crossentropy\n",
        "        },\n",
        "    metrics = {\n",
        "#        'regression': metrics.mae\n",
        "        'classification': metrics.categorical_accuracy\n",
        "        }\n",
        ")\n",
        "\n",
        "history1 = model.fit(\n",
        "    tensor[:len(data)-20000, :, :, :],\n",
        "    {#'regression': reg_label[:len(data)-20000]\n",
        "     'classification': class_label[:len(data)-20000]\n",
        "     },\n",
        "    batch_size = 125,\n",
        "    epochs = 1,\n",
        "    callbacks = callback_list,\n",
        "    validation_data = (tensor[len(data)-20000:len(data)-10000, :, :, :],\n",
        "                     {#'regression': reg_label[len(data)-20000:len(data)-10000]\n",
        "                      'classification': class_label[len(data)-20000:len(data)-10000]\n",
        "                      }\n",
        "                     ),\n",
        ")"
      ]
    },
    {
      "cell_type": "code",
      "execution_count": null,
      "metadata": {
        "colab": {
          "base_uri": "https://localhost:8080/"
        },
        "id": "vkQUleZgR_wQ",
        "outputId": "46ff92a8-7482-4b09-9bd1-d9607d7bad59"
      },
      "outputs": [
        {
          "name": "stdout",
          "output_type": "stream",
          "text": [
            "313/313 [==============================] - 2s 5ms/step - loss: 0.3708 - categorical_accuracy: 0.8241\n"
          ]
        },
        {
          "data": {
            "text/plain": [
              "[0.37078189849853516, 0.8241000175476074]"
            ]
          },
          "execution_count": 49,
          "metadata": {},
          "output_type": "execute_result"
        }
      ],
      "source": [
        "# Evaluate the model using TensorFlow/Keras metrics\n",
        "model.evaluate(tensor[len(data)-10000:len(data), :, :, :], #{'regression': reg_label[len(data)-10000:len(data)],\n",
        "                                                     #'classification':\n",
        "                    class_label[len(data)-10000:len(data)]\n",
        "                    #}\n",
        "                    )"
      ]
    },
    {
      "cell_type": "code",
      "execution_count": null,
      "metadata": {
        "id": "KjLnKvKqSDWt"
      },
      "outputs": [],
      "source": [
        "IX_IY_IZ_XI_XX_YI_ZI_removed = IX_IY_IZ_XI_XX_YI_ZI_removed.reshape([len(data_temp), 4, 4])\n",
        "IX_IY_IZ_XI_XX_XY_YI_ZI_removed = np.empty([len(data_temp), 4, 4], dtype=complex)\n",
        "for i in range(len(data_temp)):\n",
        "  IX_IY_IZ_XI_XX_XY_YI_ZI_removed[i, :, :] = (IX_IY_IZ_XI_XX_YI_ZI_removed[i, :, :]) - (np.trace(np.matmul((data_temp[i, :, :]), XY))/4 * XY)"
      ]
    },
    {
      "cell_type": "code",
      "execution_count": null,
      "metadata": {
        "id": "bUMjAFUgSH6t"
      },
      "outputs": [],
      "source": [
        "IX_IY_IZ_XI_XX_XY_YI_ZI_removed = IX_IY_IZ_XI_XX_XY_YI_ZI_removed.reshape(len(data_temp), 16)"
      ]
    },
    {
      "cell_type": "code",
      "execution_count": null,
      "metadata": {
        "id": "2lDzbNekSK2E"
      },
      "outputs": [],
      "source": [
        "# Separating real and imaginary values\n",
        "vector1 = np.empty([len(data), 32], dtype=np.float32)\n",
        "for i in range(len(data)):\n",
        "    for j in range(16):\n",
        "        vector1[i, 2 * j] = IX_IY_IZ_XI_XX_XY_YI_ZI_removed[i, j].real\n",
        "        vector1[i, 2 * j + 1] = IX_IY_IZ_XI_XX_XY_YI_ZI_removed[i, j].imag\n",
        "# Reshaping to 3D tensors\n",
        "del IX_IY_IZ_XI_XX_YI_ZI_removed\n",
        "tensor = vector1.reshape(len(data), 4, 4, 2)"
      ]
    },
    {
      "cell_type": "code",
      "execution_count": null,
      "metadata": {
        "colab": {
          "base_uri": "https://localhost:8080/"
        },
        "id": "3Pjzln9PS7ZS",
        "outputId": "70206bd9-9901-44c3-ab51-9ba1a9585581"
      },
      "outputs": [
        {
          "name": "stdout",
          "output_type": "stream",
          "text": [
            "7840/7840 [==============================] - 69s 8ms/step - loss: 0.4217 - categorical_accuracy: 0.7964 - val_loss: 0.4217 - val_categorical_accuracy: 0.7988\n"
          ]
        }
      ],
      "source": [
        "model.compile(\n",
        "    optimizer = optimizers.SGD(\n",
        "        learning_rate = 0.01, momentum = 0.9,\n",
        "    ),\n",
        "    loss = {\n",
        "#        'regression': losses.mse\n",
        "        'classification': losses.categorical_crossentropy\n",
        "        },\n",
        "    metrics = {\n",
        "#        'regression': metrics.mae\n",
        "        'classification': metrics.categorical_accuracy\n",
        "        }\n",
        ")\n",
        "\n",
        "history1 = model.fit(\n",
        "    tensor[:len(data)-20000, :, :, :],\n",
        "    {#'regression': reg_label[:len(data)-20000]\n",
        "     'classification': class_label[:len(data)-20000]\n",
        "     },\n",
        "    batch_size = 125,\n",
        "    epochs = 1,\n",
        "    callbacks = callback_list,\n",
        "    validation_data = (tensor[len(data)-20000:len(data)-10000, :, :, :],\n",
        "                     {#'regression': reg_label[len(data)-20000:len(data)-10000]\n",
        "                      'classification': class_label[len(data)-20000:len(data)-10000]\n",
        "                      }\n",
        "                     ),\n",
        ")"
      ]
    },
    {
      "cell_type": "code",
      "execution_count": null,
      "metadata": {
        "colab": {
          "base_uri": "https://localhost:8080/"
        },
        "id": "cQ0T7fBNTHtT",
        "outputId": "ff4bf28b-a305-4239-c233-8002e31484fb"
      },
      "outputs": [
        {
          "name": "stdout",
          "output_type": "stream",
          "text": [
            "313/313 [==============================] - 1s 3ms/step - loss: 0.4290 - categorical_accuracy: 0.7900\n"
          ]
        },
        {
          "data": {
            "text/plain": [
              "[0.42896366119384766, 0.7900000214576721]"
            ]
          },
          "execution_count": 54,
          "metadata": {},
          "output_type": "execute_result"
        }
      ],
      "source": [
        "# Evaluate the model using TensorFlow/Keras metrics\n",
        "model.evaluate(tensor[len(data)-10000:len(data), :, :, :], #{'regression': reg_label[len(data)-10000:len(data)],\n",
        "                                                     #'classification':\n",
        "                    class_label[len(data)-10000:len(data)]\n",
        "                    #}\n",
        "                    )"
      ]
    },
    {
      "cell_type": "code",
      "execution_count": null,
      "metadata": {
        "id": "s9y0rzJUTLSt"
      },
      "outputs": [],
      "source": [
        "IX_IY_IZ_XI_XX_XY_YI_ZI_removed = IX_IY_IZ_XI_XX_XY_YI_ZI_removed.reshape([len(data_temp), 4, 4])\n",
        "IX_IY_IZ_XI_XX_XY_YI_YX_ZI_removed = np.empty([len(data_temp), 4, 4], dtype=complex)\n",
        "for i in range(len(data_temp)):\n",
        "  IX_IY_IZ_XI_XX_XY_YI_YX_ZI_removed[i, :, :] = (IX_IY_IZ_XI_XX_XY_YI_ZI_removed[i, :, :]) - (np.trace(np.matmul((data_temp[i, :, :]), YX))/4 * YX)"
      ]
    },
    {
      "cell_type": "code",
      "execution_count": null,
      "metadata": {
        "id": "g-u6mkwOTS7h"
      },
      "outputs": [],
      "source": [
        "IX_IY_IZ_XI_XX_XY_YI_YX_ZI_removed = IX_IY_IZ_XI_XX_XY_YI_YX_ZI_removed.reshape(len(data_temp), 16)"
      ]
    },
    {
      "cell_type": "code",
      "execution_count": null,
      "metadata": {
        "id": "dWk3_FBGTWSP"
      },
      "outputs": [],
      "source": [
        "# Separating real and imaginary values\n",
        "vector1 = np.empty([len(data), 32], dtype=np.float32)\n",
        "for i in range(len(data)):\n",
        "    for j in range(16):\n",
        "        vector1[i, 2 * j] = IX_IY_IZ_XI_XX_XY_YI_YX_ZI_removed[i, j].real\n",
        "        vector1[i, 2 * j + 1] = IX_IY_IZ_XI_XX_XY_YI_YX_ZI_removed[i, j].imag\n",
        "# Reshaping to 3D tensors\n",
        "del IX_IY_IZ_XI_XX_XY_YI_ZI_removed\n",
        "tensor = vector1.reshape(len(data), 4, 4, 2)"
      ]
    },
    {
      "cell_type": "code",
      "execution_count": null,
      "metadata": {
        "colab": {
          "base_uri": "https://localhost:8080/"
        },
        "id": "RdMvIakyUkH-",
        "outputId": "ea8565d2-3d63-4fc4-cb9d-939ec14b4d4b"
      },
      "outputs": [
        {
          "name": "stdout",
          "output_type": "stream",
          "text": [
            "7840/7840 [==============================] - 68s 8ms/step - loss: 0.4782 - categorical_accuracy: 0.7592 - val_loss: 0.4781 - val_categorical_accuracy: 0.7596\n"
          ]
        }
      ],
      "source": [
        "model.compile(\n",
        "    optimizer = optimizers.SGD(\n",
        "        learning_rate = 0.01, momentum = 0.9,\n",
        "    ),\n",
        "    loss = {\n",
        "#        'regression': losses.mse\n",
        "        'classification': losses.categorical_crossentropy\n",
        "        },\n",
        "    metrics = {\n",
        "#        'regression': metrics.mae\n",
        "        'classification': metrics.categorical_accuracy\n",
        "        }\n",
        ")\n",
        "\n",
        "history1 = model.fit(\n",
        "    tensor[:len(data)-20000, :, :, :],\n",
        "    {#'regression': reg_label[:len(data)-20000]\n",
        "     'classification': class_label[:len(data)-20000]\n",
        "     },\n",
        "    batch_size = 125,\n",
        "    epochs = 1,\n",
        "    callbacks = callback_list,\n",
        "    validation_data = (tensor[len(data)-20000:len(data)-10000, :, :, :],\n",
        "                     {#'regression': reg_label[len(data)-20000:len(data)-10000]\n",
        "                      'classification': class_label[len(data)-20000:len(data)-10000]\n",
        "                      }\n",
        "                     ),\n",
        ")"
      ]
    },
    {
      "cell_type": "code",
      "execution_count": null,
      "metadata": {
        "colab": {
          "base_uri": "https://localhost:8080/"
        },
        "id": "ZcU1j11kUvLd",
        "outputId": "b3b89a0f-7f16-4125-bd59-251200ac8bba"
      },
      "outputs": [
        {
          "name": "stdout",
          "output_type": "stream",
          "text": [
            "313/313 [==============================] - 1s 4ms/step - loss: 0.4868 - categorical_accuracy: 0.7519\n"
          ]
        },
        {
          "data": {
            "text/plain": [
              "[0.48682549595832825, 0.7519000172615051]"
            ]
          },
          "execution_count": 59,
          "metadata": {},
          "output_type": "execute_result"
        }
      ],
      "source": [
        "# Evaluate the model using TensorFlow/Keras metrics\n",
        "model.evaluate(tensor[len(data)-10000:len(data), :, :, :], #{'regression': reg_label[len(data)-10000:len(data)],\n",
        "                                                     #'classification':\n",
        "                    class_label[len(data)-10000:len(data)]\n",
        "                    #}\n",
        "                    )"
      ]
    },
    {
      "cell_type": "code",
      "execution_count": null,
      "metadata": {
        "id": "QKAeeepdUybW"
      },
      "outputs": [],
      "source": [
        "IX_IY_IZ_XI_XX_XY_YI_YX_ZI_removed = IX_IY_IZ_XI_XX_XY_YI_YX_ZI_removed.reshape([len(data_temp), 4, 4])\n",
        "IX_IY_IZ_XI_XX_XY_YI_YX_YY_ZI_removed = np.empty([len(data_temp), 4, 4], dtype=complex)\n",
        "for i in range(len(data_temp)):\n",
        "  IX_IY_IZ_XI_XX_XY_YI_YX_YY_ZI_removed[i, :, :] = (IX_IY_IZ_XI_XX_XY_YI_YX_ZI_removed[i, :, :]) - (np.trace(np.matmul((data_temp[i, :, :]), YY))/4 * YY)"
      ]
    },
    {
      "cell_type": "code",
      "execution_count": null,
      "metadata": {
        "id": "2ujXdYYOU1LS"
      },
      "outputs": [],
      "source": [
        "IX_IY_IZ_XI_XX_XY_YI_YX_YY_ZI_removed = IX_IY_IZ_XI_XX_XY_YI_YX_YY_ZI_removed.reshape(len(data_temp), 16)"
      ]
    },
    {
      "cell_type": "code",
      "execution_count": null,
      "metadata": {
        "id": "fcSwad2HU5Sm"
      },
      "outputs": [],
      "source": [
        "# Separating real and imaginary values\n",
        "vector1 = np.empty([len(data), 32], dtype=np.float32)\n",
        "for i in range(len(data)):\n",
        "    for j in range(16):\n",
        "        vector1[i, 2 * j] = IX_IY_IZ_XI_XX_XY_YI_YX_YY_ZI_removed[i, j].real\n",
        "        vector1[i, 2 * j + 1] = IX_IY_IZ_XI_XX_XY_YI_YX_YY_ZI_removed[i, j].imag\n",
        "# Reshaping to 3D tensors\n",
        "del IX_IY_IZ_XI_XX_XY_YI_YX_ZI_removed\n",
        "tensor = vector1.reshape(len(data), 4, 4, 2)"
      ]
    },
    {
      "cell_type": "code",
      "execution_count": null,
      "metadata": {
        "colab": {
          "base_uri": "https://localhost:8080/"
        },
        "id": "fgD_DztmVUwT",
        "outputId": "c31f40b3-c3fd-46d1-b4a8-f74d5d8381a1"
      },
      "outputs": [
        {
          "name": "stdout",
          "output_type": "stream",
          "text": [
            "7840/7840 [==============================] - 67s 8ms/step - loss: 0.5377 - categorical_accuracy: 0.7213 - val_loss: 0.5353 - val_categorical_accuracy: 0.7236\n"
          ]
        }
      ],
      "source": [
        "model.compile(\n",
        "    optimizer = optimizers.SGD(\n",
        "        learning_rate = 0.01, momentum = 0.9,\n",
        "    ),\n",
        "    loss = {\n",
        "#        'regression': losses.mse\n",
        "        'classification': losses.categorical_crossentropy\n",
        "        },\n",
        "    metrics = {\n",
        "#        'regression': metrics.mae\n",
        "        'classification': metrics.categorical_accuracy\n",
        "        }\n",
        ")\n",
        "\n",
        "history1 = model.fit(\n",
        "    tensor[:len(data)-20000, :, :, :],\n",
        "    {#'regression': reg_label[:len(data)-20000]\n",
        "     'classification': class_label[:len(data)-20000]\n",
        "     },\n",
        "    batch_size = 125,\n",
        "    epochs = 1,\n",
        "    callbacks = callback_list,\n",
        "    validation_data = (tensor[len(data)-20000:len(data)-10000, :, :, :],\n",
        "                     {#'regression': reg_label[len(data)-20000:len(data)-10000]\n",
        "                      'classification': class_label[len(data)-20000:len(data)-10000]\n",
        "                      }\n",
        "                     ),\n",
        ")"
      ]
    },
    {
      "cell_type": "code",
      "execution_count": null,
      "metadata": {
        "colab": {
          "base_uri": "https://localhost:8080/"
        },
        "id": "RPCf49TCV0fP",
        "outputId": "f5b2010a-ea65-41c2-88fd-bea0ea94698d"
      },
      "outputs": [
        {
          "name": "stdout",
          "output_type": "stream",
          "text": [
            "313/313 [==============================] - 1s 3ms/step - loss: 0.5450 - categorical_accuracy: 0.7193\n"
          ]
        },
        {
          "data": {
            "text/plain": [
              "[0.5449782013893127, 0.7192999720573425]"
            ]
          },
          "execution_count": 64,
          "metadata": {},
          "output_type": "execute_result"
        }
      ],
      "source": [
        "# Evaluate the model using TensorFlow/Keras metrics\n",
        "model.evaluate(tensor[len(data)-10000:len(data), :, :, :], #{'regression': reg_label[len(data)-10000:len(data)],\n",
        "                                                     #'classification':\n",
        "                    class_label[len(data)-10000:len(data)]\n",
        "                    #}\n",
        "                    )"
      ]
    },
    {
      "cell_type": "code",
      "execution_count": null,
      "metadata": {
        "id": "pajfovjgV6Zk"
      },
      "outputs": [],
      "source": [
        "IX_IY_IZ_XI_XX_XY_YI_YX_YY_ZI_removed = IX_IY_IZ_XI_XX_XY_YI_YX_YY_ZI_removed.reshape([len(data_temp), 4, 4])\n",
        "IX_IY_IZ_XI_XX_XY_XZ_YI_YX_YY_ZI_removed = np.empty([len(data_temp), 4, 4], dtype=complex)\n",
        "for i in range(len(data_temp)):\n",
        "  IX_IY_IZ_XI_XX_XY_XZ_YI_YX_YY_ZI_removed[i, :, :] = (IX_IY_IZ_XI_XX_XY_YI_YX_YY_ZI_removed[i, :, :]) - (np.trace(np.matmul((data_temp[i, :, :]), XZ))/4 * XZ)"
      ]
    },
    {
      "cell_type": "code",
      "execution_count": null,
      "metadata": {
        "id": "ipHDDvDvV-__"
      },
      "outputs": [],
      "source": [
        "IX_IY_IZ_XI_XX_XY_XZ_YI_YX_YY_ZI_removed = IX_IY_IZ_XI_XX_XY_XZ_YI_YX_YY_ZI_removed.reshape(len(data_temp), 16)"
      ]
    },
    {
      "cell_type": "code",
      "execution_count": null,
      "metadata": {
        "id": "Wslp3D6CWCDi"
      },
      "outputs": [],
      "source": [
        "# Separating real and imaginary values\n",
        "vector1 = np.empty([len(data), 32], dtype=np.float32)\n",
        "for i in range(len(data)):\n",
        "    for j in range(16):\n",
        "        vector1[i, 2 * j] = IX_IY_IZ_XI_XX_XY_XZ_YI_YX_YY_ZI_removed[i, j].real\n",
        "        vector1[i, 2 * j + 1] = IX_IY_IZ_XI_XX_XY_XZ_YI_YX_YY_ZI_removed[i, j].imag\n",
        "# Reshaping to 3D tensors\n",
        "del IX_IY_IZ_XI_XX_XY_YI_YX_YY_ZI_removed\n",
        "tensor = vector1.reshape(len(data), 4, 4, 2)"
      ]
    },
    {
      "cell_type": "code",
      "execution_count": null,
      "metadata": {
        "colab": {
          "base_uri": "https://localhost:8080/"
        },
        "id": "ujUIaEdgWjPO",
        "outputId": "8ef0dc19-4851-43b1-d428-097a126ee3ed"
      },
      "outputs": [
        {
          "name": "stdout",
          "output_type": "stream",
          "text": [
            "7840/7840 [==============================] - 67s 8ms/step - loss: 0.5705 - categorical_accuracy: 0.6973 - val_loss: 0.5682 - val_categorical_accuracy: 0.7046\n"
          ]
        }
      ],
      "source": [
        "model.compile(\n",
        "    optimizer = optimizers.SGD(\n",
        "        learning_rate = 0.01, momentum = 0.9,\n",
        "    ),\n",
        "    loss = {\n",
        "#        'regression': losses.mse\n",
        "        'classification': losses.categorical_crossentropy\n",
        "        },\n",
        "    metrics = {\n",
        "#        'regression': metrics.mae\n",
        "        'classification': metrics.categorical_accuracy\n",
        "        }\n",
        ")\n",
        "\n",
        "history1 = model.fit(\n",
        "    tensor[:len(data)-20000, :, :, :],\n",
        "    {#'regression': reg_label[:len(data)-20000]\n",
        "     'classification': class_label[:len(data)-20000]\n",
        "     },\n",
        "    batch_size = 125,\n",
        "    epochs = 1,\n",
        "    callbacks = callback_list,\n",
        "    validation_data = (tensor[len(data)-20000:len(data)-10000, :, :, :],\n",
        "                     {#'regression': reg_label[len(data)-20000:len(data)-10000]\n",
        "                      'classification': class_label[len(data)-20000:len(data)-10000]\n",
        "                      }\n",
        "                     ),\n",
        ")"
      ]
    },
    {
      "cell_type": "code",
      "execution_count": null,
      "metadata": {
        "colab": {
          "base_uri": "https://localhost:8080/"
        },
        "id": "_9XJO1dzW93-",
        "outputId": "efb03c91-8068-473d-982f-ca2ddb75456a"
      },
      "outputs": [
        {
          "name": "stdout",
          "output_type": "stream",
          "text": [
            "313/313 [==============================] - 2s 4ms/step - loss: 0.5740 - categorical_accuracy: 0.6967\n"
          ]
        },
        {
          "data": {
            "text/plain": [
              "[0.5740314722061157, 0.6966999769210815]"
            ]
          },
          "execution_count": 69,
          "metadata": {},
          "output_type": "execute_result"
        }
      ],
      "source": [
        "# Evaluate the model using TensorFlow/Keras metrics\n",
        "model.evaluate(tensor[len(data)-10000:len(data), :, :, :], #{'regression': reg_label[len(data)-10000:len(data)],\n",
        "                                                     #'classification':\n",
        "                    class_label[len(data)-10000:len(data)]\n",
        "                    #}\n",
        "                    )"
      ]
    },
    {
      "cell_type": "code",
      "execution_count": null,
      "metadata": {
        "id": "n17LTixGXApA"
      },
      "outputs": [],
      "source": [
        "IX_IY_IZ_XI_XX_XY_XZ_YI_YX_YY_ZI_removed = IX_IY_IZ_XI_XX_XY_XZ_YI_YX_YY_ZI_removed.reshape([len(data_temp), 4, 4])\n",
        "IX_IY_IZ_XI_XX_XY_XZ_YI_YX_YY_YZ_ZI_removed = np.empty([len(data_temp), 4, 4], dtype=complex)\n",
        "for i in range(len(data_temp)):\n",
        "  IX_IY_IZ_XI_XX_XY_XZ_YI_YX_YY_YZ_ZI_removed[i, :, :] = (IX_IY_IZ_XI_XX_XY_XZ_YI_YX_YY_ZI_removed[i, :, :]) - (np.trace(np.matmul((data_temp[i, :, :]), YZ))/4 * YZ)"
      ]
    },
    {
      "cell_type": "code",
      "execution_count": null,
      "metadata": {
        "id": "-FDwxVqCXDea"
      },
      "outputs": [],
      "source": [
        "IX_IY_IZ_XI_XX_XY_XZ_YI_YX_YY_YZ_ZI_removed = IX_IY_IZ_XI_XX_XY_XZ_YI_YX_YY_YZ_ZI_removed.reshape(len(data_temp), 16)"
      ]
    },
    {
      "cell_type": "code",
      "execution_count": null,
      "metadata": {
        "id": "4HXTw5YMXFnU"
      },
      "outputs": [],
      "source": [
        "# Separating real and imaginary values\n",
        "vector1 = np.empty([len(data), 32], dtype=np.float32)\n",
        "for i in range(len(data)):\n",
        "    for j in range(16):\n",
        "        vector1[i, 2 * j] = IX_IY_IZ_XI_XX_XY_XZ_YI_YX_YY_YZ_ZI_removed[i, j].real\n",
        "        vector1[i, 2 * j + 1] = IX_IY_IZ_XI_XX_XY_XZ_YI_YX_YY_YZ_ZI_removed[i, j].imag\n",
        "# Reshaping to 3D tensors\n",
        "del IX_IY_IZ_XI_XX_XY_XZ_YI_YX_YY_ZI_removed\n",
        "tensor = vector1.reshape(len(data), 4, 4, 2)"
      ]
    },
    {
      "cell_type": "code",
      "execution_count": null,
      "metadata": {
        "colab": {
          "base_uri": "https://localhost:8080/"
        },
        "id": "oG3qQ8TTXjyO",
        "outputId": "0b3ae12f-8abb-463c-90cf-1e3beaf14b1d"
      },
      "outputs": [
        {
          "name": "stdout",
          "output_type": "stream",
          "text": [
            "7840/7840 [==============================] - 67s 8ms/step - loss: 0.6062 - categorical_accuracy: 0.6733 - val_loss: 0.6038 - val_categorical_accuracy: 0.6789\n"
          ]
        }
      ],
      "source": [
        "model.compile(\n",
        "    optimizer = optimizers.SGD(\n",
        "        learning_rate = 0.01, momentum = 0.9,\n",
        "    ),\n",
        "    loss = {\n",
        "#        'regression': losses.mse\n",
        "        'classification': losses.categorical_crossentropy\n",
        "        },\n",
        "    metrics = {\n",
        "#        'regression': metrics.mae\n",
        "        'classification': metrics.categorical_accuracy\n",
        "        }\n",
        ")\n",
        "\n",
        "history1 = model.fit(\n",
        "    tensor[:len(data)-20000, :, :, :],\n",
        "    {#'regression': reg_label[:len(data)-20000]\n",
        "     'classification': class_label[:len(data)-20000]\n",
        "     },\n",
        "    batch_size = 125,\n",
        "    epochs = 1,\n",
        "    callbacks = callback_list,\n",
        "    validation_data = (tensor[len(data)-20000:len(data)-10000, :, :, :],\n",
        "                     {#'regression': reg_label[len(data)-20000:len(data)-10000]\n",
        "                      'classification': class_label[len(data)-20000:len(data)-10000]\n",
        "                      }\n",
        "                     ),\n",
        ")"
      ]
    },
    {
      "cell_type": "code",
      "execution_count": null,
      "metadata": {
        "colab": {
          "base_uri": "https://localhost:8080/"
        },
        "id": "m2MkM-zxXrOC",
        "outputId": "9457f6aa-df17-43bf-c1ee-3a4328b47fd3"
      },
      "outputs": [
        {
          "name": "stdout",
          "output_type": "stream",
          "text": [
            "313/313 [==============================] - 2s 5ms/step - loss: 0.6059 - categorical_accuracy: 0.6747\n"
          ]
        },
        {
          "data": {
            "text/plain": [
              "[0.6059061884880066, 0.6747000217437744]"
            ]
          },
          "execution_count": 74,
          "metadata": {},
          "output_type": "execute_result"
        }
      ],
      "source": [
        "# Evaluate the model using TensorFlow/Keras metrics\n",
        "model.evaluate(tensor[len(data)-10000:len(data), :, :, :], #{'regression': reg_label[len(data)-10000:len(data)],\n",
        "                                                     #'classification':\n",
        "                    class_label[len(data)-10000:len(data)]\n",
        "                    #}\n",
        "                    )"
      ]
    },
    {
      "cell_type": "code",
      "execution_count": null,
      "metadata": {
        "id": "I4I-tTomXuJq"
      },
      "outputs": [],
      "source": [
        "IX_IY_IZ_XI_XX_XY_XZ_YI_YX_YY_YZ_ZI_removed = IX_IY_IZ_XI_XX_XY_XZ_YI_YX_YY_YZ_ZI_removed.reshape([len(data_temp), 4, 4])\n",
        "IX_IY_IZ_XI_XX_XY_XZ_YI_YX_YY_YZ_ZI_ZX_removed = np.empty([len(data_temp), 4, 4], dtype=complex)\n",
        "for i in range(len(data_temp)):\n",
        "  IX_IY_IZ_XI_XX_XY_XZ_YI_YX_YY_YZ_ZI_ZX_removed[i, :, :] = (IX_IY_IZ_XI_XX_XY_XZ_YI_YX_YY_YZ_ZI_removed[i, :, :]) - (np.trace(np.matmul((data_temp[i, :, :]), ZX))/4 * ZX)"
      ]
    },
    {
      "cell_type": "code",
      "execution_count": null,
      "metadata": {
        "id": "yfWJfv0qXw79"
      },
      "outputs": [],
      "source": [
        "IX_IY_IZ_XI_XX_XY_XZ_YI_YX_YY_YZ_ZI_ZX_removed = IX_IY_IZ_XI_XX_XY_XZ_YI_YX_YY_YZ_ZI_ZX_removed.reshape(len(data_temp), 16)"
      ]
    },
    {
      "cell_type": "code",
      "execution_count": null,
      "metadata": {
        "id": "sGTmtCapX0Xr"
      },
      "outputs": [],
      "source": [
        "# Separating real and imaginary values\n",
        "vector1 = np.empty([len(data), 32], dtype=np.float32)\n",
        "for i in range(len(data)):\n",
        "    for j in range(16):\n",
        "        vector1[i, 2 * j] = IX_IY_IZ_XI_XX_XY_XZ_YI_YX_YY_YZ_ZI_ZX_removed[i, j].real\n",
        "        vector1[i, 2 * j + 1] = IX_IY_IZ_XI_XX_XY_XZ_YI_YX_YY_YZ_ZI_ZX_removed[i, j].imag\n",
        "# Reshaping to 3D tensors\n",
        "del IX_IY_IZ_XI_XX_XY_XZ_YI_YX_YY_YZ_ZI_removed\n",
        "tensor = vector1.reshape(len(data), 4, 4, 2)"
      ]
    },
    {
      "cell_type": "code",
      "execution_count": null,
      "metadata": {
        "colab": {
          "base_uri": "https://localhost:8080/"
        },
        "id": "nEs6idkIYcKj",
        "outputId": "8df0d734-db16-41e9-c66f-c2174921f012"
      },
      "outputs": [
        {
          "name": "stdout",
          "output_type": "stream",
          "text": [
            "7840/7840 [==============================] - 67s 8ms/step - loss: 0.6314 - categorical_accuracy: 0.6450 - val_loss: 0.6325 - val_categorical_accuracy: 0.6418\n"
          ]
        }
      ],
      "source": [
        "model.compile(\n",
        "    optimizer = optimizers.SGD(\n",
        "        learning_rate = 0.01, momentum = 0.9,\n",
        "    ),\n",
        "    loss = {\n",
        "#        'regression': losses.mse\n",
        "        'classification': losses.categorical_crossentropy\n",
        "        },\n",
        "    metrics = {\n",
        "#        'regression': metrics.mae\n",
        "        'classification': metrics.categorical_accuracy\n",
        "        }\n",
        ")\n",
        "\n",
        "history1 = model.fit(\n",
        "    tensor[:len(data)-20000, :, :, :],\n",
        "    {#'regression': reg_label[:len(data)-20000]\n",
        "     'classification': class_label[:len(data)-20000]\n",
        "     },\n",
        "    batch_size = 125,\n",
        "    epochs = 1,\n",
        "    callbacks = callback_list,\n",
        "    validation_data = (tensor[len(data)-20000:len(data)-10000, :, :, :],\n",
        "                     {#'regression': reg_label[len(data)-20000:len(data)-10000]\n",
        "                      'classification': class_label[len(data)-20000:len(data)-10000]\n",
        "                      }\n",
        "                     ),\n",
        ")"
      ]
    },
    {
      "cell_type": "code",
      "execution_count": null,
      "metadata": {
        "colab": {
          "base_uri": "https://localhost:8080/"
        },
        "id": "KoJAG3sGYjwS",
        "outputId": "f05a0484-0876-44a7-8e68-ee2eb860d7be"
      },
      "outputs": [
        {
          "name": "stdout",
          "output_type": "stream",
          "text": [
            "313/313 [==============================] - 1s 3ms/step - loss: 0.6326 - categorical_accuracy: 0.6383\n"
          ]
        },
        {
          "data": {
            "text/plain": [
              "[0.6325736045837402, 0.6383000016212463]"
            ]
          },
          "execution_count": 79,
          "metadata": {},
          "output_type": "execute_result"
        }
      ],
      "source": [
        "# Evaluate the model using TensorFlow/Keras metrics\n",
        "model.evaluate(tensor[len(data)-10000:len(data), :, :, :], #{'regression': reg_label[len(data)-10000:len(data)],\n",
        "                                                     #'classification':\n",
        "                    class_label[len(data)-10000:len(data)]\n",
        "                    #}\n",
        "                    )"
      ]
    },
    {
      "cell_type": "code",
      "execution_count": null,
      "metadata": {
        "id": "b_gFhS7nYoAs"
      },
      "outputs": [],
      "source": [
        "IX_IY_IZ_XI_XX_XY_XZ_YI_YX_YY_YZ_ZI_ZX_removed = IX_IY_IZ_XI_XX_XY_XZ_YI_YX_YY_YZ_ZI_ZX_removed.reshape([len(data_temp), 4, 4])\n",
        "IX_IY_IZ_XI_XX_XY_XZ_YI_YX_YY_YZ_ZI_ZX_ZY_removed = np.empty([len(data_temp), 4, 4], dtype=complex)\n",
        "for i in range(len(data_temp)):\n",
        "  IX_IY_IZ_XI_XX_XY_XZ_YI_YX_YY_YZ_ZI_ZX_ZY_removed[i, :, :] = (IX_IY_IZ_XI_XX_XY_XZ_YI_YX_YY_YZ_ZI_ZX_removed[i, :, :]) - (np.trace(np.matmul((data_temp[i, :, :]), ZY))/4 * ZY)"
      ]
    },
    {
      "cell_type": "code",
      "execution_count": null,
      "metadata": {
        "id": "NbYkJhZLYqeq"
      },
      "outputs": [],
      "source": [
        "IX_IY_IZ_XI_XX_XY_XZ_YI_YX_YY_YZ_ZI_ZX_ZY_removed = IX_IY_IZ_XI_XX_XY_XZ_YI_YX_YY_YZ_ZI_ZX_ZY_removed.reshape(len(data_temp), 16)"
      ]
    },
    {
      "cell_type": "code",
      "execution_count": null,
      "metadata": {
        "id": "wBibvOzTYs2Q"
      },
      "outputs": [],
      "source": [
        "# Separating real and imaginary values\n",
        "vector1 = np.empty([len(data), 32], dtype=np.float32)\n",
        "for i in range(len(data)):\n",
        "    for j in range(16):\n",
        "        vector1[i, 2 * j] = IX_IY_IZ_XI_XX_XY_XZ_YI_YX_YY_YZ_ZI_ZX_ZY_removed[i, j].real\n",
        "        vector1[i, 2 * j + 1] = IX_IY_IZ_XI_XX_XY_XZ_YI_YX_YY_YZ_ZI_ZX_ZY_removed[i, j].imag\n",
        "# Reshaping to 3D tensors\n",
        "del IX_IY_IZ_XI_XX_XY_XZ_YI_YX_YY_YZ_ZI_ZX_removed\n",
        "tensor = vector1.reshape(len(data), 4, 4, 2)"
      ]
    },
    {
      "cell_type": "code",
      "execution_count": null,
      "metadata": {
        "colab": {
          "base_uri": "https://localhost:8080/"
        },
        "id": "zYDUrJEHZH2Y",
        "outputId": "7fe905f4-e149-45a4-f88a-6df212fa47ec"
      },
      "outputs": [
        {
          "name": "stdout",
          "output_type": "stream",
          "text": [
            "7840/7840 [==============================] - 67s 8ms/step - loss: 0.6581 - categorical_accuracy: 0.6067 - val_loss: 0.6543 - val_categorical_accuracy: 0.6167\n"
          ]
        }
      ],
      "source": [
        "model.compile(\n",
        "    optimizer = optimizers.SGD(\n",
        "        learning_rate = 0.01, momentum = 0.9,\n",
        "    ),\n",
        "    loss = {\n",
        "#        'regression': losses.mse\n",
        "        'classification': losses.categorical_crossentropy\n",
        "        },\n",
        "    metrics = {\n",
        "#        'regression': metrics.mae\n",
        "        'classification': metrics.categorical_accuracy\n",
        "        }\n",
        ")\n",
        "\n",
        "history1 = model.fit(\n",
        "    tensor[:len(data)-20000, :, :, :],\n",
        "    {#'regression': reg_label[:len(data)-20000]\n",
        "     'classification': class_label[:len(data)-20000]\n",
        "     },\n",
        "    batch_size = 125,\n",
        "    epochs = 1,\n",
        "    callbacks = callback_list,\n",
        "    validation_data = (tensor[len(data)-20000:len(data)-10000, :, :, :],\n",
        "                     {#'regression': reg_label[len(data)-20000:len(data)-10000]\n",
        "                      'classification': class_label[len(data)-20000:len(data)-10000]\n",
        "                      }\n",
        "                     ),\n",
        ")"
      ]
    },
    {
      "cell_type": "code",
      "execution_count": null,
      "metadata": {
        "colab": {
          "base_uri": "https://localhost:8080/"
        },
        "id": "qjX_atCSZPQv",
        "outputId": "53b3ff90-8ab2-4b0c-dcce-ec4ed160698b"
      },
      "outputs": [
        {
          "name": "stdout",
          "output_type": "stream",
          "text": [
            "313/313 [==============================] - 1s 4ms/step - loss: 0.6613 - categorical_accuracy: 0.5993\n"
          ]
        },
        {
          "data": {
            "text/plain": [
              "[0.6612839102745056, 0.5993000268936157]"
            ]
          },
          "execution_count": 84,
          "metadata": {},
          "output_type": "execute_result"
        }
      ],
      "source": [
        "# Evaluate the model using TensorFlow/Keras metrics\n",
        "model.evaluate(tensor[len(data)-10000:len(data), :, :, :], #{'regression': reg_label[len(data)-10000:len(data)],\n",
        "                                                     #'classification':\n",
        "                    class_label[len(data)-10000:len(data)]\n",
        "                    #}\n",
        "                    )"
      ]
    },
    {
      "cell_type": "code",
      "execution_count": null,
      "metadata": {
        "id": "AEAcroPsZSkg"
      },
      "outputs": [],
      "source": [
        "IX_IY_IZ_XI_XX_XY_XZ_YI_YX_YY_YZ_ZI_ZX_ZY_removed = IX_IY_IZ_XI_XX_XY_XZ_YI_YX_YY_YZ_ZI_ZX_ZY_removed.reshape([len(data_temp), 4, 4])\n",
        "IX_IY_IZ_XI_XX_XY_XZ_YI_YX_YY_YZ_ZI_ZX_ZY_ZZ_removed = np.empty([len(data_temp), 4, 4], dtype=complex)\n",
        "for i in range(len(data_temp)):\n",
        "  IX_IY_IZ_XI_XX_XY_XZ_YI_YX_YY_YZ_ZI_ZX_ZY_ZZ_removed[i, :, :] = (IX_IY_IZ_XI_XX_XY_XZ_YI_YX_YY_YZ_ZI_ZX_ZY_removed[i, :, :]) - (np.trace(np.matmul((data_temp[i, :, :]), ZZ))/4 * ZZ)"
      ]
    },
    {
      "cell_type": "code",
      "execution_count": null,
      "metadata": {
        "id": "gPl7OztFZVVD"
      },
      "outputs": [],
      "source": [
        "IX_IY_IZ_XI_XX_XY_XZ_YI_YX_YY_YZ_ZI_ZX_ZY_ZZ_removed = IX_IY_IZ_XI_XX_XY_XZ_YI_YX_YY_YZ_ZI_ZX_ZY_ZZ_removed.reshape(len(data_temp), 16)"
      ]
    },
    {
      "cell_type": "code",
      "execution_count": null,
      "metadata": {
        "id": "grcIPembZX_7"
      },
      "outputs": [],
      "source": [
        "# Separating real and imaginary values\n",
        "vector1 = np.empty([len(data), 32], dtype=np.float32)\n",
        "for i in range(len(data)):\n",
        "    for j in range(16):\n",
        "        vector1[i, 2 * j] = IX_IY_IZ_XI_XX_XY_XZ_YI_YX_YY_YZ_ZI_ZX_ZY_ZZ_removed[i, j].real\n",
        "        vector1[i, 2 * j + 1] = IX_IY_IZ_XI_XX_XY_XZ_YI_YX_YY_YZ_ZI_ZX_ZY_ZZ_removed[i, j].imag\n",
        "# Reshaping to 3D tensors\n",
        "del IX_IY_IZ_XI_XX_XY_XZ_YI_YX_YY_YZ_ZI_ZX_ZY_removed\n",
        "tensor = vector1.reshape(len(data), 4, 4, 2)"
      ]
    },
    {
      "cell_type": "code",
      "execution_count": null,
      "metadata": {
        "id": "ZbKoxRL8VRmw"
      },
      "outputs": [],
      "source": [
        "np.set_printoptions(edgeitems=5, threshold=20, linewidth=80, formatter={'all':lambda x: f\"{x:.4f}\"})\n"
      ]
    },
    {
      "cell_type": "code",
      "execution_count": null,
      "metadata": {
        "colab": {
          "base_uri": "https://localhost:8080/"
        },
        "id": "7D-Hlai_T8wu",
        "outputId": "fba608d9-28c1-43c6-96fd-b31b2b2949db"
      },
      "outputs": [
        {
          "data": {
            "text/plain": [
              "array([[0.2500+0.0000j, 0.0000+0.0000j, 0.0000-0.0000j, 0.0000+0.0000j],\n",
              "       [0.0000+0.0000j, 0.2500+0.0000j, 0.0000+0.0000j, 0.0000-0.0000j],\n",
              "       [0.0000+0.0000j, 0.0000+0.0000j, 0.2500+0.0000j, 0.0000+0.0000j],\n",
              "       [0.0000-0.0000j, 0.0000+0.0000j, 0.0000+0.0000j, 0.2500+0.0000j]])"
            ]
          },
          "execution_count": 89,
          "metadata": {},
          "output_type": "execute_result"
        }
      ],
      "source": [
        "IX_IY_IZ_XI_XX_XY_XZ_YI_YX_YY_YZ_ZI_ZX_ZY_ZZ_removed[0, :].reshape(4, 4)"
      ]
    },
    {
      "cell_type": "code",
      "execution_count": null,
      "metadata": {
        "colab": {
          "base_uri": "https://localhost:8080/"
        },
        "id": "rF28-DZ3ZsqH",
        "outputId": "b22047a3-a6d9-4568-d28f-ac811d2a663f"
      },
      "outputs": [
        {
          "name": "stdout",
          "output_type": "stream",
          "text": [
            "7840/7840 [==============================] - 67s 8ms/step - loss: 0.6934 - categorical_accuracy: 0.5001 - val_loss: 0.6931 - val_categorical_accuracy: 0.5000\n"
          ]
        }
      ],
      "source": [
        "model.compile(\n",
        "    optimizer = optimizers.SGD(\n",
        "        learning_rate = 0.01, momentum = 0.9,\n",
        "    ),\n",
        "    loss = {\n",
        "#        'regression': losses.mse\n",
        "        'classification': losses.categorical_crossentropy\n",
        "        },\n",
        "    metrics = {\n",
        "#        'regression': metrics.mae\n",
        "        'classification': metrics.categorical_accuracy\n",
        "        }\n",
        ")\n",
        "\n",
        "history1 = model.fit(\n",
        "    tensor[:len(data)-20000, :, :, :],\n",
        "    {#'regression': reg_label[:len(data)-20000]\n",
        "     'classification': class_label[:len(data)-20000]\n",
        "     },\n",
        "    batch_size = 125,\n",
        "    epochs = 1,\n",
        "    callbacks = callback_list,\n",
        "    validation_data = (tensor[len(data)-20000:len(data)-10000, :, :, :],\n",
        "                     {#'regression': reg_label[len(data)-20000:len(data)-10000]\n",
        "                      'classification': class_label[len(data)-20000:len(data)-10000]\n",
        "                      }\n",
        "                     ),\n",
        ")"
      ]
    },
    {
      "cell_type": "code",
      "execution_count": null,
      "metadata": {
        "colab": {
          "base_uri": "https://localhost:8080/"
        },
        "id": "bSvmdyNqZ0k4",
        "outputId": "04ecd8c5-0c54-4fab-b513-72612bb3f1c3"
      },
      "outputs": [
        {
          "name": "stdout",
          "output_type": "stream",
          "text": [
            "313/313 [==============================] - 2s 6ms/step - loss: 0.6931 - categorical_accuracy: 0.5000\n"
          ]
        },
        {
          "data": {
            "text/plain": [
              "[0.6931466460227966, 0.5]"
            ]
          },
          "execution_count": 91,
          "metadata": {},
          "output_type": "execute_result"
        }
      ],
      "source": [
        "# Evaluate the model using TensorFlow/Keras metrics\n",
        "model.evaluate(tensor[len(data)-10000:len(data), :, :, :], #{'regression': reg_label[len(data)-10000:len(data)],\n",
        "                                                     #'classification':\n",
        "                    class_label[len(data)-10000:len(data)]\n",
        "                    #}\n",
        "                    )"
      ]
    },
    {
      "cell_type": "code",
      "execution_count": null,
      "metadata": {
        "colab": {
          "base_uri": "https://localhost:8080/"
        },
        "id": "RuclnWqcKEzD",
        "outputId": "9883e300-e24e-4f2f-cc47-d48f6de35ed9"
      },
      "outputs": [
        {
          "output_type": "stream",
          "name": "stdout",
          "text": [
            "Mounted at /gdrive\n"
          ]
        }
      ],
      "source": [
        "from google.colab import drive\n",
        "drive.mount('/gdrive')"
      ]
    },
    {
      "cell_type": "code",
      "execution_count": null,
      "metadata": {
        "id": "zCMAnOYsKFf7"
      },
      "outputs": [],
      "source": [
        "# Define the save path\n",
        "save_path = '/gdrive/My Drive/MyFolder/Tomography.keras'\n",
        "\n",
        "# Ensure the folder exists, if not, create it\n",
        "import os\n",
        "os.makedirs(os.path.dirname(save_path), exist_ok=True)\n",
        "\n",
        "# Save the model\n",
        "model.save(save_path)"
      ]
    },
    {
      "cell_type": "code",
      "execution_count": null,
      "metadata": {
        "colab": {
          "base_uri": "https://localhost:8080/"
        },
        "id": "KXw_h4Z_napf",
        "outputId": "ec2a5816-9b9d-4d08-eb82-7bd0dc45e94d"
      },
      "outputs": [
        {
          "output_type": "stream",
          "name": "stdout",
          "text": [
            "Model: \"model\"\n",
            "__________________________________________________________________________________________________\n",
            " Layer (type)                Output Shape                 Param #   Connected to                  \n",
            "==================================================================================================\n",
            " input_1 (InputLayer)        [(None, 4, 4, 2)]            0         []                            \n",
            "                                                                                                  \n",
            " conv2d (Conv2D)             (None, 4, 4, 64)             192       ['input_1[0][0]']             \n",
            "                                                                                                  \n",
            " leaky_re_lu (LeakyReLU)     (None, 4, 4, 64)             0         ['conv2d[0][0]']              \n",
            "                                                                                                  \n",
            " conv2d_1 (Conv2D)           (None, 4, 4, 64)             4160      ['leaky_re_lu[0][0]']         \n",
            "                                                                                                  \n",
            " leaky_re_lu_1 (LeakyReLU)   (None, 4, 4, 64)             0         ['conv2d_1[0][0]']            \n",
            "                                                                                                  \n",
            " conv2d_5 (Conv2D)           (None, 3, 3, 128)            32896     ['leaky_re_lu_1[0][0]']       \n",
            "                                                                                                  \n",
            " leaky_re_lu_5 (LeakyReLU)   (None, 3, 3, 128)            0         ['conv2d_5[0][0]']            \n",
            "                                                                                                  \n",
            " conv2d_6 (Conv2D)           (None, 3, 3, 128)            16512     ['leaky_re_lu_5[0][0]']       \n",
            "                                                                                                  \n",
            " leaky_re_lu_6 (LeakyReLU)   (None, 3, 3, 128)            0         ['conv2d_6[0][0]']            \n",
            "                                                                                                  \n",
            " conv2d_8 (Conv2D)           (None, 2, 2, 128)            65664     ['leaky_re_lu_6[0][0]']       \n",
            "                                                                                                  \n",
            " conv2d_4 (Conv2D)           (None, 2, 2, 192)            110784    ['leaky_re_lu_1[0][0]']       \n",
            "                                                                                                  \n",
            " leaky_re_lu_8 (LeakyReLU)   (None, 2, 2, 128)            0         ['conv2d_8[0][0]']            \n",
            "                                                                                                  \n",
            " leaky_re_lu_4 (LeakyReLU)   (None, 2, 2, 192)            0         ['conv2d_4[0][0]']            \n",
            "                                                                                                  \n",
            " concatenate (Concatenate)   (None, 2, 2, 320)            0         ['leaky_re_lu_8[0][0]',       \n",
            "                                                                     'leaky_re_lu_4[0][0]']       \n",
            "                                                                                                  \n",
            " conv2d_9 (Conv2D)           (None, 2, 2, 256)            82176     ['concatenate[0][0]']         \n",
            "                                                                                                  \n",
            " conv2d_2 (Conv2D)           (None, 1, 1, 256)            262400    ['leaky_re_lu_1[0][0]']       \n",
            "                                                                                                  \n",
            " leaky_re_lu_9 (LeakyReLU)   (None, 2, 2, 256)            0         ['conv2d_9[0][0]']            \n",
            "                                                                                                  \n",
            " leaky_re_lu_2 (LeakyReLU)   (None, 1, 1, 256)            0         ['conv2d_2[0][0]']            \n",
            "                                                                                                  \n",
            " conv2d_10 (Conv2D)          (None, 1, 1, 256)            262400    ['leaky_re_lu_9[0][0]']       \n",
            "                                                                                                  \n",
            " conv2d_3 (Conv2D)           (None, 1, 1, 128)            32896     ['leaky_re_lu_2[0][0]']       \n",
            "                                                                                                  \n",
            " leaky_re_lu_10 (LeakyReLU)  (None, 1, 1, 256)            0         ['conv2d_10[0][0]']           \n",
            "                                                                                                  \n",
            " leaky_re_lu_3 (LeakyReLU)   (None, 1, 1, 128)            0         ['conv2d_3[0][0]']            \n",
            "                                                                                                  \n",
            " concatenate_1 (Concatenate  (None, 1, 1, 384)            0         ['leaky_re_lu_10[0][0]',      \n",
            " )                                                                   'leaky_re_lu_3[0][0]']       \n",
            "                                                                                                  \n",
            " conv2d_11 (Conv2D)          (None, 1, 1, 512)            197120    ['concatenate_1[0][0]']       \n",
            "                                                                                                  \n",
            " conv2d_7 (Conv2D)           (None, 1, 1, 96)             110688    ['leaky_re_lu_6[0][0]']       \n",
            "                                                                                                  \n",
            " leaky_re_lu_11 (LeakyReLU)  (None, 1, 1, 512)            0         ['conv2d_11[0][0]']           \n",
            "                                                                                                  \n",
            " leaky_re_lu_7 (LeakyReLU)   (None, 1, 1, 96)             0         ['conv2d_7[0][0]']            \n",
            "                                                                                                  \n",
            " concatenate_2 (Concatenate  (None, 1, 1, 608)            0         ['leaky_re_lu_11[0][0]',      \n",
            " )                                                                   'leaky_re_lu_7[0][0]']       \n",
            "                                                                                                  \n",
            " conv2d_12 (Conv2D)          (None, 1, 1, 512)            311808    ['concatenate_2[0][0]']       \n",
            "                                                                                                  \n",
            " leaky_re_lu_12 (LeakyReLU)  (None, 1, 1, 512)            0         ['conv2d_12[0][0]']           \n",
            "                                                                                                  \n",
            " conv2d_13 (Conv2D)          (None, 1, 1, 512)            262656    ['leaky_re_lu_12[0][0]']      \n",
            "                                                                                                  \n",
            " leaky_re_lu_13 (LeakyReLU)  (None, 1, 1, 512)            0         ['conv2d_13[0][0]']           \n",
            "                                                                                                  \n",
            " flatten (Flatten)           (None, 512)                  0         ['leaky_re_lu_13[0][0]']      \n",
            "                                                                                                  \n",
            " dense (Dense)               (None, 512)                  262656    ['flatten[0][0]']             \n",
            "                                                                                                  \n",
            " leaky_re_lu_14 (LeakyReLU)  (None, 512)                  0         ['dense[0][0]']               \n",
            "                                                                                                  \n",
            " dense_1 (Dense)             (None, 2)                    1026      ['leaky_re_lu_14[0][0]']      \n",
            "                                                                                                  \n",
            " classification (Activation  (None, 2)                    0         ['dense_1[0][0]']             \n",
            " )                                                                                                \n",
            "                                                                                                  \n",
            "==================================================================================================\n",
            "Total params: 2016034 (7.69 MB)\n",
            "Trainable params: 2016034 (7.69 MB)\n",
            "Non-trainable params: 0 (0.00 Byte)\n",
            "__________________________________________________________________________________________________\n"
          ]
        }
      ],
      "source": [
        "from tensorflow.keras.models import load_model\n",
        "\n",
        "# Path to the saved model in Google Drive\n",
        "model_path = '/gdrive/My Drive/MyFolder/Tomography.keras'\n",
        "\n",
        "# Load the model\n",
        "model = load_model(model_path)\n",
        "\n",
        "# Verify the model is loaded\n",
        "model.summary()"
      ]
    },
    {
      "cell_type": "code",
      "execution_count": null,
      "metadata": {
        "colab": {
          "base_uri": "https://localhost:8080/"
        },
        "id": "o9WvWyNV7Et-",
        "outputId": "4d31acaf-04e4-45b6-e292-072ddfe4cd3b"
      },
      "outputs": [
        {
          "output_type": "stream",
          "name": "stdout",
          "text": [
            "Collecting pylatexenc\n",
            "  Downloading pylatexenc-2.10.tar.gz (162 kB)\n",
            "\u001b[2K     \u001b[90m━━━━━━━━━━━━━━━━━━━━━━━━━━━━━━━━━━━━━━━━\u001b[0m \u001b[32m162.6/162.6 kB\u001b[0m \u001b[31m1.5 MB/s\u001b[0m eta \u001b[36m0:00:00\u001b[0m\n",
            "\u001b[?25h  Preparing metadata (setup.py) ... \u001b[?25l\u001b[?25hdone\n",
            "Building wheels for collected packages: pylatexenc\n",
            "  Building wheel for pylatexenc (setup.py) ... \u001b[?25l\u001b[?25hdone\n",
            "  Created wheel for pylatexenc: filename=pylatexenc-2.10-py3-none-any.whl size=136816 sha256=ae67d4f7ab5aa99cd62bb968eb66318708d56bb4c753fe704c87d4d4cd7d1fc0\n",
            "  Stored in directory: /root/.cache/pip/wheels/d3/31/8b/e09b0386afd80cfc556c00408c9aeea5c35c4d484a9c762fd5\n",
            "Successfully built pylatexenc\n",
            "Installing collected packages: pylatexenc\n",
            "Successfully installed pylatexenc-2.10\n"
          ]
        }
      ],
      "source": [
        "!pip install pylatexenc"
      ]
    },
    {
      "cell_type": "code",
      "execution_count": null,
      "metadata": {
        "id": "PxVzxbaF2LnA"
      },
      "outputs": [],
      "source": [
        "from qiskit import QuantumCircuit\n",
        "from qiskit.quantum_info import Statevector, DensityMatrix\n",
        "\n",
        "# Create a quantum circuit\n",
        "n_qubits = 2\n",
        "data_amount = 10000\n",
        "density_matrices = np.empty([data_amount, 4, 4], dtype=complex)\n",
        "for i in range(data_amount):\n",
        "  qc = QuantumCircuit(n_qubits)\n",
        "  # Apply a U gate with random parameters to each qubit\n",
        "  for qubit in range(n_qubits):\n",
        "      theta = np.random.uniform(0, 2 * np.pi)\n",
        "      phi = np.random.uniform(0, 2 * np.pi)\n",
        "      lambda_ = np.random.uniform(0, 2 * np.pi)\n",
        "      qc.u(theta, phi, lambda_, qubit)\n",
        "  if (i % 4) == 0:\n",
        "    qc.h(0)\n",
        "    qc.cx(0, 1)\n",
        "  elif (i % 4) == 2:\n",
        "    qc.h(1)\n",
        "    qc.cx(1, 0)\n",
        "  # Get the statevector of the quantum circuit\n",
        "  statevector = Statevector.from_instruction(qc)\n",
        "\n",
        "  # Convert the statevector to a density matrix\n",
        "  density_matrix = DensityMatrix(statevector)\n",
        "  probs = Statevector(statevector).probabilities_dict()\n",
        "\n",
        "  density_matrices[i, :, :] = np.array(density_matrix.data, dtype=complex)"
      ]
    },
    {
      "cell_type": "code",
      "execution_count": null,
      "metadata": {
        "id": "6fwBD2-cHsdK"
      },
      "outputs": [],
      "source": [
        "alternating_list = [1 if i % 2 == 0 else 0 for i in range(len(density_matrices))]\n",
        "label_array = np.array(alternating_list, dtype=int)"
      ]
    },
    {
      "cell_type": "code",
      "execution_count": null,
      "metadata": {
        "id": "98GCSFEle7pH"
      },
      "outputs": [],
      "source": [
        "label_array = tf.keras.utils.to_categorical(label_array)"
      ]
    },
    {
      "cell_type": "code",
      "execution_count": null,
      "metadata": {
        "id": "lTJGvWfa8EJj"
      },
      "outputs": [],
      "source": [
        "IX_removed = np.empty([len(density_matrices), 4, 4], dtype=complex)\n",
        "for i in range(len(density_matrices)):\n",
        "  IX_removed[i, :, :] = (density_matrices[i, :, :]) - (np.trace(np.matmul((density_matrices[i, :, :]), IX))/4 * IX)"
      ]
    },
    {
      "cell_type": "code",
      "execution_count": null,
      "metadata": {
        "id": "BWklfg5wFs2K"
      },
      "outputs": [],
      "source": [
        "IX_removed = IX_removed.reshape(len(density_matrices), 16)"
      ]
    },
    {
      "cell_type": "code",
      "execution_count": null,
      "metadata": {
        "id": "fSIV9x_VFy8U"
      },
      "outputs": [],
      "source": [
        "# Separating real and imaginary values\n",
        "vector1 = np.empty([len(density_matrices), 32], dtype=np.float32)\n",
        "for i in range(len(density_matrices)):\n",
        "    for j in range(16):\n",
        "        vector1[i, 2 * j] = IX_removed[i, j].real\n",
        "        vector1[i, 2 * j + 1] = IX_removed[i, j].imag\n",
        "# Reshaping to 3D tensors\n",
        "tensor = vector1.reshape(len(density_matrices), 4, 4, 2)"
      ]
    },
    {
      "cell_type": "code",
      "execution_count": null,
      "metadata": {
        "colab": {
          "base_uri": "https://localhost:8080/"
        },
        "id": "U4fFQZ7XGNx2",
        "outputId": "65110cc6-2ae6-4beb-d3ec-eb69ada01f4d"
      },
      "outputs": [
        {
          "output_type": "stream",
          "name": "stdout",
          "text": [
            "Epoch 1/4\n",
            "64/64 [==============================] - 22s 304ms/step - loss: 0.0931 - categorical_accuracy: 0.9645 - val_loss: 0.0339 - val_categorical_accuracy: 0.9930\n",
            "Epoch 2/4\n",
            "64/64 [==============================] - 19s 299ms/step - loss: 0.0246 - categorical_accuracy: 0.9940 - val_loss: 0.0305 - val_categorical_accuracy: 0.9940\n",
            "Epoch 3/4\n",
            "64/64 [==============================] - 19s 303ms/step - loss: 0.0151 - categorical_accuracy: 0.9965 - val_loss: 0.0262 - val_categorical_accuracy: 0.9930\n",
            "Epoch 4/4\n",
            "64/64 [==============================] - 20s 316ms/step - loss: 0.0119 - categorical_accuracy: 0.9970 - val_loss: 0.0334 - val_categorical_accuracy: 0.9910\n"
          ]
        }
      ],
      "source": [
        "model.compile(\n",
        "    optimizer = optimizers.SGD(\n",
        "        learning_rate = 0.01, momentum = 0.9,\n",
        "    ),\n",
        "    loss = {\n",
        "#        'regression': losses.mse\n",
        "        'classification': losses.categorical_crossentropy\n",
        "        },\n",
        "    metrics = {\n",
        "#        'regression': metrics.mae\n",
        "        'classification': metrics.categorical_accuracy\n",
        "        }\n",
        ")\n",
        "\n",
        "history1 = model.fit(\n",
        "    tensor[:len(density_matrices)-2000, :, :, :],\n",
        "    {#'regression': reg_label[:len(data)-20000]\n",
        "     'classification': label_array[:len(density_matrices)-2000]\n",
        "     },\n",
        "    batch_size = 125,\n",
        "    epochs = 4,\n",
        "    callbacks = callback_list,\n",
        "    validation_data = (tensor[len(density_matrices)-2000:len(density_matrices)-1000, :, :, :],\n",
        "                     {#'regression': reg_label[len(data)-20000:len(data)-10000]\n",
        "                      'classification': label_array[len(density_matrices)-2000:len(density_matrices)-1000]\n",
        "                      }\n",
        "                     ),\n",
        ")"
      ]
    },
    {
      "cell_type": "code",
      "execution_count": null,
      "metadata": {
        "colab": {
          "base_uri": "https://localhost:8080/"
        },
        "id": "gJnIfX82fw-3",
        "outputId": "d2ae8956-fd43-49c9-e84f-049a5a54edd3"
      },
      "outputs": [
        {
          "output_type": "stream",
          "name": "stdout",
          "text": [
            "32/32 [==============================] - 1s 9ms/step - loss: 0.0122 - categorical_accuracy: 0.9970\n"
          ]
        },
        {
          "output_type": "execute_result",
          "data": {
            "text/plain": [
              "[0.012181775644421577, 0.996999979019165]"
            ]
          },
          "metadata": {},
          "execution_count": 20
        }
      ],
      "source": [
        "model.evaluate(tensor[len(density_matrices)-1000:len(density_matrices), :, :, :], label_array[len(density_matrices)-1000:len(density_matrices), :])"
      ]
    },
    {
      "cell_type": "code",
      "execution_count": null,
      "metadata": {
        "id": "G-yCM6RxGyUS"
      },
      "outputs": [],
      "source": [
        "IX_removed = IX_removed.reshape([len(density_matrices), 4, 4])\n",
        "IX_IY_removed = np.empty([len(density_matrices), 4, 4], dtype=complex)\n",
        "for i in range(len(density_matrices)):\n",
        "  IX_IY_removed[i, :, :] = IX_removed[i, :, :] - (np.trace(np.matmul((density_matrices[i, :, :]), IY))/4 * IY)"
      ]
    },
    {
      "cell_type": "code",
      "execution_count": null,
      "metadata": {
        "id": "MZW-dlZugWvn"
      },
      "outputs": [],
      "source": [
        "IX_IY_removed = IX_IY_removed.reshape(len(density_matrices), 16)"
      ]
    },
    {
      "cell_type": "code",
      "execution_count": null,
      "metadata": {
        "id": "npYnZTCNg_tV"
      },
      "outputs": [],
      "source": [
        "# Separating real and imaginary values\n",
        "vector1 = np.empty([len(density_matrices), 32], dtype=np.float32)\n",
        "for i in range(len(density_matrices)):\n",
        "    for j in range(16):\n",
        "        vector1[i, 2 * j] = IX_IY_removed[i, j].real\n",
        "        vector1[i, 2 * j + 1] = IX_IY_removed[i, j].imag\n",
        "# Reshaping to 3D tensors\n",
        "del IX_removed\n",
        "tensor = vector1.reshape(len(density_matrices), 4, 4, 2)"
      ]
    },
    {
      "cell_type": "code",
      "execution_count": null,
      "metadata": {
        "colab": {
          "base_uri": "https://localhost:8080/"
        },
        "id": "By9fT_kOhaFx",
        "outputId": "36f7e3ef-2618-40a4-9a24-bcbc728e6d83"
      },
      "outputs": [
        {
          "output_type": "stream",
          "name": "stdout",
          "text": [
            "Epoch 1/4\n",
            "64/64 [==============================] - 22s 315ms/step - loss: 0.0244 - categorical_accuracy: 0.9929 - val_loss: 0.0278 - val_categorical_accuracy: 0.9940\n",
            "Epoch 2/4\n",
            "64/64 [==============================] - 19s 301ms/step - loss: 0.0091 - categorical_accuracy: 0.9976 - val_loss: 0.0283 - val_categorical_accuracy: 0.9940\n",
            "Epoch 3/4\n",
            "64/64 [==============================] - 21s 322ms/step - loss: 0.0076 - categorical_accuracy: 0.9980 - val_loss: 0.0249 - val_categorical_accuracy: 0.9950\n",
            "Epoch 4/4\n",
            "64/64 [==============================] - 19s 299ms/step - loss: 0.0072 - categorical_accuracy: 0.9979 - val_loss: 0.0257 - val_categorical_accuracy: 0.9960\n"
          ]
        }
      ],
      "source": [
        "model.compile(\n",
        "    optimizer = optimizers.SGD(\n",
        "        learning_rate = 0.01, momentum = 0.9,\n",
        "    ),\n",
        "    loss = {\n",
        "#        'regression': losses.mse\n",
        "        'classification': losses.categorical_crossentropy\n",
        "        },\n",
        "    metrics = {\n",
        "#        'regression': metrics.mae\n",
        "        'classification': metrics.categorical_accuracy\n",
        "        }\n",
        ")\n",
        "\n",
        "history1 = model.fit(\n",
        "    tensor[:len(density_matrices)-2000, :, :, :],\n",
        "    {#'regression': reg_label[:len(data)-20000]\n",
        "     'classification': label_array[:len(density_matrices)-2000]\n",
        "     },\n",
        "    batch_size = 125,\n",
        "    epochs = 4,\n",
        "    callbacks = callback_list,\n",
        "    validation_data = (tensor[len(density_matrices)-2000:len(density_matrices)-1000, :, :, :],\n",
        "                     {#'regression': reg_label[len(data)-20000:len(data)-10000]\n",
        "                      'classification': label_array[len(density_matrices)-2000:len(density_matrices)-1000]\n",
        "                      }\n",
        "                     ),\n",
        ")"
      ]
    },
    {
      "cell_type": "code",
      "execution_count": null,
      "metadata": {
        "colab": {
          "base_uri": "https://localhost:8080/"
        },
        "id": "EndDnxhWiV4d",
        "outputId": "8ff21db3-e181-4fd2-dca6-75d95bce9a99"
      },
      "outputs": [
        {
          "output_type": "stream",
          "name": "stdout",
          "text": [
            "32/32 [==============================] - 1s 10ms/step - loss: 0.0104 - categorical_accuracy: 0.9970\n"
          ]
        },
        {
          "output_type": "execute_result",
          "data": {
            "text/plain": [
              "[0.010356473736464977, 0.996999979019165]"
            ]
          },
          "metadata": {},
          "execution_count": 27
        }
      ],
      "source": [
        "model.evaluate(tensor[len(density_matrices)-1000:len(density_matrices), :, :, :], label_array[len(density_matrices)-1000:len(density_matrices), :])"
      ]
    },
    {
      "cell_type": "code",
      "execution_count": null,
      "metadata": {
        "id": "Rl9VbaP8imtP"
      },
      "outputs": [],
      "source": [
        "IX_IY_removed = IX_IY_removed.reshape([len(density_matrices), 4, 4])\n",
        "IX_IY_IZ_removed = np.empty([len(density_matrices), 4, 4], dtype=complex)\n",
        "for i in range(len(density_matrices)):\n",
        "  IX_IY_IZ_removed[i, :, :] = IX_IY_removed[i, :, :] - (np.trace(np.matmul((density_matrices[i, :, :]), IZ))/4 * IZ)"
      ]
    },
    {
      "cell_type": "code",
      "execution_count": null,
      "metadata": {
        "id": "NT0pPDOwjKzY"
      },
      "outputs": [],
      "source": [
        "IX_IY_IZ_removed = IX_IY_IZ_removed.reshape(len(density_matrices), 16)"
      ]
    },
    {
      "cell_type": "code",
      "execution_count": null,
      "metadata": {
        "id": "7Bz6o956jQXA"
      },
      "outputs": [],
      "source": [
        "# Separating real and imaginary values\n",
        "vector1 = np.empty([len(density_matrices), 32], dtype=np.float32)\n",
        "for i in range(len(density_matrices)):\n",
        "    for j in range(16):\n",
        "        vector1[i, 2 * j] = IX_IY_IZ_removed[i, j].real\n",
        "        vector1[i, 2 * j + 1] = IX_IY_IZ_removed[i, j].imag\n",
        "# Reshaping to 3D tensors\n",
        "del IX_IY_removed\n",
        "tensor = vector1.reshape(len(density_matrices), 4, 4, 2)"
      ]
    },
    {
      "cell_type": "code",
      "execution_count": null,
      "metadata": {
        "colab": {
          "base_uri": "https://localhost:8080/"
        },
        "id": "DXKSwBX1jW4n",
        "outputId": "1443e643-1e6d-4a23-d89d-cecf13206e95"
      },
      "outputs": [
        {
          "output_type": "stream",
          "name": "stdout",
          "text": [
            "Epoch 1/4\n",
            "64/64 [==============================] - 23s 332ms/step - loss: 0.0824 - categorical_accuracy: 0.9809 - val_loss: 0.0291 - val_categorical_accuracy: 0.9930\n",
            "Epoch 2/4\n",
            "64/64 [==============================] - 19s 299ms/step - loss: 0.0156 - categorical_accuracy: 0.9959 - val_loss: 0.0252 - val_categorical_accuracy: 0.9950\n",
            "Epoch 3/4\n",
            "64/64 [==============================] - 20s 306ms/step - loss: 0.0096 - categorical_accuracy: 0.9974 - val_loss: 0.0231 - val_categorical_accuracy: 0.9960\n",
            "Epoch 4/4\n",
            "64/64 [==============================] - 20s 312ms/step - loss: 0.0066 - categorical_accuracy: 0.9979 - val_loss: 0.0283 - val_categorical_accuracy: 0.9940\n"
          ]
        }
      ],
      "source": [
        "model.compile(\n",
        "    optimizer = optimizers.SGD(\n",
        "        learning_rate = 0.01, momentum = 0.9,\n",
        "    ),\n",
        "    loss = {\n",
        "#        'regression': losses.mse\n",
        "        'classification': losses.categorical_crossentropy\n",
        "        },\n",
        "    metrics = {\n",
        "#        'regression': metrics.mae\n",
        "        'classification': metrics.categorical_accuracy\n",
        "        }\n",
        ")\n",
        "\n",
        "history1 = model.fit(\n",
        "    tensor[:len(density_matrices)-2000, :, :, :],\n",
        "    {#'regression': reg_label[:len(data)-20000]\n",
        "     'classification': label_array[:len(density_matrices)-2000]\n",
        "     },\n",
        "    batch_size = 125,\n",
        "    epochs = 4,\n",
        "    callbacks = callback_list,\n",
        "    validation_data = (tensor[len(density_matrices)-2000:len(density_matrices)-1000, :, :, :],\n",
        "                     {#'regression': reg_label[len(data)-20000:len(data)-10000]\n",
        "                      'classification': label_array[len(density_matrices)-2000:len(density_matrices)-1000]\n",
        "                      }\n",
        "                     ),\n",
        ")"
      ]
    },
    {
      "cell_type": "code",
      "execution_count": null,
      "metadata": {
        "id": "8Qqj4V3xjeQ2",
        "colab": {
          "base_uri": "https://localhost:8080/"
        },
        "outputId": "10731407-9bb1-493f-9b07-bbb125c6e25a"
      },
      "outputs": [
        {
          "output_type": "stream",
          "name": "stdout",
          "text": [
            "32/32 [==============================] - 1s 16ms/step - loss: 0.0111 - categorical_accuracy: 0.9970\n"
          ]
        },
        {
          "output_type": "execute_result",
          "data": {
            "text/plain": [
              "[0.01108618825674057, 0.996999979019165]"
            ]
          },
          "metadata": {},
          "execution_count": 34
        }
      ],
      "source": [
        "model.evaluate(tensor[len(density_matrices)-1000:len(density_matrices), :, :, :], label_array[len(density_matrices)-1000:len(density_matrices), :])"
      ]
    },
    {
      "cell_type": "code",
      "source": [
        "IX_IY_IZ_removed = IX_IY_IZ_removed.reshape([len(density_matrices), 4, 4])\n",
        "IX_IY_IZ_XI_removed = np.empty([len(density_matrices), 4, 4], dtype=complex)\n",
        "for i in range(len(density_matrices)):\n",
        "  IX_IY_IZ_XI_removed[i, :, :] = IX_IY_IZ_removed[i, :, :] - (np.trace(np.matmul((density_matrices[i, :, :]), XI))/4 * XI)"
      ],
      "metadata": {
        "id": "EFV4g85OkqWW"
      },
      "execution_count": null,
      "outputs": []
    },
    {
      "cell_type": "code",
      "source": [
        "IX_IY_IZ_XI_removed = IX_IY_IZ_XI_removed.reshape(len(density_matrices), 16)"
      ],
      "metadata": {
        "id": "f8M17T_QlJhY"
      },
      "execution_count": null,
      "outputs": []
    },
    {
      "cell_type": "code",
      "source": [
        "# Separating real and imaginary values\n",
        "vector1 = np.empty([len(density_matrices), 32], dtype=np.float32)\n",
        "for i in range(len(density_matrices)):\n",
        "    for j in range(16):\n",
        "        vector1[i, 2 * j] = IX_IY_IZ_XI_removed[i, j].real\n",
        "        vector1[i, 2 * j + 1] = IX_IY_IZ_XI_removed[i, j].imag\n",
        "# Reshaping to 3D tensors\n",
        "del IX_IY_IZ_removed\n",
        "tensor = vector1.reshape(len(density_matrices), 4, 4, 2)"
      ],
      "metadata": {
        "id": "eJcnZPgNlNcY"
      },
      "execution_count": null,
      "outputs": []
    },
    {
      "cell_type": "code",
      "source": [
        "model.compile(\n",
        "    optimizer = optimizers.SGD(\n",
        "        learning_rate = 0.01, momentum = 0.9,\n",
        "    ),\n",
        "    loss = {\n",
        "#        'regression': losses.mse\n",
        "        'classification': losses.categorical_crossentropy\n",
        "        },\n",
        "    metrics = {\n",
        "#        'regression': metrics.mae\n",
        "        'classification': metrics.categorical_accuracy\n",
        "        }\n",
        ")\n",
        "\n",
        "history1 = model.fit(\n",
        "    tensor[:len(density_matrices)-2000, :, :, :],\n",
        "    {#'regression': reg_label[:len(data)-20000]\n",
        "     'classification': label_array[:len(density_matrices)-2000]\n",
        "     },\n",
        "    batch_size = 125,\n",
        "    epochs = 4,\n",
        "    callbacks = callback_list,\n",
        "    validation_data = (tensor[len(density_matrices)-2000:len(density_matrices)-1000, :, :, :],\n",
        "                     {#'regression': reg_label[len(data)-20000:len(data)-10000]\n",
        "                      'classification': label_array[len(density_matrices)-2000:len(density_matrices)-1000]\n",
        "                      }\n",
        "                     ),\n",
        ")"
      ],
      "metadata": {
        "colab": {
          "base_uri": "https://localhost:8080/"
        },
        "id": "oIt-VycZlUBJ",
        "outputId": "b2fb1e31-2ebc-409f-be3e-6f0dac223362"
      },
      "execution_count": null,
      "outputs": [
        {
          "output_type": "stream",
          "name": "stdout",
          "text": [
            "Epoch 1/4\n",
            "64/64 [==============================] - 21s 306ms/step - loss: 0.0094 - categorical_accuracy: 0.9973 - val_loss: 0.0255 - val_categorical_accuracy: 0.9950\n",
            "Epoch 2/4\n",
            "64/64 [==============================] - 19s 302ms/step - loss: 0.0065 - categorical_accuracy: 0.9976 - val_loss: 0.0248 - val_categorical_accuracy: 0.9960\n",
            "Epoch 3/4\n",
            "64/64 [==============================] - 21s 322ms/step - loss: 0.0039 - categorical_accuracy: 0.9989 - val_loss: 0.0264 - val_categorical_accuracy: 0.9960\n",
            "Epoch 4/4\n",
            "64/64 [==============================] - 21s 320ms/step - loss: 0.0031 - categorical_accuracy: 0.9994 - val_loss: 0.0288 - val_categorical_accuracy: 0.9960\n"
          ]
        }
      ]
    },
    {
      "cell_type": "code",
      "source": [
        "model.evaluate(tensor[len(density_matrices)-1000:len(density_matrices), :, :, :], label_array[len(density_matrices)-1000:len(density_matrices), :])"
      ],
      "metadata": {
        "colab": {
          "base_uri": "https://localhost:8080/"
        },
        "id": "y9fbXIj1lXyc",
        "outputId": "f3ed1fd8-38bc-4350-9a96-18f44192506d"
      },
      "execution_count": null,
      "outputs": [
        {
          "output_type": "stream",
          "name": "stdout",
          "text": [
            "32/32 [==============================] - 1s 11ms/step - loss: 0.0095 - categorical_accuracy: 0.9970\n"
          ]
        },
        {
          "output_type": "execute_result",
          "data": {
            "text/plain": [
              "[0.009469522163271904, 0.996999979019165]"
            ]
          },
          "metadata": {},
          "execution_count": 39
        }
      ]
    },
    {
      "cell_type": "code",
      "source": [
        "IX_IY_IZ_XI_removed = IX_IY_IZ_XI_removed.reshape([len(density_matrices), 4, 4])\n",
        "IX_IY_IZ_XI_XX_removed = np.empty([len(density_matrices), 4, 4], dtype=complex)\n",
        "for i in range(len(density_matrices)):\n",
        "  IX_IY_IZ_XI_XX_removed[i, :, :] = IX_IY_IZ_XI_removed[i, :, :] - (np.trace(np.matmul((density_matrices[i, :, :]), XX))/4 * XX)"
      ],
      "metadata": {
        "id": "JVrSwwi-lhCI"
      },
      "execution_count": null,
      "outputs": []
    },
    {
      "cell_type": "code",
      "source": [
        "IX_IY_IZ_XI_XX_removed = IX_IY_IZ_XI_XX_removed.reshape(len(density_matrices), 16)"
      ],
      "metadata": {
        "id": "Y31JhK8n2k8w"
      },
      "execution_count": null,
      "outputs": []
    },
    {
      "cell_type": "code",
      "source": [
        "# Separating real and imaginary values\n",
        "vector1 = np.empty([len(density_matrices), 32], dtype=np.float32)\n",
        "for i in range(len(density_matrices)):\n",
        "    for j in range(16):\n",
        "        vector1[i, 2 * j] = IX_IY_IZ_XI_XX_removed[i, j].real\n",
        "        vector1[i, 2 * j + 1] = IX_IY_IZ_XI_XX_removed[i, j].imag\n",
        "# Reshaping to 3D tensors\n",
        "del IX_IY_IZ_XI_removed\n",
        "tensor = vector1.reshape(len(density_matrices), 4, 4, 2)"
      ],
      "metadata": {
        "id": "odcVg-Ot2vlF"
      },
      "execution_count": null,
      "outputs": []
    },
    {
      "cell_type": "code",
      "source": [
        "model.compile(\n",
        "    optimizer = optimizers.SGD(\n",
        "        learning_rate = 0.01, momentum = 0.9,\n",
        "    ),\n",
        "    loss = {\n",
        "#        'regression': losses.mse\n",
        "        'classification': losses.categorical_crossentropy\n",
        "        },\n",
        "    metrics = {\n",
        "#        'regression': metrics.mae\n",
        "        'classification': metrics.categorical_accuracy\n",
        "        }\n",
        ")\n",
        "\n",
        "history1 = model.fit(\n",
        "    tensor[:len(density_matrices)-2000, :, :, :],\n",
        "    {#'regression': reg_label[:len(data)-20000]\n",
        "     'classification': label_array[:len(density_matrices)-2000]\n",
        "     },\n",
        "    batch_size = 125,\n",
        "    epochs = 4,\n",
        "    callbacks = callback_list,\n",
        "    validation_data = (tensor[len(density_matrices)-2000:len(density_matrices)-1000, :, :, :],\n",
        "                     {#'regression': reg_label[len(data)-20000:len(data)-10000]\n",
        "                      'classification': label_array[len(density_matrices)-2000:len(density_matrices)-1000]\n",
        "                      }\n",
        "                     ),\n",
        ")"
      ],
      "metadata": {
        "colab": {
          "base_uri": "https://localhost:8080/"
        },
        "id": "GUBhJP1W23r5",
        "outputId": "8152252a-c8ba-4d84-bbbc-e20654ef4785"
      },
      "execution_count": null,
      "outputs": [
        {
          "output_type": "stream",
          "name": "stdout",
          "text": [
            "Epoch 1/4\n",
            "64/64 [==============================] - 21s 303ms/step - loss: 0.0706 - categorical_accuracy: 0.9789 - val_loss: 0.0572 - val_categorical_accuracy: 0.9860\n",
            "Epoch 2/4\n",
            "64/64 [==============================] - 20s 319ms/step - loss: 0.0327 - categorical_accuracy: 0.9889 - val_loss: 0.0446 - val_categorical_accuracy: 0.9900\n",
            "Epoch 3/4\n",
            "64/64 [==============================] - 19s 301ms/step - loss: 0.0245 - categorical_accuracy: 0.9924 - val_loss: 0.0446 - val_categorical_accuracy: 0.9900\n",
            "Epoch 4/4\n",
            "64/64 [==============================] - 19s 301ms/step - loss: 0.0210 - categorical_accuracy: 0.9930 - val_loss: 0.0457 - val_categorical_accuracy: 0.9920\n"
          ]
        }
      ]
    },
    {
      "cell_type": "code",
      "source": [
        "model.evaluate(tensor[len(density_matrices)-1000:len(density_matrices), :, :, :], label_array[len(density_matrices)-1000:len(density_matrices), :])"
      ],
      "metadata": {
        "colab": {
          "base_uri": "https://localhost:8080/"
        },
        "id": "YY5EDi-427TM",
        "outputId": "deb0dec6-5f8b-4056-971e-fb61244f9371"
      },
      "execution_count": null,
      "outputs": [
        {
          "output_type": "stream",
          "name": "stdout",
          "text": [
            "32/32 [==============================] - 1s 10ms/step - loss: 0.0349 - categorical_accuracy: 0.9880\n"
          ]
        },
        {
          "output_type": "execute_result",
          "data": {
            "text/plain": [
              "[0.03488384187221527, 0.9879999756813049]"
            ]
          },
          "metadata": {},
          "execution_count": 47
        }
      ]
    },
    {
      "cell_type": "code",
      "source": [
        "IX_IY_IZ_XI_XX_removed = IX_IY_IZ_XI_XX_removed.reshape([len(density_matrices), 4, 4])\n",
        "IX_IY_IZ_XI_XX_XY_removed = np.empty([len(density_matrices), 4, 4], dtype=complex)\n",
        "for i in range(len(density_matrices)):\n",
        "  IX_IY_IZ_XI_XX_XY_removed[i, :, :] = IX_IY_IZ_XI_XX_removed[i, :, :] - (np.trace(np.matmul((density_matrices[i, :, :]), XY))/4 * XY)"
      ],
      "metadata": {
        "id": "AB2_eCqX3E6E"
      },
      "execution_count": null,
      "outputs": []
    },
    {
      "cell_type": "code",
      "source": [
        "IX_IY_IZ_XI_XX_XY_removed = IX_IY_IZ_XI_XX_XY_removed.reshape(len(density_matrices), 16)"
      ],
      "metadata": {
        "id": "ABlUmXCg3don"
      },
      "execution_count": null,
      "outputs": []
    },
    {
      "cell_type": "code",
      "source": [
        "# Separating real and imaginary values\n",
        "vector1 = np.empty([len(density_matrices), 32], dtype=np.float32)\n",
        "for i in range(len(density_matrices)):\n",
        "    for j in range(16):\n",
        "        vector1[i, 2 * j] = IX_IY_IZ_XI_XX_XY_removed[i, j].real\n",
        "        vector1[i, 2 * j + 1] = IX_IY_IZ_XI_XX_XY_removed[i, j].imag\n",
        "# Reshaping to 3D tensors\n",
        "del IX_IY_IZ_XI_XX_removed\n",
        "tensor = vector1.reshape(len(density_matrices), 4, 4, 2)"
      ],
      "metadata": {
        "id": "UfXVvZ-j3jBg"
      },
      "execution_count": null,
      "outputs": []
    },
    {
      "cell_type": "code",
      "source": [
        "model.compile(\n",
        "    optimizer = optimizers.SGD(\n",
        "        learning_rate = 0.01, momentum = 0.9,\n",
        "    ),\n",
        "    loss = {\n",
        "#        'regression': losses.mse\n",
        "        'classification': losses.categorical_crossentropy\n",
        "        },\n",
        "    metrics = {\n",
        "#        'regression': metrics.mae\n",
        "        'classification': metrics.categorical_accuracy\n",
        "        }\n",
        ")\n",
        "\n",
        "history1 = model.fit(\n",
        "    tensor[:len(density_matrices)-2000, :, :, :],\n",
        "    {#'regression': reg_label[:len(data)-20000]\n",
        "     'classification': label_array[:len(density_matrices)-2000]\n",
        "     },\n",
        "    batch_size = 125,\n",
        "    epochs = 4,\n",
        "    callbacks = callback_list,\n",
        "    validation_data = (tensor[len(density_matrices)-2000:len(density_matrices)-1000, :, :, :],\n",
        "                     {#'regression': reg_label[len(data)-20000:len(data)-10000]\n",
        "                      'classification': label_array[len(density_matrices)-2000:len(density_matrices)-1000]\n",
        "                      }\n",
        "                     ),\n",
        ")"
      ],
      "metadata": {
        "colab": {
          "base_uri": "https://localhost:8080/"
        },
        "id": "-qRYAIWz3q2z",
        "outputId": "e74b39c1-fc9f-463d-994c-16544eeb8970"
      },
      "execution_count": null,
      "outputs": [
        {
          "output_type": "stream",
          "name": "stdout",
          "text": [
            "Epoch 1/4\n",
            "64/64 [==============================] - 21s 308ms/step - loss: 0.0451 - categorical_accuracy: 0.9839 - val_loss: 0.0434 - val_categorical_accuracy: 0.9880\n",
            "Epoch 2/4\n",
            "64/64 [==============================] - 20s 309ms/step - loss: 0.0278 - categorical_accuracy: 0.9902 - val_loss: 0.0519 - val_categorical_accuracy: 0.9890\n",
            "Epoch 3/4\n",
            "64/64 [==============================] - 21s 320ms/step - loss: 0.0204 - categorical_accuracy: 0.9945 - val_loss: 0.0412 - val_categorical_accuracy: 0.9910\n",
            "Epoch 4/4\n",
            "64/64 [==============================] - 19s 303ms/step - loss: 0.0183 - categorical_accuracy: 0.9941 - val_loss: 0.0491 - val_categorical_accuracy: 0.9910\n"
          ]
        }
      ]
    },
    {
      "cell_type": "code",
      "source": [
        "model.evaluate(tensor[len(density_matrices)-1000:len(density_matrices), :, :, :], label_array[len(density_matrices)-1000:len(density_matrices), :])"
      ],
      "metadata": {
        "colab": {
          "base_uri": "https://localhost:8080/"
        },
        "id": "zeKXB8rI3shR",
        "outputId": "a9501354-d977-44c1-ff2c-c2344af02175"
      },
      "execution_count": null,
      "outputs": [
        {
          "output_type": "stream",
          "name": "stdout",
          "text": [
            "32/32 [==============================] - 1s 9ms/step - loss: 0.0345 - categorical_accuracy: 0.9890\n"
          ]
        },
        {
          "output_type": "execute_result",
          "data": {
            "text/plain": [
              "[0.034479424357414246, 0.9890000224113464]"
            ]
          },
          "metadata": {},
          "execution_count": 52
        }
      ]
    },
    {
      "cell_type": "code",
      "source": [
        "IX_IY_IZ_XI_XX_XY_removed = IX_IY_IZ_XI_XX_XY_removed.reshape([len(density_matrices), 4, 4])\n",
        "IX_IY_IZ_XI_XX_XY_XZ_removed = np.empty([len(density_matrices), 4, 4], dtype=complex)\n",
        "for i in range(len(density_matrices)):\n",
        "  IX_IY_IZ_XI_XX_XY_XZ_removed[i, :, :] = IX_IY_IZ_XI_XX_XY_removed[i, :, :] - (np.trace(np.matmul((density_matrices[i, :, :]), XZ))/4 * XZ)"
      ],
      "metadata": {
        "id": "E3cJ6Rko3weO"
      },
      "execution_count": null,
      "outputs": []
    },
    {
      "cell_type": "code",
      "source": [
        "IX_IY_IZ_XI_XX_XY_XZ_removed = IX_IY_IZ_XI_XX_XY_XZ_removed.reshape(len(density_matrices), 16)"
      ],
      "metadata": {
        "id": "go2UQ13K4LCX"
      },
      "execution_count": null,
      "outputs": []
    },
    {
      "cell_type": "code",
      "source": [
        "# Separating real and imaginary values\n",
        "vector1 = np.empty([len(density_matrices), 32], dtype=np.float32)\n",
        "for i in range(len(density_matrices)):\n",
        "    for j in range(16):\n",
        "        vector1[i, 2 * j] = IX_IY_IZ_XI_XX_XY_XZ_removed[i, j].real\n",
        "        vector1[i, 2 * j + 1] = IX_IY_IZ_XI_XX_XY_XZ_removed[i, j].imag\n",
        "# Reshaping to 3D tensors\n",
        "del IX_IY_IZ_XI_XX_XY_removed\n",
        "tensor = vector1.reshape(len(density_matrices), 4, 4, 2)"
      ],
      "metadata": {
        "id": "bVT4ynb14Viu"
      },
      "execution_count": null,
      "outputs": []
    },
    {
      "cell_type": "code",
      "source": [
        "model.compile(\n",
        "    optimizer = optimizers.SGD(\n",
        "        learning_rate = 0.01, momentum = 0.9,\n",
        "    ),\n",
        "    loss = {\n",
        "#        'regression': losses.mse\n",
        "        'classification': losses.categorical_crossentropy\n",
        "        },\n",
        "    metrics = {\n",
        "#        'regression': metrics.mae\n",
        "        'classification': metrics.categorical_accuracy\n",
        "        }\n",
        ")\n",
        "\n",
        "history1 = model.fit(\n",
        "    tensor[:len(density_matrices)-2000, :, :, :],\n",
        "    {#'regression': reg_label[:len(data)-20000]\n",
        "     'classification': label_array[:len(density_matrices)-2000]\n",
        "     },\n",
        "    batch_size = 125,\n",
        "    epochs = 4,\n",
        "    callbacks = callback_list,\n",
        "    validation_data = (tensor[len(density_matrices)-2000:len(density_matrices)-1000, :, :, :],\n",
        "                     {#'regression': reg_label[len(data)-20000:len(data)-10000]\n",
        "                      'classification': label_array[len(density_matrices)-2000:len(density_matrices)-1000]\n",
        "                      }\n",
        "                     ),\n",
        ")"
      ],
      "metadata": {
        "colab": {
          "base_uri": "https://localhost:8080/"
        },
        "id": "B1_HZ04a4dMQ",
        "outputId": "df674e7e-e60e-4b73-992c-fa5f8027cbd2"
      },
      "execution_count": null,
      "outputs": [
        {
          "output_type": "stream",
          "name": "stdout",
          "text": [
            "Epoch 1/4\n",
            "64/64 [==============================] - 23s 324ms/step - loss: 0.0198 - categorical_accuracy: 0.9923 - val_loss: 0.0341 - val_categorical_accuracy: 0.9940\n",
            "Epoch 2/4\n",
            "64/64 [==============================] - 19s 301ms/step - loss: 0.0153 - categorical_accuracy: 0.9949 - val_loss: 0.0306 - val_categorical_accuracy: 0.9940\n",
            "Epoch 3/4\n",
            "64/64 [==============================] - 19s 302ms/step - loss: 0.0149 - categorical_accuracy: 0.9936 - val_loss: 0.0310 - val_categorical_accuracy: 0.9940\n",
            "Epoch 4/4\n",
            "64/64 [==============================] - 20s 317ms/step - loss: 0.0154 - categorical_accuracy: 0.9940 - val_loss: 0.0455 - val_categorical_accuracy: 0.9890\n"
          ]
        }
      ]
    },
    {
      "cell_type": "code",
      "source": [
        "model.evaluate(tensor[len(density_matrices)-1000:len(density_matrices), :, :, :], label_array[len(density_matrices)-1000:len(density_matrices), :])"
      ],
      "metadata": {
        "colab": {
          "base_uri": "https://localhost:8080/"
        },
        "id": "P-zf_NRb4gHM",
        "outputId": "5afd1cb1-ad24-47ef-95da-b80589b6a456"
      },
      "execution_count": null,
      "outputs": [
        {
          "output_type": "stream",
          "name": "stdout",
          "text": [
            "32/32 [==============================] - 1s 10ms/step - loss: 0.0368 - categorical_accuracy: 0.9890\n"
          ]
        },
        {
          "output_type": "execute_result",
          "data": {
            "text/plain": [
              "[0.036826081573963165, 0.9890000224113464]"
            ]
          },
          "metadata": {},
          "execution_count": 57
        }
      ]
    },
    {
      "cell_type": "code",
      "source": [
        "IX_IY_IZ_XI_XX_XY_XZ_removed = IX_IY_IZ_XI_XX_XY_XZ_removed.reshape([len(density_matrices), 4, 4])\n",
        "IX_IY_IZ_XI_XX_XY_XZ_YI_removed = np.empty([len(density_matrices), 4, 4], dtype=complex)\n",
        "for i in range(len(density_matrices)):\n",
        "  IX_IY_IZ_XI_XX_XY_XZ_YI_removed[i, :, :] = IX_IY_IZ_XI_XX_XY_XZ_removed[i, :, :] - (np.trace(np.matmul((density_matrices[i, :, :]), YI))/4 * YI)"
      ],
      "metadata": {
        "id": "FQcBtToi4iwJ"
      },
      "execution_count": null,
      "outputs": []
    },
    {
      "cell_type": "code",
      "source": [
        "IX_IY_IZ_XI_XX_XY_XZ_YI_removed = IX_IY_IZ_XI_XX_XY_XZ_YI_removed.reshape(len(density_matrices), 16)"
      ],
      "metadata": {
        "id": "gykjhAJ_4xmS"
      },
      "execution_count": null,
      "outputs": []
    },
    {
      "cell_type": "code",
      "source": [
        "# Separating real and imaginary values\n",
        "vector1 = np.empty([len(density_matrices), 32], dtype=np.float32)\n",
        "for i in range(len(density_matrices)):\n",
        "    for j in range(16):\n",
        "        vector1[i, 2 * j] = IX_IY_IZ_XI_XX_XY_XZ_YI_removed[i, j].real\n",
        "        vector1[i, 2 * j + 1] = IX_IY_IZ_XI_XX_XY_XZ_YI_removed[i, j].imag\n",
        "# Reshaping to 3D tensors\n",
        "del IX_IY_IZ_XI_XX_XY_XZ_removed\n",
        "tensor = vector1.reshape(len(density_matrices), 4, 4, 2)"
      ],
      "metadata": {
        "id": "vzMz0Px65A7h"
      },
      "execution_count": null,
      "outputs": []
    },
    {
      "cell_type": "code",
      "source": [
        "model.compile(\n",
        "    optimizer = optimizers.SGD(\n",
        "        learning_rate = 0.01, momentum = 0.9,\n",
        "    ),\n",
        "    loss = {\n",
        "#        'regression': losses.mse\n",
        "        'classification': losses.categorical_crossentropy\n",
        "        },\n",
        "    metrics = {\n",
        "#        'regression': metrics.mae\n",
        "        'classification': metrics.categorical_accuracy\n",
        "        }\n",
        ")\n",
        "\n",
        "history1 = model.fit(\n",
        "    tensor[:len(density_matrices)-2000, :, :, :],\n",
        "    {#'regression': reg_label[:len(data)-20000]\n",
        "     'classification': label_array[:len(density_matrices)-2000]\n",
        "     },\n",
        "    batch_size = 125,\n",
        "    epochs = 4,\n",
        "    callbacks = callback_list,\n",
        "    validation_data = (tensor[len(density_matrices)-2000:len(density_matrices)-1000, :, :, :],\n",
        "                     {#'regression': reg_label[len(data)-20000:len(data)-10000]\n",
        "                      'classification': label_array[len(density_matrices)-2000:len(density_matrices)-1000]\n",
        "                      }\n",
        "                     ),\n",
        ")"
      ],
      "metadata": {
        "colab": {
          "base_uri": "https://localhost:8080/"
        },
        "id": "cJWHS26W5If6",
        "outputId": "cd3bc1ed-412a-41fd-9345-f593aca66eed"
      },
      "execution_count": null,
      "outputs": [
        {
          "output_type": "stream",
          "name": "stdout",
          "text": [
            "Epoch 1/4\n",
            "64/64 [==============================] - 23s 326ms/step - loss: 0.0374 - categorical_accuracy: 0.9891 - val_loss: 0.0493 - val_categorical_accuracy: 0.9910\n",
            "Epoch 2/4\n",
            "64/64 [==============================] - 19s 302ms/step - loss: 0.0204 - categorical_accuracy: 0.9931 - val_loss: 0.0336 - val_categorical_accuracy: 0.9950\n",
            "Epoch 3/4\n",
            "64/64 [==============================] - 19s 302ms/step - loss: 0.0142 - categorical_accuracy: 0.9944 - val_loss: 0.0363 - val_categorical_accuracy: 0.9940\n",
            "Epoch 4/4\n",
            "64/64 [==============================] - 20s 310ms/step - loss: 0.0126 - categorical_accuracy: 0.9955 - val_loss: 0.0353 - val_categorical_accuracy: 0.9960\n"
          ]
        }
      ]
    },
    {
      "cell_type": "code",
      "source": [
        "model.evaluate(tensor[len(density_matrices)-1000:len(density_matrices), :, :, :], label_array[len(density_matrices)-1000:len(density_matrices), :])"
      ],
      "metadata": {
        "colab": {
          "base_uri": "https://localhost:8080/"
        },
        "id": "UyjqzTlg5Lz3",
        "outputId": "190db8be-2a3c-419a-dd99-a66032b06604"
      },
      "execution_count": null,
      "outputs": [
        {
          "output_type": "stream",
          "name": "stdout",
          "text": [
            "32/32 [==============================] - 1s 12ms/step - loss: 0.0242 - categorical_accuracy: 0.9930\n"
          ]
        },
        {
          "output_type": "execute_result",
          "data": {
            "text/plain": [
              "[0.024195872247219086, 0.9929999709129333]"
            ]
          },
          "metadata": {},
          "execution_count": 62
        }
      ]
    },
    {
      "cell_type": "code",
      "source": [
        "IX_IY_IZ_XI_XX_XY_XZ_YI_removed = IX_IY_IZ_XI_XX_XY_XZ_YI_removed.reshape([len(density_matrices), 4, 4])\n",
        "IX_IY_IZ_XI_XX_XY_XZ_YI_YX_removed = np.empty([len(density_matrices), 4, 4], dtype=complex)\n",
        "for i in range(len(density_matrices)):\n",
        "  IX_IY_IZ_XI_XX_XY_XZ_YI_YX_removed[i, :, :] = IX_IY_IZ_XI_XX_XY_XZ_YI_removed[i, :, :] - (np.trace(np.matmul((density_matrices[i, :, :]), YX))/4 * YX)"
      ],
      "metadata": {
        "id": "0S1CNDG75O8R"
      },
      "execution_count": null,
      "outputs": []
    },
    {
      "cell_type": "code",
      "source": [
        "IX_IY_IZ_XI_XX_XY_XZ_YI_YX_removed = IX_IY_IZ_XI_XX_XY_XZ_YI_YX_removed.reshape(len(density_matrices), 16)"
      ],
      "metadata": {
        "id": "tgvPOxkV5blc"
      },
      "execution_count": null,
      "outputs": []
    },
    {
      "cell_type": "code",
      "source": [
        "# Separating real and imaginary values\n",
        "vector1 = np.empty([len(density_matrices), 32], dtype=np.float32)\n",
        "for i in range(len(density_matrices)):\n",
        "    for j in range(16):\n",
        "        vector1[i, 2 * j] = IX_IY_IZ_XI_XX_XY_XZ_YI_YX_removed[i, j].real\n",
        "        vector1[i, 2 * j + 1] = IX_IY_IZ_XI_XX_XY_XZ_YI_YX_removed[i, j].imag\n",
        "# Reshaping to 3D tensors\n",
        "del IX_IY_IZ_XI_XX_XY_XZ_YI_removed\n",
        "tensor = vector1.reshape(len(density_matrices), 4, 4, 2)"
      ],
      "metadata": {
        "id": "mNOrH6qV5gDC"
      },
      "execution_count": null,
      "outputs": []
    },
    {
      "cell_type": "code",
      "source": [
        "model.compile(\n",
        "    optimizer = optimizers.SGD(\n",
        "        learning_rate = 0.01, momentum = 0.9,\n",
        "    ),\n",
        "    loss = {\n",
        "#        'regression': losses.mse\n",
        "        'classification': losses.categorical_crossentropy\n",
        "        },\n",
        "    metrics = {\n",
        "#        'regression': metrics.mae\n",
        "        'classification': metrics.categorical_accuracy\n",
        "        }\n",
        ")\n",
        "\n",
        "history1 = model.fit(\n",
        "    tensor[:len(density_matrices)-2000, :, :, :],\n",
        "    {#'regression': reg_label[:len(data)-20000]\n",
        "     'classification': label_array[:len(density_matrices)-2000]\n",
        "     },\n",
        "    batch_size = 125,\n",
        "    epochs = 4,\n",
        "    callbacks = callback_list,\n",
        "    validation_data = (tensor[len(density_matrices)-2000:len(density_matrices)-1000, :, :, :],\n",
        "                     {#'regression': reg_label[len(data)-20000:len(data)-10000]\n",
        "                      'classification': label_array[len(density_matrices)-2000:len(density_matrices)-1000]\n",
        "                      }\n",
        "                     ),\n",
        ")"
      ],
      "metadata": {
        "colab": {
          "base_uri": "https://localhost:8080/"
        },
        "id": "eD1NMgQs6Scl",
        "outputId": "c8fb4754-ff3d-4638-bf5a-97adcffdaaac"
      },
      "execution_count": null,
      "outputs": [
        {
          "output_type": "stream",
          "name": "stdout",
          "text": [
            "Epoch 1/4\n",
            "64/64 [==============================] - 22s 321ms/step - loss: 0.1314 - categorical_accuracy: 0.9630 - val_loss: 0.0823 - val_categorical_accuracy: 0.9800\n",
            "Epoch 2/4\n",
            "64/64 [==============================] - 20s 312ms/step - loss: 0.0597 - categorical_accuracy: 0.9830 - val_loss: 0.0431 - val_categorical_accuracy: 0.9910\n",
            "Epoch 3/4\n",
            "64/64 [==============================] - 19s 299ms/step - loss: 0.0453 - categorical_accuracy: 0.9868 - val_loss: 0.0500 - val_categorical_accuracy: 0.9890\n",
            "Epoch 4/4\n",
            "64/64 [==============================] - 19s 301ms/step - loss: 0.0428 - categorical_accuracy: 0.9869 - val_loss: 0.0431 - val_categorical_accuracy: 0.9890\n"
          ]
        }
      ]
    },
    {
      "cell_type": "code",
      "source": [
        "model.evaluate(tensor[len(density_matrices)-1000:len(density_matrices), :, :, :], label_array[len(density_matrices)-1000:len(density_matrices), :])"
      ],
      "metadata": {
        "colab": {
          "base_uri": "https://localhost:8080/"
        },
        "id": "EnaGEB6A6VgD",
        "outputId": "9f1ecfdd-2a12-4812-9585-b341c1572e13"
      },
      "execution_count": null,
      "outputs": [
        {
          "output_type": "stream",
          "name": "stdout",
          "text": [
            "32/32 [==============================] - 1s 15ms/step - loss: 0.0577 - categorical_accuracy: 0.9820\n"
          ]
        },
        {
          "output_type": "execute_result",
          "data": {
            "text/plain": [
              "[0.05769799277186394, 0.9819999933242798]"
            ]
          },
          "metadata": {},
          "execution_count": 68
        }
      ]
    },
    {
      "cell_type": "code",
      "source": [
        "IX_IY_IZ_XI_XX_XY_XZ_YI_YX_removed = IX_IY_IZ_XI_XX_XY_XZ_YI_YX_removed.reshape([len(density_matrices), 4, 4])\n",
        "IX_IY_IZ_XI_XX_XY_XZ_YI_YX_YZ_removed = np.empty([len(density_matrices), 4, 4], dtype=complex)\n",
        "for i in range(len(density_matrices)):\n",
        "  IX_IY_IZ_XI_XX_XY_XZ_YI_YX_YZ_removed[i, :, :] = IX_IY_IZ_XI_XX_XY_XZ_YI_YX_removed[i, :, :] - (np.trace(np.matmul((density_matrices[i, :, :]), YZ))/4 * YZ)"
      ],
      "metadata": {
        "id": "eFBWE4kf6ZeB"
      },
      "execution_count": null,
      "outputs": []
    },
    {
      "cell_type": "code",
      "source": [
        "IX_IY_IZ_XI_XX_XY_XZ_YI_YX_YZ_removed = IX_IY_IZ_XI_XX_XY_XZ_YI_YX_YZ_removed.reshape(len(density_matrices), 16)"
      ],
      "metadata": {
        "id": "zNS2t93x6kVG"
      },
      "execution_count": null,
      "outputs": []
    },
    {
      "cell_type": "code",
      "source": [
        "# Separating real and imaginary values\n",
        "vector1 = np.empty([len(density_matrices), 32], dtype=np.float32)\n",
        "for i in range(len(density_matrices)):\n",
        "    for j in range(16):\n",
        "        vector1[i, 2 * j] = IX_IY_IZ_XI_XX_XY_XZ_YI_YX_YZ_removed[i, j].real\n",
        "        vector1[i, 2 * j + 1] = IX_IY_IZ_XI_XX_XY_XZ_YI_YX_YZ_removed[i, j].imag\n",
        "# Reshaping to 3D tensors\n",
        "del IX_IY_IZ_XI_XX_XY_XZ_YI_YX_removed\n",
        "tensor = vector1.reshape(len(density_matrices), 4, 4, 2)"
      ],
      "metadata": {
        "id": "aF9BtU846s6p"
      },
      "execution_count": null,
      "outputs": []
    },
    {
      "cell_type": "code",
      "source": [
        "model.compile(\n",
        "    optimizer = optimizers.SGD(\n",
        "        learning_rate = 0.01, momentum = 0.9,\n",
        "    ),\n",
        "    loss = {\n",
        "#        'regression': losses.mse\n",
        "        'classification': losses.categorical_crossentropy\n",
        "        },\n",
        "    metrics = {\n",
        "#        'regression': metrics.mae\n",
        "        'classification': metrics.categorical_accuracy\n",
        "        }\n",
        ")\n",
        "\n",
        "history1 = model.fit(\n",
        "    tensor[:len(density_matrices)-2000, :, :, :],\n",
        "    {#'regression': reg_label[:len(data)-20000]\n",
        "     'classification': label_array[:len(density_matrices)-2000]\n",
        "     },\n",
        "    batch_size = 125,\n",
        "    epochs = 4,\n",
        "    callbacks = callback_list,\n",
        "    validation_data = (tensor[len(density_matrices)-2000:len(density_matrices)-1000, :, :, :],\n",
        "                     {#'regression': reg_label[len(data)-20000:len(data)-10000]\n",
        "                      'classification': label_array[len(density_matrices)-2000:len(density_matrices)-1000]\n",
        "                      }\n",
        "                     ),\n",
        ")"
      ],
      "metadata": {
        "colab": {
          "base_uri": "https://localhost:8080/"
        },
        "id": "ytnfVssd66nB",
        "outputId": "4b2e4499-5d41-4b7c-d2da-4300c3158569"
      },
      "execution_count": null,
      "outputs": [
        {
          "output_type": "stream",
          "name": "stdout",
          "text": [
            "Epoch 1/4\n",
            "64/64 [==============================] - 21s 305ms/step - loss: 0.3026 - categorical_accuracy: 0.9029 - val_loss: 0.1574 - val_categorical_accuracy: 0.9430\n",
            "Epoch 2/4\n",
            "64/64 [==============================] - 19s 300ms/step - loss: 0.1472 - categorical_accuracy: 0.9491 - val_loss: 0.1469 - val_categorical_accuracy: 0.9520\n",
            "Epoch 3/4\n",
            "64/64 [==============================] - 21s 323ms/step - loss: 0.1198 - categorical_accuracy: 0.9582 - val_loss: 0.1434 - val_categorical_accuracy: 0.9460\n",
            "Epoch 4/4\n",
            "64/64 [==============================] - 19s 304ms/step - loss: 0.1224 - categorical_accuracy: 0.9569 - val_loss: 0.1123 - val_categorical_accuracy: 0.9660\n"
          ]
        }
      ]
    },
    {
      "cell_type": "code",
      "source": [
        "model.evaluate(tensor[len(density_matrices)-1000:len(density_matrices), :, :, :], label_array[len(density_matrices)-1000:len(density_matrices), :])"
      ],
      "metadata": {
        "colab": {
          "base_uri": "https://localhost:8080/"
        },
        "id": "H1dNIabq68lL",
        "outputId": "55bfe1e7-4e1e-4a13-9761-f294c65ef56b"
      },
      "execution_count": null,
      "outputs": [
        {
          "output_type": "stream",
          "name": "stdout",
          "text": [
            "32/32 [==============================] - 1s 10ms/step - loss: 0.1227 - categorical_accuracy: 0.9560\n"
          ]
        },
        {
          "output_type": "execute_result",
          "data": {
            "text/plain": [
              "[0.12274611741304398, 0.9559999704360962]"
            ]
          },
          "metadata": {},
          "execution_count": 73
        }
      ]
    },
    {
      "cell_type": "code",
      "source": [
        "IX_IY_IZ_XI_XX_XY_XZ_YI_YX_YZ_removed = IX_IY_IZ_XI_XX_XY_XZ_YI_YX_YZ_removed.reshape([len(density_matrices), 4, 4])\n",
        "IX_IY_IZ_XI_XX_XY_XZ_YI_YX_YZ_ZI_removed = np.empty([len(density_matrices), 4, 4], dtype=complex)\n",
        "for i in range(len(density_matrices)):\n",
        "  IX_IY_IZ_XI_XX_XY_XZ_YI_YX_YZ_ZI_removed[i, :, :] = IX_IY_IZ_XI_XX_XY_XZ_YI_YX_YZ_removed[i, :, :] - (np.trace(np.matmul((density_matrices[i, :, :]), ZI))/4 * ZI)"
      ],
      "metadata": {
        "id": "5FGv_F2X6--E"
      },
      "execution_count": null,
      "outputs": []
    },
    {
      "cell_type": "code",
      "source": [
        "IX_IY_IZ_XI_XX_XY_XZ_YI_YX_YZ_ZI_removed = IX_IY_IZ_XI_XX_XY_XZ_YI_YX_YZ_ZI_removed.reshape(len(density_matrices), 16)"
      ],
      "metadata": {
        "id": "Sdy3foWF7P9X"
      },
      "execution_count": null,
      "outputs": []
    },
    {
      "cell_type": "code",
      "source": [
        "# Separating real and imaginary values\n",
        "vector1 = np.empty([len(density_matrices), 32], dtype=np.float32)\n",
        "for i in range(len(density_matrices)):\n",
        "    for j in range(16):\n",
        "        vector1[i, 2 * j] = IX_IY_IZ_XI_XX_XY_XZ_YI_YX_YZ_ZI_removed[i, j].real\n",
        "        vector1[i, 2 * j + 1] = IX_IY_IZ_XI_XX_XY_XZ_YI_YX_YZ_ZI_removed[i, j].imag\n",
        "# Reshaping to 3D tensors\n",
        "del IX_IY_IZ_XI_XX_XY_XZ_YI_YX_YZ_removed\n",
        "tensor = vector1.reshape(len(density_matrices), 4, 4, 2)"
      ],
      "metadata": {
        "id": "sCbo6L-a7eAw"
      },
      "execution_count": null,
      "outputs": []
    },
    {
      "cell_type": "code",
      "source": [
        "model.compile(\n",
        "    optimizer = optimizers.SGD(\n",
        "        learning_rate = 0.01, momentum = 0.9,\n",
        "    ),\n",
        "    loss = {\n",
        "#        'regression': losses.mse\n",
        "        'classification': losses.categorical_crossentropy\n",
        "        },\n",
        "    metrics = {\n",
        "#        'regression': metrics.mae\n",
        "        'classification': metrics.categorical_accuracy\n",
        "        }\n",
        ")\n",
        "\n",
        "history1 = model.fit(\n",
        "    tensor[:len(density_matrices)-2000, :, :, :],\n",
        "    {#'regression': reg_label[:len(data)-20000]\n",
        "     'classification': label_array[:len(density_matrices)-2000]\n",
        "     },\n",
        "    batch_size = 125,\n",
        "    epochs = 4,\n",
        "    callbacks = callback_list,\n",
        "    validation_data = (tensor[len(density_matrices)-2000:len(density_matrices)-1000, :, :, :],\n",
        "                     {#'regression': reg_label[len(data)-20000:len(data)-10000]\n",
        "                      'classification': label_array[len(density_matrices)-2000:len(density_matrices)-1000]\n",
        "                      }\n",
        "                     ),\n",
        ")"
      ],
      "metadata": {
        "colab": {
          "base_uri": "https://localhost:8080/"
        },
        "id": "2WQopWCr7lIw",
        "outputId": "86e6dfa6-26a0-488f-dbc9-41747e82a28f"
      },
      "execution_count": null,
      "outputs": [
        {
          "output_type": "stream",
          "name": "stdout",
          "text": [
            "Epoch 1/4\n",
            "64/64 [==============================] - 23s 327ms/step - loss: 0.7031 - categorical_accuracy: 0.7215 - val_loss: 0.4470 - val_categorical_accuracy: 0.7700\n",
            "Epoch 2/4\n",
            "64/64 [==============================] - 19s 297ms/step - loss: 0.4110 - categorical_accuracy: 0.7934 - val_loss: 0.4259 - val_categorical_accuracy: 0.7820\n",
            "Epoch 3/4\n",
            "64/64 [==============================] - 19s 303ms/step - loss: 0.3876 - categorical_accuracy: 0.8021 - val_loss: 0.4102 - val_categorical_accuracy: 0.7930\n",
            "Epoch 4/4\n",
            "64/64 [==============================] - 20s 315ms/step - loss: 0.3713 - categorical_accuracy: 0.8154 - val_loss: 0.4157 - val_categorical_accuracy: 0.7890\n"
          ]
        }
      ]
    },
    {
      "cell_type": "code",
      "source": [
        "model.evaluate(tensor[len(density_matrices)-1000:len(density_matrices), :, :, :], label_array[len(density_matrices)-1000:len(density_matrices), :])"
      ],
      "metadata": {
        "colab": {
          "base_uri": "https://localhost:8080/"
        },
        "id": "Nj16R8Bu7m2F",
        "outputId": "fac373a2-dc9a-4121-a4c8-6d3a93398535"
      },
      "execution_count": null,
      "outputs": [
        {
          "output_type": "stream",
          "name": "stdout",
          "text": [
            "32/32 [==============================] - 1s 10ms/step - loss: 0.3826 - categorical_accuracy: 0.8020\n"
          ]
        },
        {
          "output_type": "execute_result",
          "data": {
            "text/plain": [
              "[0.38256600499153137, 0.8019999861717224]"
            ]
          },
          "metadata": {},
          "execution_count": 79
        }
      ]
    },
    {
      "cell_type": "code",
      "source": [
        "IX_IY_IZ_XI_XX_XY_XZ_YI_YX_YZ_ZI_removed = IX_IY_IZ_XI_XX_XY_XZ_YI_YX_YZ_ZI_removed.reshape([len(density_matrices), 4, 4])\n",
        "IX_IY_IZ_XI_XX_XY_XZ_YI_YX_YZ_ZI_ZX_removed = np.empty([len(density_matrices), 4, 4], dtype=complex)\n",
        "for i in range(len(density_matrices)):\n",
        "  IX_IY_IZ_XI_XX_XY_XZ_YI_YX_YZ_ZI_ZX_removed[i, :, :] = IX_IY_IZ_XI_XX_XY_XZ_YI_YX_YZ_ZI_removed[i, :, :] - (np.trace(np.matmul((density_matrices[i, :, :]), ZX))/4 * ZX)"
      ],
      "metadata": {
        "id": "raXFFpxu7pbL"
      },
      "execution_count": null,
      "outputs": []
    },
    {
      "cell_type": "code",
      "source": [
        "IX_IY_IZ_XI_XX_XY_XZ_YI_YX_YZ_ZI_ZX_removed = IX_IY_IZ_XI_XX_XY_XZ_YI_YX_YZ_ZI_ZX_removed.reshape(len(density_matrices), 16)"
      ],
      "metadata": {
        "id": "acaIFrIx78-p"
      },
      "execution_count": null,
      "outputs": []
    },
    {
      "cell_type": "code",
      "source": [
        "# Separating real and imaginary values\n",
        "vector1 = np.empty([len(density_matrices), 32], dtype=np.float32)\n",
        "for i in range(len(density_matrices)):\n",
        "    for j in range(16):\n",
        "        vector1[i, 2 * j] = IX_IY_IZ_XI_XX_XY_XZ_YI_YX_YZ_ZI_ZX_removed[i, j].real\n",
        "        vector1[i, 2 * j + 1] = IX_IY_IZ_XI_XX_XY_XZ_YI_YX_YZ_ZI_ZX_removed[i, j].imag\n",
        "# Reshaping to 3D tensors\n",
        "del IX_IY_IZ_XI_XX_XY_XZ_YI_YX_YZ_ZI_removed\n",
        "tensor = vector1.reshape(len(density_matrices), 4, 4, 2)"
      ],
      "metadata": {
        "id": "eBeemUPH8MP2"
      },
      "execution_count": null,
      "outputs": []
    },
    {
      "cell_type": "code",
      "source": [
        "model.compile(\n",
        "    optimizer = optimizers.SGD(\n",
        "        learning_rate = 0.01, momentum = 0.9,\n",
        "    ),\n",
        "    loss = {\n",
        "#        'regression': losses.mse\n",
        "        'classification': losses.categorical_crossentropy\n",
        "        },\n",
        "    metrics = {\n",
        "#        'regression': metrics.mae\n",
        "        'classification': metrics.categorical_accuracy\n",
        "        }\n",
        ")\n",
        "\n",
        "history1 = model.fit(\n",
        "    tensor[:len(density_matrices)-2000, :, :, :],\n",
        "    {#'regression': reg_label[:len(data)-20000]\n",
        "     'classification': label_array[:len(density_matrices)-2000]\n",
        "     },\n",
        "    batch_size = 125,\n",
        "    epochs = 4,\n",
        "    callbacks = callback_list,\n",
        "    validation_data = (tensor[len(density_matrices)-2000:len(density_matrices)-1000, :, :, :],\n",
        "                     {#'regression': reg_label[len(data)-20000:len(data)-10000]\n",
        "                      'classification': label_array[len(density_matrices)-2000:len(density_matrices)-1000]\n",
        "                      }\n",
        "                     ),\n",
        ")"
      ],
      "metadata": {
        "colab": {
          "base_uri": "https://localhost:8080/"
        },
        "id": "UWhkDPhQ8TWm",
        "outputId": "842132bf-1327-419e-b1b7-b61d9392f14c"
      },
      "execution_count": null,
      "outputs": [
        {
          "output_type": "stream",
          "name": "stdout",
          "text": [
            "Epoch 1/4\n",
            "64/64 [==============================] - 23s 315ms/step - loss: 0.3648 - categorical_accuracy: 0.8198 - val_loss: 0.3879 - val_categorical_accuracy: 0.8150\n",
            "Epoch 2/4\n",
            "64/64 [==============================] - 19s 301ms/step - loss: 0.3588 - categorical_accuracy: 0.8219 - val_loss: 0.3845 - val_categorical_accuracy: 0.7970\n",
            "Epoch 3/4\n",
            "64/64 [==============================] - 19s 303ms/step - loss: 0.3517 - categorical_accuracy: 0.8248 - val_loss: 0.3849 - val_categorical_accuracy: 0.8160\n",
            "Epoch 4/4\n",
            "64/64 [==============================] - 20s 319ms/step - loss: 0.3471 - categorical_accuracy: 0.8291 - val_loss: 0.3804 - val_categorical_accuracy: 0.8100\n"
          ]
        }
      ]
    },
    {
      "cell_type": "code",
      "source": [
        "model.evaluate(tensor[len(density_matrices)-1000:len(density_matrices), :, :, :], label_array[len(density_matrices)-1000:len(density_matrices), :])"
      ],
      "metadata": {
        "colab": {
          "base_uri": "https://localhost:8080/"
        },
        "id": "ZNcC8G2T8V51",
        "outputId": "f98a9757-685d-4c5f-855b-42d6369c3112"
      },
      "execution_count": null,
      "outputs": [
        {
          "output_type": "stream",
          "name": "stdout",
          "text": [
            "32/32 [==============================] - 1s 12ms/step - loss: 0.3551 - categorical_accuracy: 0.8220\n"
          ]
        },
        {
          "output_type": "execute_result",
          "data": {
            "text/plain": [
              "[0.3550804853439331, 0.8220000267028809]"
            ]
          },
          "metadata": {},
          "execution_count": 84
        }
      ]
    },
    {
      "cell_type": "code",
      "source": [
        "IX_IY_IZ_XI_XX_XY_XZ_YI_YX_YZ_ZI_ZX_removed = IX_IY_IZ_XI_XX_XY_XZ_YI_YX_YZ_ZI_ZX_removed.reshape([len(density_matrices), 4, 4])\n",
        "IX_IY_IZ_XI_XX_XY_XZ_YI_YX_YZ_ZI_ZX_ZY_removed = np.empty([len(density_matrices), 4, 4], dtype=complex)\n",
        "for i in range(len(density_matrices)):\n",
        "  IX_IY_IZ_XI_XX_XY_XZ_YI_YX_YZ_ZI_ZX_ZY_removed[i, :, :] = IX_IY_IZ_XI_XX_XY_XZ_YI_YX_YZ_ZI_ZX_removed[i, :, :] - (np.trace(np.matmul((density_matrices[i, :, :]), ZY))/4 * ZY)"
      ],
      "metadata": {
        "id": "lI8Re8pi8YJ_"
      },
      "execution_count": null,
      "outputs": []
    },
    {
      "cell_type": "code",
      "source": [
        "IX_IY_IZ_XI_XX_XY_XZ_YI_YX_YZ_ZI_ZX_ZY_removed = IX_IY_IZ_XI_XX_XY_XZ_YI_YX_YZ_ZI_ZX_ZY_removed.reshape(len(density_matrices), 16)"
      ],
      "metadata": {
        "id": "ULVTguUm86Y4"
      },
      "execution_count": null,
      "outputs": []
    },
    {
      "cell_type": "code",
      "source": [
        "# Separating real and imaginary values\n",
        "vector1 = np.empty([len(density_matrices), 32], dtype=np.float32)\n",
        "for i in range(len(density_matrices)):\n",
        "    for j in range(16):\n",
        "        vector1[i, 2 * j] = IX_IY_IZ_XI_XX_XY_XZ_YI_YX_YZ_ZI_ZX_ZY_removed[i, j].real\n",
        "        vector1[i, 2 * j + 1] = IX_IY_IZ_XI_XX_XY_XZ_YI_YX_YZ_ZI_ZX_ZY_removed[i, j].imag\n",
        "# Reshaping to 3D tensors\n",
        "del IX_IY_IZ_XI_XX_XY_XZ_YI_YX_YZ_ZI_ZX_removed\n",
        "tensor = vector1.reshape(len(density_matrices), 4, 4, 2)"
      ],
      "metadata": {
        "id": "B5Uw7SV09Gz2"
      },
      "execution_count": null,
      "outputs": []
    },
    {
      "cell_type": "code",
      "source": [
        "model.compile(\n",
        "    optimizer = optimizers.SGD(\n",
        "        learning_rate = 0.01, momentum = 0.9,\n",
        "    ),\n",
        "    loss = {\n",
        "#        'regression': losses.mse\n",
        "        'classification': losses.categorical_crossentropy\n",
        "        },\n",
        "    metrics = {\n",
        "#        'regression': metrics.mae\n",
        "        'classification': metrics.categorical_accuracy\n",
        "        }\n",
        ")\n",
        "\n",
        "history1 = model.fit(\n",
        "    tensor[:len(density_matrices)-2000, :, :, :],\n",
        "    {#'regression': reg_label[:len(data)-20000]\n",
        "     'classification': label_array[:len(density_matrices)-2000]\n",
        "     },\n",
        "    batch_size = 125,\n",
        "    epochs = 4,\n",
        "    callbacks = callback_list,\n",
        "    validation_data = (tensor[len(density_matrices)-2000:len(density_matrices)-1000, :, :, :],\n",
        "                     {#'regression': reg_label[len(data)-20000:len(data)-10000]\n",
        "                      'classification': label_array[len(density_matrices)-2000:len(density_matrices)-1000]\n",
        "                      }\n",
        "                     ),\n",
        ")"
      ],
      "metadata": {
        "colab": {
          "base_uri": "https://localhost:8080/"
        },
        "id": "yuAQIcsm9M6N",
        "outputId": "c0a0c103-3640-489b-bc9f-6a6cb7d9dd7f"
      },
      "execution_count": null,
      "outputs": [
        {
          "output_type": "stream",
          "name": "stdout",
          "text": [
            "Epoch 1/4\n",
            "64/64 [==============================] - 21s 307ms/step - loss: 0.3938 - categorical_accuracy: 0.7880 - val_loss: 0.4300 - val_categorical_accuracy: 0.7740\n",
            "Epoch 2/4\n",
            "64/64 [==============================] - 19s 303ms/step - loss: 0.3806 - categorical_accuracy: 0.7922 - val_loss: 0.4021 - val_categorical_accuracy: 0.7850\n",
            "Epoch 3/4\n",
            "64/64 [==============================] - 20s 318ms/step - loss: 0.3768 - categorical_accuracy: 0.7972 - val_loss: 0.4189 - val_categorical_accuracy: 0.7630\n",
            "Epoch 4/4\n",
            "64/64 [==============================] - 19s 302ms/step - loss: 0.3712 - categorical_accuracy: 0.7995 - val_loss: 0.4058 - val_categorical_accuracy: 0.7830\n"
          ]
        }
      ]
    },
    {
      "cell_type": "code",
      "source": [
        "model.evaluate(tensor[len(density_matrices)-1000:len(density_matrices), :, :, :], label_array[len(density_matrices)-1000:len(density_matrices), :])"
      ],
      "metadata": {
        "colab": {
          "base_uri": "https://localhost:8080/"
        },
        "id": "-hEi7Lyk9PMD",
        "outputId": "d87855b9-fb8b-4873-c2f9-33e46bdaa331"
      },
      "execution_count": null,
      "outputs": [
        {
          "output_type": "stream",
          "name": "stdout",
          "text": [
            "32/32 [==============================] - 1s 10ms/step - loss: 0.3809 - categorical_accuracy: 0.7930\n"
          ]
        },
        {
          "output_type": "execute_result",
          "data": {
            "text/plain": [
              "[0.38086777925491333, 0.7929999828338623]"
            ]
          },
          "metadata": {},
          "execution_count": 89
        }
      ]
    },
    {
      "cell_type": "code",
      "source": [
        "IX_IY_IZ_XI_XX_XY_XZ_YI_YX_YZ_ZI_ZX_ZY_removed = IX_IY_IZ_XI_XX_XY_XZ_YI_YX_YZ_ZI_ZX_ZY_removed.reshape([len(density_matrices), 4, 4])\n",
        "IX_IY_IZ_XI_XX_XY_XZ_YI_YX_YZ_ZI_ZX_ZY_ZZ_removed = np.empty([len(density_matrices), 4, 4], dtype=complex)\n",
        "for i in range(len(density_matrices)):\n",
        "  IX_IY_IZ_XI_XX_XY_XZ_YI_YX_YZ_ZI_ZX_ZY_ZZ_removed[i, :, :] = IX_IY_IZ_XI_XX_XY_XZ_YI_YX_YZ_ZI_ZX_ZY_removed[i, :, :] - (np.trace(np.matmul((density_matrices[i, :, :]), ZZ))/4 * ZZ)"
      ],
      "metadata": {
        "id": "5yh8ffD69Xh2"
      },
      "execution_count": null,
      "outputs": []
    },
    {
      "cell_type": "code",
      "source": [
        "IX_IY_IZ_XI_XX_XY_XZ_YI_YX_YZ_ZI_ZX_ZY_ZZ_removed = IX_IY_IZ_XI_XX_XY_XZ_YI_YX_YZ_ZI_ZX_ZY_ZZ_removed.reshape(len(density_matrices), 16)"
      ],
      "metadata": {
        "id": "IOJKvldI-ZVf"
      },
      "execution_count": null,
      "outputs": []
    },
    {
      "cell_type": "code",
      "source": [
        "# Separating real and imaginary values\n",
        "vector1 = np.empty([len(density_matrices), 32], dtype=np.float32)\n",
        "for i in range(len(density_matrices)):\n",
        "    for j in range(16):\n",
        "        vector1[i, 2 * j] = IX_IY_IZ_XI_XX_XY_XZ_YI_YX_YZ_ZI_ZX_ZY_ZZ_removed[i, j].real\n",
        "        vector1[i, 2 * j + 1] = IX_IY_IZ_XI_XX_XY_XZ_YI_YX_YZ_ZI_ZX_ZY_ZZ_removed[i, j].imag\n",
        "# Reshaping to 3D tensors\n",
        "del IX_IY_IZ_XI_XX_XY_XZ_YI_YX_YZ_ZI_ZX_ZY_removed\n",
        "tensor = vector1.reshape(len(density_matrices), 4, 4, 2)"
      ],
      "metadata": {
        "id": "pqIGUOxC-eFq"
      },
      "execution_count": null,
      "outputs": []
    },
    {
      "cell_type": "code",
      "source": [
        "model.compile(\n",
        "    optimizer = optimizers.SGD(\n",
        "        learning_rate = 0.01, momentum = 0.9,\n",
        "    ),\n",
        "    loss = {\n",
        "#        'regression': losses.mse\n",
        "        'classification': losses.categorical_crossentropy\n",
        "        },\n",
        "    metrics = {\n",
        "#        'regression': metrics.mae\n",
        "        'classification': metrics.categorical_accuracy\n",
        "        }\n",
        ")\n",
        "\n",
        "history1 = model.fit(\n",
        "    tensor[:len(density_matrices)-2000, :, :, :],\n",
        "    {#'regression': reg_label[:len(data)-20000]\n",
        "     'classification': label_array[:len(density_matrices)-2000]\n",
        "     },\n",
        "    batch_size = 125,\n",
        "    epochs = 4,\n",
        "    callbacks = callback_list,\n",
        "    validation_data = (tensor[len(density_matrices)-2000:len(density_matrices)-1000, :, :, :],\n",
        "                     {#'regression': reg_label[len(data)-20000:len(data)-10000]\n",
        "                      'classification': label_array[len(density_matrices)-2000:len(density_matrices)-1000]\n",
        "                      }\n",
        "                     ),\n",
        ")"
      ],
      "metadata": {
        "colab": {
          "base_uri": "https://localhost:8080/"
        },
        "id": "Wau14EZS-jk_",
        "outputId": "63148ec7-2f9e-478c-c96f-6a9aa3db9703"
      },
      "execution_count": null,
      "outputs": [
        {
          "output_type": "stream",
          "name": "stdout",
          "text": [
            "Epoch 1/4\n",
            "64/64 [==============================] - 22s 312ms/step - loss: 0.7689 - categorical_accuracy: 0.6130 - val_loss: 0.5961 - val_categorical_accuracy: 0.6880\n",
            "Epoch 2/4\n",
            "64/64 [==============================] - 21s 320ms/step - loss: 0.5891 - categorical_accuracy: 0.6939 - val_loss: 0.5901 - val_categorical_accuracy: 0.6880\n",
            "Epoch 3/4\n",
            "64/64 [==============================] - 19s 298ms/step - loss: 0.5850 - categorical_accuracy: 0.6938 - val_loss: 0.5883 - val_categorical_accuracy: 0.6930\n",
            "Epoch 4/4\n",
            "64/64 [==============================] - 19s 301ms/step - loss: 0.5859 - categorical_accuracy: 0.6889 - val_loss: 0.5825 - val_categorical_accuracy: 0.6910\n"
          ]
        }
      ]
    },
    {
      "cell_type": "code",
      "source": [
        "model.evaluate(tensor[len(density_matrices)-1000:len(density_matrices), :, :, :], label_array[len(density_matrices)-1000:len(density_matrices), :])"
      ],
      "metadata": {
        "colab": {
          "base_uri": "https://localhost:8080/"
        },
        "id": "l5iMRhND-mOD",
        "outputId": "54b0b09a-763a-40ac-ea23-1bf015154cfa"
      },
      "execution_count": null,
      "outputs": [
        {
          "output_type": "stream",
          "name": "stdout",
          "text": [
            "32/32 [==============================] - 1s 13ms/step - loss: 0.6110 - categorical_accuracy: 0.6670\n"
          ]
        },
        {
          "output_type": "execute_result",
          "data": {
            "text/plain": [
              "[0.6110350489616394, 0.6669999957084656]"
            ]
          },
          "metadata": {},
          "execution_count": 97
        }
      ]
    },
    {
      "cell_type": "code",
      "source": [
        "IX_IY_IZ_XI_XX_XY_XZ_YI_YX_YZ_ZI_ZX_ZY_ZZ_removed = IX_IY_IZ_XI_XX_XY_XZ_YI_YX_YZ_ZI_ZX_ZY_ZZ_removed.reshape([len(density_matrices), 4, 4])\n",
        "IX_IY_IZ_XI_XX_XY_XZ_YI_YX_YZ_ZI_ZX_ZY_ZZ_YY_removed = np.empty([len(density_matrices), 4, 4], dtype=complex)\n",
        "for i in range(len(density_matrices)):\n",
        "  IX_IY_IZ_XI_XX_XY_XZ_YI_YX_YZ_ZI_ZX_ZY_ZZ_YY_removed[i, :, :] = IX_IY_IZ_XI_XX_XY_XZ_YI_YX_YZ_ZI_ZX_ZY_ZZ_removed[i, :, :] - (np.trace(np.matmul((density_matrices[i, :, :]), YY))/4 * YY)"
      ],
      "metadata": {
        "id": "KuwvnWHn_BpZ"
      },
      "execution_count": null,
      "outputs": []
    },
    {
      "cell_type": "code",
      "source": [
        "IX_IY_IZ_XI_XX_XY_XZ_YI_YX_YZ_ZI_ZX_ZY_ZZ_YY_removed = IX_IY_IZ_XI_XX_XY_XZ_YI_YX_YZ_ZI_ZX_ZY_ZZ_YY_removed.reshape(len(density_matrices), 16)"
      ],
      "metadata": {
        "id": "Kg7uTe1mBc33"
      },
      "execution_count": null,
      "outputs": []
    },
    {
      "cell_type": "code",
      "source": [
        "# Separating real and imaginary values\n",
        "vector1 = np.empty([len(density_matrices), 32], dtype=np.float32)\n",
        "for i in range(len(density_matrices)):\n",
        "    for j in range(16):\n",
        "        vector1[i, 2 * j] = IX_IY_IZ_XI_XX_XY_XZ_YI_YX_YZ_ZI_ZX_ZY_ZZ_YY_removed[i, j].real\n",
        "        vector1[i, 2 * j + 1] = IX_IY_IZ_XI_XX_XY_XZ_YI_YX_YZ_ZI_ZX_ZY_ZZ_YY_removed[i, j].imag\n",
        "# Reshaping to 3D tensors\n",
        "del IX_IY_IZ_XI_XX_XY_XZ_YI_YX_YZ_ZI_ZX_ZY_ZZ_removed\n",
        "tensor = vector1.reshape(len(density_matrices), 4, 4, 2)"
      ],
      "metadata": {
        "id": "Q1HPGl2IBgxX"
      },
      "execution_count": null,
      "outputs": []
    },
    {
      "cell_type": "code",
      "source": [
        "model.compile(\n",
        "    optimizer = optimizers.SGD(\n",
        "        learning_rate = 0.01, momentum = 0.9,\n",
        "    ),\n",
        "    loss = {\n",
        "#        'regression': losses.mse\n",
        "        'classification': losses.categorical_crossentropy\n",
        "        },\n",
        "    metrics = {\n",
        "#        'regression': metrics.mae\n",
        "        'classification': metrics.categorical_accuracy\n",
        "        }\n",
        ")\n",
        "\n",
        "history1 = model.fit(\n",
        "    tensor[:len(density_matrices)-2000, :, :, :],\n",
        "    {#'regression': reg_label[:len(data)-20000]\n",
        "     'classification': label_array[:len(density_matrices)-2000]\n",
        "     },\n",
        "    batch_size = 125,\n",
        "    epochs = 4,\n",
        "    callbacks = callback_list,\n",
        "    validation_data = (tensor[len(density_matrices)-2000:len(density_matrices)-1000, :, :, :],\n",
        "                     {#'regression': reg_label[len(data)-20000:len(data)-10000]\n",
        "                      'classification': label_array[len(density_matrices)-2000:len(density_matrices)-1000]\n",
        "                      }\n",
        "                     ),\n",
        ")"
      ],
      "metadata": {
        "colab": {
          "base_uri": "https://localhost:8080/"
        },
        "id": "9HMxD-riBmBK",
        "outputId": "c713a4fe-6948-4055-a7d7-ece2c263c4fa"
      },
      "execution_count": null,
      "outputs": [
        {
          "output_type": "stream",
          "name": "stdout",
          "text": [
            "Epoch 1/4\n",
            "64/64 [==============================] - 21s 310ms/step - loss: 0.7036 - categorical_accuracy: 0.4958 - val_loss: 0.6938 - val_categorical_accuracy: 0.5000\n",
            "Epoch 2/4\n",
            "64/64 [==============================] - 20s 314ms/step - loss: 0.6942 - categorical_accuracy: 0.4886 - val_loss: 0.6932 - val_categorical_accuracy: 0.5000\n",
            "Epoch 3/4\n",
            "64/64 [==============================] - 20s 314ms/step - loss: 0.6932 - categorical_accuracy: 0.5073 - val_loss: 0.6942 - val_categorical_accuracy: 0.5000\n",
            "Epoch 4/4\n",
            "64/64 [==============================] - 19s 303ms/step - loss: 0.6941 - categorical_accuracy: 0.4947 - val_loss: 0.6932 - val_categorical_accuracy: 0.5000\n"
          ]
        }
      ]
    },
    {
      "cell_type": "code",
      "source": [
        "model.evaluate(tensor[len(density_matrices)-1000:len(density_matrices), :, :, :], label_array[len(density_matrices)-1000:len(density_matrices), :])"
      ],
      "metadata": {
        "colab": {
          "base_uri": "https://localhost:8080/"
        },
        "id": "M52WfVmNBnJF",
        "outputId": "ca30a032-7b5e-4f6e-ae6c-54e1f2e5085e"
      },
      "execution_count": null,
      "outputs": [
        {
          "output_type": "stream",
          "name": "stdout",
          "text": [
            "32/32 [==============================] - 1s 10ms/step - loss: 0.6932 - categorical_accuracy: 0.5000\n"
          ]
        },
        {
          "output_type": "execute_result",
          "data": {
            "text/plain": [
              "[0.6932384967803955, 0.5]"
            ]
          },
          "metadata": {},
          "execution_count": 103
        }
      ]
    },
    {
      "cell_type": "code",
      "source": [],
      "metadata": {
        "id": "a2pptmMJBpDY"
      },
      "execution_count": null,
      "outputs": []
    }
  ],
  "metadata": {
    "colab": {
      "provenance": []
    },
    "kernelspec": {
      "display_name": "Python 3",
      "name": "python3"
    },
    "language_info": {
      "name": "python"
    }
  },
  "nbformat": 4,
  "nbformat_minor": 0
}